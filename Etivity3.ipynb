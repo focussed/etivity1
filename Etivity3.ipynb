{
  "nbformat": 4,
  "nbformat_minor": 0,
  "metadata": {
    "colab": {
      "name": "Etivity3.ipynb",
      "provenance": [],
      "collapsed_sections": [],
      "authorship_tag": "ABX9TyP8jPIAVHDIl6DsLeQ8BLcB",
      "include_colab_link": true
    },
    "kernelspec": {
      "name": "python3",
      "display_name": "Python 3"
    }
  },
  "cells": [
    {
      "cell_type": "markdown",
      "metadata": {
        "id": "view-in-github",
        "colab_type": "text"
      },
      "source": [
        "<a href=\"https://colab.research.google.com/github/focussed/etivity1/blob/master/Etivity3.ipynb\" target=\"_parent\"><img src=\"https://colab.research.google.com/assets/colab-badge.svg\" alt=\"Open In Colab\"/></a>"
      ]
    },
    {
      "cell_type": "markdown",
      "metadata": {
        "id": "XfiBJwkowjOK",
        "colab_type": "text"
      },
      "source": [
        "# Etivity 3\n",
        "## Best k Means value for the loans dataset\n",
        "\n",
        "\n",
        "\n",
        "## Evaluation of other clustering algorithms\n",
        "The nominations for best alternative clustering algorithm are:\n",
        "\n",
        "\n",
        "1.   Means shifting clustering\n",
        "This works akin to a TCP sliding window, for those experienced in networking.  Candidates for the next best centroid point are based on the mean distances between all points within the window.  The big advantage over k means clustering is there is no need to select the number of clusters as the algorithm does it.\n",
        "\n",
        "2.   DBScan\n",
        "This is similar to the means shifting clustering algorithm as it does not need you to select the number of clusters and also, it handles outliers as noise.  It is not great with clusters of different densities.\n",
        "\n",
        "3.   Gaussian Mixture Models\n",
        "This algorihm uses the mean AND the standard deviation values to estimate the shape and size of the clusters.  Knowing statistics, this make me more happier as I know they better describe the data.\n",
        "\n",
        "I hope to evaluate at least one these in the alternative clustering analysis of the data.\n",
        "\n",
        "\n"
      ]
    },
    {
      "cell_type": "code",
      "metadata": {
        "id": "AgNdYcjBwgau",
        "colab_type": "code",
        "colab": {}
      },
      "source": [
        "import pandas as pd\n",
        "import numpy as np\n",
        "import matplotlib.pyplot as plt\n",
        "\n",
        "from sklearn import manifold #needed for multidimensional scaling (MDS) and t-SNE\n",
        "from sklearn import cluster #needed for k-Means clustering\n",
        "from sklearn import preprocessing #needed for scaling attributes to the nterval [0,1]"
      ],
      "execution_count": 0,
      "outputs": []
    },
    {
      "cell_type": "code",
      "metadata": {
        "id": "8AMBfwJdpkOB",
        "colab_type": "code",
        "colab": {
          "base_uri": "https://localhost:8080/",
          "height": 34
        },
        "outputId": "962a1c27-6020-4b18-8b71-365b853ef02b"
      },
      "source": [
        "url_train = 'https://raw.githubusercontent.com/focussed/etivity1/master/loans_train_prepared.csv'\n",
        "df = pd.read_csv(url_train)\n",
        "data = np.array(df.values, dtype=float)\n",
        "print('(number of examples, number of attributes): ', data.shape)"
      ],
      "execution_count": 61,
      "outputs": [
        {
          "output_type": "stream",
          "text": [
            "(number of examples, number of attributes):  (614, 16)\n"
          ],
          "name": "stdout"
        }
      ]
    },
    {
      "cell_type": "markdown",
      "metadata": {
        "id": "aJ3Pdqh1qzti",
        "colab_type": "text"
      },
      "source": [
        "### Rescaling\n",
        "There is no need to rescale this dataset as it is all in normalised form (0..1)"
      ]
    },
    {
      "cell_type": "markdown",
      "metadata": {
        "id": "Wm0h8UD-rtQq",
        "colab_type": "text"
      },
      "source": [
        "Setup the plot definitions"
      ]
    },
    {
      "cell_type": "code",
      "metadata": {
        "id": "TL1bz1iyrxmS",
        "colab_type": "code",
        "colab": {}
      },
      "source": [
        "colors = np.array(['orange', 'blue', 'lime', 'blue', 'khaki', 'pink', 'green', 'purple'])\n",
        "\n",
        "# points - a 2D array of (x,y) coordinates of data points\n",
        "# labels - an array of numeric labels in the interval [0..k-1], one for each point\n",
        "# centers - a 2D array of (x, y) coordinates of cluster centers\n",
        "# title - title of the plot\n",
        "\n",
        "\n",
        "def clustering_scatterplot(points, labels, centers, title):\n",
        "    \n",
        "    \n",
        "    n_clusters = np.unique(labels).size\n",
        "    for i in range(n_clusters):\n",
        "        h = plt.scatter(points[labels==i,0],\n",
        "                        points[labels==i,1], \n",
        "                        c=colors[i%colors.size],\n",
        "                        label = 'cluster '+str(i))\n",
        "\n",
        "    # plot the centers of the clusters\n",
        "    if centers is not None:\n",
        "        plt.scatter(centers[:,0], centers[:,1], c='r', marker='*', s=500)\n",
        "\n",
        "    _ = plt.title(title)\n",
        "    _ = plt.legend()\n",
        "    _ = plt.xlabel('x')\n",
        "    _ = plt.ylabel('y')"
      ],
      "execution_count": 0,
      "outputs": []
    },
    {
      "cell_type": "markdown",
      "metadata": {
        "id": "VKacT43truFz",
        "colab_type": "text"
      },
      "source": [
        "## Set the k means value"
      ]
    },
    {
      "cell_type": "code",
      "metadata": {
        "id": "CKpjGGyNrP4Q",
        "colab_type": "code",
        "colab": {}
      },
      "source": [
        "k = 2"
      ],
      "execution_count": 0,
      "outputs": []
    },
    {
      "cell_type": "code",
      "metadata": {
        "id": "ViOKAt1usNbO",
        "colab_type": "code",
        "colab": {}
      },
      "source": [
        "clustered_data_sklearn = cluster.KMeans(n_clusters=k, n_init=10, max_iter=300).fit(data)"
      ],
      "execution_count": 0,
      "outputs": []
    },
    {
      "cell_type": "code",
      "metadata": {
        "id": "nBHc5RcwrWqh",
        "colab_type": "code",
        "colab": {}
      },
      "source": [
        "data_and_centers = np.r_[data,clustered_data_sklearn.cluster_centers_]  "
      ],
      "execution_count": 0,
      "outputs": []
    },
    {
      "cell_type": "code",
      "metadata": {
        "id": "-7K1YruGrZZe",
        "colab_type": "code",
        "colab": {
          "base_uri": "https://localhost:8080/",
          "height": 34
        },
        "outputId": "7f46185a-c1db-4891-be2c-528c902d2dfd"
      },
      "source": [
        "XYcoordinates = manifold.MDS(n_components=2).fit_transform(data_and_centers)\n",
        "print(\"transformation complete\")"
      ],
      "execution_count": 66,
      "outputs": [
        {
          "output_type": "stream",
          "text": [
            "transformation complete\n"
          ],
          "name": "stdout"
        }
      ]
    },
    {
      "cell_type": "code",
      "metadata": {
        "id": "bqHOBpmLrdMM",
        "colab_type": "code",
        "colab": {
          "base_uri": "https://localhost:8080/",
          "height": 295
        },
        "outputId": "fe72b170-4224-4dd7-f875-4e4bc5a685dc"
      },
      "source": [
        "clustering_scatterplot(points=XYcoordinates[:-k,:], \n",
        "                       labels=clustered_data_sklearn.labels_, \n",
        "                       centers=XYcoordinates[-k:,:], \n",
        "                       title='MDS')"
      ],
      "execution_count": 67,
      "outputs": [
        {
          "output_type": "display_data",
          "data": {
            "image/png": "[encoded data removed]",
            "text/plain": [
              "<Figure size 432x288 with 1 Axes>"
            ]
          },
          "metadata": {
            "tags": []
          }
        }
      ]
    },
    {
      "cell_type": "markdown",
      "metadata": {
        "id": "zxkWCyBesl_E",
        "colab_type": "text"
      },
      "source": [
        "Apply t-SNE "
      ]
    },
    {
      "cell_type": "code",
      "metadata": {
        "id": "ed-mlkjLsrvM",
        "colab_type": "code",
        "colab": {
          "base_uri": "https://localhost:8080/",
          "height": 34
        },
        "outputId": "0cddf8e8-e763-42b8-a761-e6ecf89a7760"
      },
      "source": [
        "XYcoordinates = manifold.TSNE(n_components=2).fit_transform(data_and_centers)\n",
        "print(\"transformation complete\")"
      ],
      "execution_count": 68,
      "outputs": [
        {
          "output_type": "stream",
          "text": [
            "transformation complete\n"
          ],
          "name": "stdout"
        }
      ]
    },
    {
      "cell_type": "code",
      "metadata": {
        "id": "Fu5AccZasuJg",
        "colab_type": "code",
        "colab": {
          "base_uri": "https://localhost:8080/",
          "height": 295
        },
        "outputId": "b9bafb67-db23-4517-d13d-96a8929dba36"
      },
      "source": [
        "clustering_scatterplot(points=XYcoordinates[:-k,:], \n",
        "                       labels=clustered_data_sklearn.labels_,\n",
        "                       centers=XYcoordinates[-k:,:], \n",
        "                       title='TSNE')"
      ],
      "execution_count": 69,
      "outputs": [
        {
          "output_type": "display_data",
          "data": {
            "image/png": "[encoded data removed]",
            "text/plain": [
              "<Figure size 432x288 with 1 Axes>"
            ]
          },
          "metadata": {
            "tags": []
          }
        }
      ]
    },
    {
      "cell_type": "code",
      "metadata": {
        "id": "YcCD7Ro1sxpJ",
        "colab_type": "code",
        "colab": {}
      },
      "source": [
        "df['cluster'] = pd.Series(clustered_data_sklearn.labels_, index=df.index)"
      ],
      "execution_count": 0,
      "outputs": []
    },
    {
      "cell_type": "code",
      "metadata": {
        "id": "8kWejVu3s1SX",
        "colab_type": "code",
        "colab": {
          "base_uri": "https://localhost:8080/",
          "height": 261
        },
        "outputId": "724d13c5-d2d6-462e-a83d-f8b9e6724df8"
      },
      "source": [
        "df.head()"
      ],
      "execution_count": 71,
      "outputs": [
        {
          "output_type": "execute_result",
          "data": {
            "text/html": [
              "<div>\n",
              "<style scoped>\n",
              "    .dataframe tbody tr th:only-of-type {\n",
              "        vertical-align: middle;\n",
              "    }\n",
              "\n",
              "    .dataframe tbody tr th {\n",
              "        vertical-align: top;\n",
              "    }\n",
              "\n",
              "    .dataframe thead th {\n",
              "        text-align: right;\n",
              "    }\n",
              "</style>\n",
              "<table border=\"1\" class=\"dataframe\">\n",
              "  <thead>\n",
              "    <tr style=\"text-align: right;\">\n",
              "      <th></th>\n",
              "      <th>Dependents</th>\n",
              "      <th>ApplicantIncome</th>\n",
              "      <th>LoanAmount</th>\n",
              "      <th>Loan_Amount_Term</th>\n",
              "      <th>Credit_History</th>\n",
              "      <th>Gender_Male</th>\n",
              "      <th>Gender_nan</th>\n",
              "      <th>Married_Yes</th>\n",
              "      <th>Married_nan</th>\n",
              "      <th>Self_Employed_Yes</th>\n",
              "      <th>Self_Employed_nan</th>\n",
              "      <th>Education_Not Graduate</th>\n",
              "      <th>Property_Area_Semiurban</th>\n",
              "      <th>Property_Area_Urban</th>\n",
              "      <th>Loan_Status_Y</th>\n",
              "      <th>TotalIncome</th>\n",
              "      <th>cluster</th>\n",
              "    </tr>\n",
              "  </thead>\n",
              "  <tbody>\n",
              "    <tr>\n",
              "      <th>0</th>\n",
              "      <td>0.000000</td>\n",
              "      <td>1.084523</td>\n",
              "      <td>1.058140</td>\n",
              "      <td>0.75</td>\n",
              "      <td>1</td>\n",
              "      <td>1</td>\n",
              "      <td>0</td>\n",
              "      <td>0</td>\n",
              "      <td>0</td>\n",
              "      <td>0</td>\n",
              "      <td>0</td>\n",
              "      <td>0</td>\n",
              "      <td>0</td>\n",
              "      <td>1</td>\n",
              "      <td>1</td>\n",
              "      <td>0.841086</td>\n",
              "      <td>1</td>\n",
              "    </tr>\n",
              "    <tr>\n",
              "      <th>1</th>\n",
              "      <td>0.333333</td>\n",
              "      <td>0.925883</td>\n",
              "      <td>1.047319</td>\n",
              "      <td>0.75</td>\n",
              "      <td>1</td>\n",
              "      <td>1</td>\n",
              "      <td>0</td>\n",
              "      <td>1</td>\n",
              "      <td>0</td>\n",
              "      <td>0</td>\n",
              "      <td>0</td>\n",
              "      <td>0</td>\n",
              "      <td>0</td>\n",
              "      <td>0</td>\n",
              "      <td>0</td>\n",
              "      <td>0.871711</td>\n",
              "      <td>1</td>\n",
              "    </tr>\n",
              "    <tr>\n",
              "      <th>2</th>\n",
              "      <td>0.000000</td>\n",
              "      <td>0.683858</td>\n",
              "      <td>0.635920</td>\n",
              "      <td>0.75</td>\n",
              "      <td>1</td>\n",
              "      <td>1</td>\n",
              "      <td>0</td>\n",
              "      <td>1</td>\n",
              "      <td>0</td>\n",
              "      <td>1</td>\n",
              "      <td>0</td>\n",
              "      <td>0</td>\n",
              "      <td>0</td>\n",
              "      <td>1</td>\n",
              "      <td>1</td>\n",
              "      <td>0.385189</td>\n",
              "      <td>1</td>\n",
              "    </tr>\n",
              "    <tr>\n",
              "      <th>3</th>\n",
              "      <td>0.000000</td>\n",
              "      <td>0.608992</td>\n",
              "      <td>1.002824</td>\n",
              "      <td>0.75</td>\n",
              "      <td>1</td>\n",
              "      <td>1</td>\n",
              "      <td>0</td>\n",
              "      <td>1</td>\n",
              "      <td>0</td>\n",
              "      <td>0</td>\n",
              "      <td>0</td>\n",
              "      <td>1</td>\n",
              "      <td>0</td>\n",
              "      <td>1</td>\n",
              "      <td>1</td>\n",
              "      <td>0.717012</td>\n",
              "      <td>1</td>\n",
              "    </tr>\n",
              "    <tr>\n",
              "      <th>4</th>\n",
              "      <td>0.000000</td>\n",
              "      <td>1.101869</td>\n",
              "      <td>1.115650</td>\n",
              "      <td>0.75</td>\n",
              "      <td>1</td>\n",
              "      <td>1</td>\n",
              "      <td>0</td>\n",
              "      <td>0</td>\n",
              "      <td>0</td>\n",
              "      <td>0</td>\n",
              "      <td>0</td>\n",
              "      <td>0</td>\n",
              "      <td>0</td>\n",
              "      <td>1</td>\n",
              "      <td>1</td>\n",
              "      <td>0.860305</td>\n",
              "      <td>1</td>\n",
              "    </tr>\n",
              "  </tbody>\n",
              "</table>\n",
              "</div>"
            ],
            "text/plain": [
              "   Dependents  ApplicantIncome  LoanAmount  ...  Loan_Status_Y  TotalIncome  cluster\n",
              "0    0.000000         1.084523    1.058140  ...              1     0.841086        1\n",
              "1    0.333333         0.925883    1.047319  ...              0     0.871711        1\n",
              "2    0.000000         0.683858    0.635920  ...              1     0.385189        1\n",
              "3    0.000000         0.608992    1.002824  ...              1     0.717012        1\n",
              "4    0.000000         1.101869    1.115650  ...              1     0.860305        1\n",
              "\n",
              "[5 rows x 17 columns]"
            ]
          },
          "metadata": {
            "tags": []
          },
          "execution_count": 71
        }
      ]
    },
    {
      "cell_type": "code",
      "metadata": {
        "id": "0OiHEPmPs5H0",
        "colab_type": "code",
        "colab": {
          "base_uri": "https://localhost:8080/",
          "height": 199
        },
        "outputId": "714176b5-fd5e-46ff-e69e-73842f0b67ec"
      },
      "source": [
        "df.groupby('cluster').mean()"
      ],
      "execution_count": 72,
      "outputs": [
        {
          "output_type": "execute_result",
          "data": {
            "text/html": [
              "<div>\n",
              "<style scoped>\n",
              "    .dataframe tbody tr th:only-of-type {\n",
              "        vertical-align: middle;\n",
              "    }\n",
              "\n",
              "    .dataframe tbody tr th {\n",
              "        vertical-align: top;\n",
              "    }\n",
              "\n",
              "    .dataframe thead th {\n",
              "        text-align: right;\n",
              "    }\n",
              "</style>\n",
              "<table border=\"1\" class=\"dataframe\">\n",
              "  <thead>\n",
              "    <tr style=\"text-align: right;\">\n",
              "      <th></th>\n",
              "      <th>Dependents</th>\n",
              "      <th>ApplicantIncome</th>\n",
              "      <th>LoanAmount</th>\n",
              "      <th>Loan_Amount_Term</th>\n",
              "      <th>Credit_History</th>\n",
              "      <th>Gender_Male</th>\n",
              "      <th>Gender_nan</th>\n",
              "      <th>Married_Yes</th>\n",
              "      <th>Married_nan</th>\n",
              "      <th>Self_Employed_Yes</th>\n",
              "      <th>Self_Employed_nan</th>\n",
              "      <th>Education_Not Graduate</th>\n",
              "      <th>Property_Area_Semiurban</th>\n",
              "      <th>Property_Area_Urban</th>\n",
              "      <th>Loan_Status_Y</th>\n",
              "      <th>TotalIncome</th>\n",
              "    </tr>\n",
              "    <tr>\n",
              "      <th>cluster</th>\n",
              "      <th></th>\n",
              "      <th></th>\n",
              "      <th></th>\n",
              "      <th></th>\n",
              "      <th></th>\n",
              "      <th></th>\n",
              "      <th></th>\n",
              "      <th></th>\n",
              "      <th></th>\n",
              "      <th></th>\n",
              "      <th></th>\n",
              "      <th></th>\n",
              "      <th></th>\n",
              "      <th></th>\n",
              "      <th></th>\n",
              "      <th></th>\n",
              "    </tr>\n",
              "  </thead>\n",
              "  <tbody>\n",
              "    <tr>\n",
              "      <th>0</th>\n",
              "      <td>0.248927</td>\n",
              "      <td>0.914184</td>\n",
              "      <td>1.078738</td>\n",
              "      <td>0.723498</td>\n",
              "      <td>0.871245</td>\n",
              "      <td>0.738197</td>\n",
              "      <td>0.025751</td>\n",
              "      <td>0.648069</td>\n",
              "      <td>0.008584</td>\n",
              "      <td>0.137339</td>\n",
              "      <td>0.042918</td>\n",
              "      <td>0.197425</td>\n",
              "      <td>1.0</td>\n",
              "      <td>0.000000</td>\n",
              "      <td>0.768240</td>\n",
              "      <td>0.851417</td>\n",
              "    </tr>\n",
              "    <tr>\n",
              "      <th>1</th>\n",
              "      <td>0.247594</td>\n",
              "      <td>0.918059</td>\n",
              "      <td>1.074684</td>\n",
              "      <td>0.707152</td>\n",
              "      <td>0.845144</td>\n",
              "      <td>0.832021</td>\n",
              "      <td>0.018373</td>\n",
              "      <td>0.648294</td>\n",
              "      <td>0.002625</td>\n",
              "      <td>0.131234</td>\n",
              "      <td>0.057743</td>\n",
              "      <td>0.230971</td>\n",
              "      <td>0.0</td>\n",
              "      <td>0.530184</td>\n",
              "      <td>0.637795</td>\n",
              "      <td>0.869577</td>\n",
              "    </tr>\n",
              "  </tbody>\n",
              "</table>\n",
              "</div>"
            ],
            "text/plain": [
              "         Dependents  ApplicantIncome  ...  Loan_Status_Y  TotalIncome\n",
              "cluster                               ...                            \n",
              "0          0.248927         0.914184  ...       0.768240     0.851417\n",
              "1          0.247594         0.918059  ...       0.637795     0.869577\n",
              "\n",
              "[2 rows x 16 columns]"
            ]
          },
          "metadata": {
            "tags": []
          },
          "execution_count": 72
        }
      ]
    },
    {
      "cell_type": "markdown",
      "metadata": {
        "id": "z8U1U5eWtRJc",
        "colab_type": "text"
      },
      "source": [
        "# Setting k to a larger value\n"
      ]
    },
    {
      "cell_type": "code",
      "metadata": {
        "id": "6rro0YfGtY-9",
        "colab_type": "code",
        "colab": {}
      },
      "source": [
        ""
      ],
      "execution_count": 0,
      "outputs": []
    },
    {
      "cell_type": "markdown",
      "metadata": {
        "id": "reUINCeGtR7m",
        "colab_type": "text"
      },
      "source": [
        ""
      ]
    }
  ]
}