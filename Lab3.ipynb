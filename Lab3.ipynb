{
  "nbformat": 4,
  "nbformat_minor": 0,
  "metadata": {
    "kernelspec": {
      "display_name": "Python 3",
      "language": "python",
      "name": "python3"
    },
    "language_info": {
      "codemirror_mode": {
        "name": "ipython",
        "version": 3
      },
      "file_extension": ".py",
      "mimetype": "text/x-python",
      "name": "python",
      "nbconvert_exporter": "python",
      "pygments_lexer": "ipython3",
      "version": "3.6.5"
    },
    "colab": {
      "name": "Lab3.ipynb",
      "provenance": [],
      "include_colab_link": true
    }
  },
  "cells": [
    {
      "cell_type": "markdown",
      "metadata": {
        "id": "view-in-github",
        "colab_type": "text"
      },
      "source": [
        "<a href=\"https://colab.research.google.com/github/focussed/etivity1/blob/master/Lab3.ipynb\" target=\"_parent\"><img src=\"https://colab.research.google.com/assets/colab-badge.svg\" alt=\"Open In Colab\"/></a>"
      ]
    },
    {
      "cell_type": "markdown",
      "metadata": {
        "id": "ep57bqZc6-F9",
        "colab_type": "text"
      },
      "source": [
        "# Lab 3: Clustering and Manifold Learning"
      ]
    },
    {
      "cell_type": "markdown",
      "metadata": {
        "id": "KH3ebiHx6-F-",
        "colab_type": "text"
      },
      "source": [
        "This notebook demonstrates:\n",
        "- the k-Means clustering algorithm\n",
        "- the use of manifold-learning techniques to project a clustered dataset into a 2D space and visualise it as a scatterplot\n",
        "\n",
        "It is assumed that the input dataset contains ___only numerical___ attributes. To use this code with a dataset that contains categorical attributes, they first need to be _somehow_ transformed to numerical. How categorical attributes can be represented as numerical may depend on the nature of the dataset.\n",
        "\n",
        "When you go through this notebook for the first time you may __skip section C__ and go back to it at the end."
      ]
    },
    {
      "cell_type": "markdown",
      "metadata": {
        "id": "VXKDDZTC6-GA",
        "colab_type": "text"
      },
      "source": [
        "### A. Import Python Modules and Dataset"
      ]
    },
    {
      "cell_type": "code",
      "metadata": {
        "id": "Fegn9QAf6-GC",
        "colab_type": "code",
        "colab": {}
      },
      "source": [
        "import pandas as pd\n",
        "import numpy as np\n",
        "import matplotlib.pyplot as plt\n",
        "\n",
        "from sklearn import manifold #needed for multidimensional scaling (MDS) and t-SNE\n",
        "from sklearn import cluster #needed for k-Means clustering\n",
        "from sklearn import preprocessing #needed for scaling attributes to the nterval [0,1]"
      ],
      "execution_count": 0,
      "outputs": []
    },
    {
      "cell_type": "markdown",
      "metadata": {
        "id": "9O3gZtJ56-GL",
        "colab_type": "text"
      },
      "source": [
        "#### Load the dataset"
      ]
    },
    {
      "cell_type": "code",
      "metadata": {
        "id": "sRpwae126-GM",
        "colab_type": "code",
        "colab": {
          "base_uri": "https://localhost:8080/",
          "height": 409
        },
        "outputId": "46eba6d1-670b-4a76-88a9-0186a55af64b"
      },
      "source": [
        "df = pd.read_csv(\"./iris_nolabels.csv\")\n",
        "data = np.array(df.values, dtype=float)\n",
        "print('(number of examples, number of attributes): ', data.shape)"
      ],
      "execution_count": 2,
      "outputs": [
        {
          "output_type": "error",
          "ename": "FileNotFoundError",
          "evalue": "ignored",
          "traceback": [
            "\u001b[0;31m---------------------------------------------------------------------------\u001b[0m",
            "\u001b[0;31mFileNotFoundError\u001b[0m                         Traceback (most recent call last)",
            "\u001b[0;32m<ipython-input-2-f1875b4a1d77>\u001b[0m in \u001b[0;36m<module>\u001b[0;34m()\u001b[0m\n\u001b[0;32m----> 1\u001b[0;31m \u001b[0mdf\u001b[0m \u001b[0;34m=\u001b[0m \u001b[0mpd\u001b[0m\u001b[0;34m.\u001b[0m\u001b[0mread_csv\u001b[0m\u001b[0;34m(\u001b[0m\u001b[0;34m\"./iris_nolabels.csv\"\u001b[0m\u001b[0;34m)\u001b[0m\u001b[0;34m\u001b[0m\u001b[0;34m\u001b[0m\u001b[0m\n\u001b[0m\u001b[1;32m      2\u001b[0m \u001b[0mdata\u001b[0m \u001b[0;34m=\u001b[0m \u001b[0mnp\u001b[0m\u001b[0;34m.\u001b[0m\u001b[0marray\u001b[0m\u001b[0;34m(\u001b[0m\u001b[0mdf\u001b[0m\u001b[0;34m.\u001b[0m\u001b[0mvalues\u001b[0m\u001b[0;34m,\u001b[0m \u001b[0mdtype\u001b[0m\u001b[0;34m=\u001b[0m\u001b[0mfloat\u001b[0m\u001b[0;34m)\u001b[0m\u001b[0;34m\u001b[0m\u001b[0;34m\u001b[0m\u001b[0m\n\u001b[1;32m      3\u001b[0m \u001b[0mprint\u001b[0m\u001b[0;34m(\u001b[0m\u001b[0;34m'(number of examples, number of attributes): '\u001b[0m\u001b[0;34m,\u001b[0m \u001b[0mdata\u001b[0m\u001b[0;34m.\u001b[0m\u001b[0mshape\u001b[0m\u001b[0;34m)\u001b[0m\u001b[0;34m\u001b[0m\u001b[0;34m\u001b[0m\u001b[0m\n",
            "\u001b[0;32m/usr/local/lib/python3.6/dist-packages/pandas/io/parsers.py\u001b[0m in \u001b[0;36mparser_f\u001b[0;34m(filepath_or_buffer, sep, delimiter, header, names, index_col, usecols, squeeze, prefix, mangle_dupe_cols, dtype, engine, converters, true_values, false_values, skipinitialspace, skiprows, skipfooter, nrows, na_values, keep_default_na, na_filter, verbose, skip_blank_lines, parse_dates, infer_datetime_format, keep_date_col, date_parser, dayfirst, cache_dates, iterator, chunksize, compression, thousands, decimal, lineterminator, quotechar, quoting, doublequote, escapechar, comment, encoding, dialect, error_bad_lines, warn_bad_lines, delim_whitespace, low_memory, memory_map, float_precision)\u001b[0m\n\u001b[1;32m    683\u001b[0m         )\n\u001b[1;32m    684\u001b[0m \u001b[0;34m\u001b[0m\u001b[0m\n\u001b[0;32m--> 685\u001b[0;31m         \u001b[0;32mreturn\u001b[0m \u001b[0m_read\u001b[0m\u001b[0;34m(\u001b[0m\u001b[0mfilepath_or_buffer\u001b[0m\u001b[0;34m,\u001b[0m \u001b[0mkwds\u001b[0m\u001b[0;34m)\u001b[0m\u001b[0;34m\u001b[0m\u001b[0;34m\u001b[0m\u001b[0m\n\u001b[0m\u001b[1;32m    686\u001b[0m \u001b[0;34m\u001b[0m\u001b[0m\n\u001b[1;32m    687\u001b[0m     \u001b[0mparser_f\u001b[0m\u001b[0;34m.\u001b[0m\u001b[0m__name__\u001b[0m \u001b[0;34m=\u001b[0m \u001b[0mname\u001b[0m\u001b[0;34m\u001b[0m\u001b[0;34m\u001b[0m\u001b[0m\n",
            "\u001b[0;32m/usr/local/lib/python3.6/dist-packages/pandas/io/parsers.py\u001b[0m in \u001b[0;36m_read\u001b[0;34m(filepath_or_buffer, kwds)\u001b[0m\n\u001b[1;32m    455\u001b[0m \u001b[0;34m\u001b[0m\u001b[0m\n\u001b[1;32m    456\u001b[0m     \u001b[0;31m# Create the parser.\u001b[0m\u001b[0;34m\u001b[0m\u001b[0;34m\u001b[0m\u001b[0;34m\u001b[0m\u001b[0m\n\u001b[0;32m--> 457\u001b[0;31m     \u001b[0mparser\u001b[0m \u001b[0;34m=\u001b[0m \u001b[0mTextFileReader\u001b[0m\u001b[0;34m(\u001b[0m\u001b[0mfp_or_buf\u001b[0m\u001b[0;34m,\u001b[0m \u001b[0;34m**\u001b[0m\u001b[0mkwds\u001b[0m\u001b[0;34m)\u001b[0m\u001b[0;34m\u001b[0m\u001b[0;34m\u001b[0m\u001b[0m\n\u001b[0m\u001b[1;32m    458\u001b[0m \u001b[0;34m\u001b[0m\u001b[0m\n\u001b[1;32m    459\u001b[0m     \u001b[0;32mif\u001b[0m \u001b[0mchunksize\u001b[0m \u001b[0;32mor\u001b[0m \u001b[0miterator\u001b[0m\u001b[0;34m:\u001b[0m\u001b[0;34m\u001b[0m\u001b[0;34m\u001b[0m\u001b[0m\n",
            "\u001b[0;32m/usr/local/lib/python3.6/dist-packages/pandas/io/parsers.py\u001b[0m in \u001b[0;36m__init__\u001b[0;34m(self, f, engine, **kwds)\u001b[0m\n\u001b[1;32m    893\u001b[0m             \u001b[0mself\u001b[0m\u001b[0;34m.\u001b[0m\u001b[0moptions\u001b[0m\u001b[0;34m[\u001b[0m\u001b[0;34m\"has_index_names\"\u001b[0m\u001b[0;34m]\u001b[0m \u001b[0;34m=\u001b[0m \u001b[0mkwds\u001b[0m\u001b[0;34m[\u001b[0m\u001b[0;34m\"has_index_names\"\u001b[0m\u001b[0;34m]\u001b[0m\u001b[0;34m\u001b[0m\u001b[0;34m\u001b[0m\u001b[0m\n\u001b[1;32m    894\u001b[0m \u001b[0;34m\u001b[0m\u001b[0m\n\u001b[0;32m--> 895\u001b[0;31m         \u001b[0mself\u001b[0m\u001b[0;34m.\u001b[0m\u001b[0m_make_engine\u001b[0m\u001b[0;34m(\u001b[0m\u001b[0mself\u001b[0m\u001b[0;34m.\u001b[0m\u001b[0mengine\u001b[0m\u001b[0;34m)\u001b[0m\u001b[0;34m\u001b[0m\u001b[0;34m\u001b[0m\u001b[0m\n\u001b[0m\u001b[1;32m    896\u001b[0m \u001b[0;34m\u001b[0m\u001b[0m\n\u001b[1;32m    897\u001b[0m     \u001b[0;32mdef\u001b[0m \u001b[0mclose\u001b[0m\u001b[0;34m(\u001b[0m\u001b[0mself\u001b[0m\u001b[0;34m)\u001b[0m\u001b[0;34m:\u001b[0m\u001b[0;34m\u001b[0m\u001b[0;34m\u001b[0m\u001b[0m\n",
            "\u001b[0;32m/usr/local/lib/python3.6/dist-packages/pandas/io/parsers.py\u001b[0m in \u001b[0;36m_make_engine\u001b[0;34m(self, engine)\u001b[0m\n\u001b[1;32m   1133\u001b[0m     \u001b[0;32mdef\u001b[0m \u001b[0m_make_engine\u001b[0m\u001b[0;34m(\u001b[0m\u001b[0mself\u001b[0m\u001b[0;34m,\u001b[0m \u001b[0mengine\u001b[0m\u001b[0;34m=\u001b[0m\u001b[0;34m\"c\"\u001b[0m\u001b[0;34m)\u001b[0m\u001b[0;34m:\u001b[0m\u001b[0;34m\u001b[0m\u001b[0;34m\u001b[0m\u001b[0m\n\u001b[1;32m   1134\u001b[0m         \u001b[0;32mif\u001b[0m \u001b[0mengine\u001b[0m \u001b[0;34m==\u001b[0m \u001b[0;34m\"c\"\u001b[0m\u001b[0;34m:\u001b[0m\u001b[0;34m\u001b[0m\u001b[0;34m\u001b[0m\u001b[0m\n\u001b[0;32m-> 1135\u001b[0;31m             \u001b[0mself\u001b[0m\u001b[0;34m.\u001b[0m\u001b[0m_engine\u001b[0m \u001b[0;34m=\u001b[0m \u001b[0mCParserWrapper\u001b[0m\u001b[0;34m(\u001b[0m\u001b[0mself\u001b[0m\u001b[0;34m.\u001b[0m\u001b[0mf\u001b[0m\u001b[0;34m,\u001b[0m \u001b[0;34m**\u001b[0m\u001b[0mself\u001b[0m\u001b[0;34m.\u001b[0m\u001b[0moptions\u001b[0m\u001b[0;34m)\u001b[0m\u001b[0;34m\u001b[0m\u001b[0;34m\u001b[0m\u001b[0m\n\u001b[0m\u001b[1;32m   1136\u001b[0m         \u001b[0;32melse\u001b[0m\u001b[0;34m:\u001b[0m\u001b[0;34m\u001b[0m\u001b[0;34m\u001b[0m\u001b[0m\n\u001b[1;32m   1137\u001b[0m             \u001b[0;32mif\u001b[0m \u001b[0mengine\u001b[0m \u001b[0;34m==\u001b[0m \u001b[0;34m\"python\"\u001b[0m\u001b[0;34m:\u001b[0m\u001b[0;34m\u001b[0m\u001b[0;34m\u001b[0m\u001b[0m\n",
            "\u001b[0;32m/usr/local/lib/python3.6/dist-packages/pandas/io/parsers.py\u001b[0m in \u001b[0;36m__init__\u001b[0;34m(self, src, **kwds)\u001b[0m\n\u001b[1;32m   1915\u001b[0m         \u001b[0mkwds\u001b[0m\u001b[0;34m[\u001b[0m\u001b[0;34m\"usecols\"\u001b[0m\u001b[0;34m]\u001b[0m \u001b[0;34m=\u001b[0m \u001b[0mself\u001b[0m\u001b[0;34m.\u001b[0m\u001b[0musecols\u001b[0m\u001b[0;34m\u001b[0m\u001b[0;34m\u001b[0m\u001b[0m\n\u001b[1;32m   1916\u001b[0m \u001b[0;34m\u001b[0m\u001b[0m\n\u001b[0;32m-> 1917\u001b[0;31m         \u001b[0mself\u001b[0m\u001b[0;34m.\u001b[0m\u001b[0m_reader\u001b[0m \u001b[0;34m=\u001b[0m \u001b[0mparsers\u001b[0m\u001b[0;34m.\u001b[0m\u001b[0mTextReader\u001b[0m\u001b[0;34m(\u001b[0m\u001b[0msrc\u001b[0m\u001b[0;34m,\u001b[0m \u001b[0;34m**\u001b[0m\u001b[0mkwds\u001b[0m\u001b[0;34m)\u001b[0m\u001b[0;34m\u001b[0m\u001b[0;34m\u001b[0m\u001b[0m\n\u001b[0m\u001b[1;32m   1918\u001b[0m         \u001b[0mself\u001b[0m\u001b[0;34m.\u001b[0m\u001b[0munnamed_cols\u001b[0m \u001b[0;34m=\u001b[0m \u001b[0mself\u001b[0m\u001b[0;34m.\u001b[0m\u001b[0m_reader\u001b[0m\u001b[0;34m.\u001b[0m\u001b[0munnamed_cols\u001b[0m\u001b[0;34m\u001b[0m\u001b[0;34m\u001b[0m\u001b[0m\n\u001b[1;32m   1919\u001b[0m \u001b[0;34m\u001b[0m\u001b[0m\n",
            "\u001b[0;32mpandas/_libs/parsers.pyx\u001b[0m in \u001b[0;36mpandas._libs.parsers.TextReader.__cinit__\u001b[0;34m()\u001b[0m\n",
            "\u001b[0;32mpandas/_libs/parsers.pyx\u001b[0m in \u001b[0;36mpandas._libs.parsers.TextReader._setup_parser_source\u001b[0;34m()\u001b[0m\n",
            "\u001b[0;31mFileNotFoundError\u001b[0m: [Errno 2] File b'./iris_nolabels.csv' does not exist: b'./iris_nolabels.csv'"
          ]
        }
      ]
    },
    {
      "cell_type": "markdown",
      "metadata": {
        "id": "8kNyxcI06-GV",
        "colab_type": "text"
      },
      "source": [
        "### B. Rescale the Data\n",
        "Here we rescale the values in each column to the interval $[0,1]$ with MinMaxScaler. Please note that if your dataset is already prepared for ML there is no need to rescale it again. See https://scikit-learn.org/stable/modules/preprocessing.html for alternative rescaling techniques. In your work on this exercise experiment with other rescaling techniques to see if they lead to a more insightful clustering."
      ]
    },
    {
      "cell_type": "code",
      "metadata": {
        "id": "jtU8ZOvt6-GW",
        "colab_type": "code",
        "colab": {}
      },
      "source": [
        "min_max_scaler = preprocessing.MinMaxScaler()\n",
        "data = min_max_scaler.fit_transform(data)"
      ],
      "execution_count": 0,
      "outputs": []
    },
    {
      "cell_type": "markdown",
      "metadata": {
        "id": "MR8h8zKX6-Gc",
        "colab_type": "text"
      },
      "source": [
        "### C. Scatterplot Function (to be used below for visualising a clustering)\n",
        "\n",
        "Skip this section when you read the notebook for the first time.\n",
        "\n",
        "The function `clustering_scatterplot()` creates the 2D scatter plot of the clustered dataset."
      ]
    },
    {
      "cell_type": "code",
      "metadata": {
        "id": "CQEH7Ent6-Gd",
        "colab_type": "code",
        "colab": {}
      },
      "source": [
        "colors = np.array(['orange', 'blue', 'lime', 'blue', 'khaki', 'pink', 'green', 'purple'])\n",
        "\n",
        "# points - a 2D array of (x,y) coordinates of data points\n",
        "# labels - an array of numeric labels in the interval [0..k-1], one for each point\n",
        "# centers - a 2D array of (x, y) coordinates of cluster centers\n",
        "# title - title of the plot\n",
        "\n",
        "\n",
        "def clustering_scatterplot(points, labels, centers, title):\n",
        "    \n",
        "    \n",
        "    n_clusters = np.unique(labels).size\n",
        "    for i in range(n_clusters):\n",
        "        h = plt.scatter(points[labels==i,0],\n",
        "                        points[labels==i,1], \n",
        "                        c=colors[i%colors.size],\n",
        "                        label = 'cluster '+str(i))\n",
        "\n",
        "    # plot the centers of the clusters\n",
        "    if centers is not None:\n",
        "        plt.scatter(centers[:,0], centers[:,1], c='r', marker='*', s=500)\n",
        "\n",
        "    _ = plt.title(title)\n",
        "    _ = plt.legend()\n",
        "    _ = plt.xlabel('x')\n",
        "    _ = plt.ylabel('y')"
      ],
      "execution_count": 0,
      "outputs": []
    },
    {
      "cell_type": "markdown",
      "metadata": {
        "id": "11eQVh7w6-Gk",
        "colab_type": "text"
      },
      "source": [
        "### D. K-Means Clustering"
      ]
    },
    {
      "cell_type": "markdown",
      "metadata": {
        "id": "lmziwzl66-Gl",
        "colab_type": "text"
      },
      "source": [
        "Number of clusters $k$."
      ]
    },
    {
      "cell_type": "code",
      "metadata": {
        "id": "HHTK1gxm6-Gm",
        "colab_type": "code",
        "colab": {}
      },
      "source": [
        "k = 3"
      ],
      "execution_count": 0,
      "outputs": []
    },
    {
      "cell_type": "markdown",
      "metadata": {
        "id": "TAA2_PHs6-Gt",
        "colab_type": "text"
      },
      "source": [
        "#### Run k-Means\n",
        "\n",
        "See https://scikit-learn.org/stable/modules/clustering.html for alternative clustering methods."
      ]
    },
    {
      "cell_type": "code",
      "metadata": {
        "id": "XCZonocM6-Gu",
        "colab_type": "code",
        "colab": {}
      },
      "source": [
        "clustered_data_sklearn = cluster.KMeans(n_clusters=k, n_init=10, max_iter=300).fit(data)"
      ],
      "execution_count": 0,
      "outputs": []
    },
    {
      "cell_type": "markdown",
      "metadata": {
        "id": "5ICcim0B6-Gz",
        "colab_type": "text"
      },
      "source": [
        "### E. Apply a manifold-learning technique to project the data set to a 2D space\n",
        "\n",
        "https://scikit-learn.org/stable/modules/manifold.html"
      ]
    },
    {
      "cell_type": "markdown",
      "metadata": {
        "id": "BMHqNM0u6-G0",
        "colab_type": "text"
      },
      "source": [
        "Append the cluster centers to the dataset."
      ]
    },
    {
      "cell_type": "code",
      "metadata": {
        "id": "uVh9NIZ36-G1",
        "colab_type": "code",
        "colab": {}
      },
      "source": [
        "data_and_centers = np.r_[data,clustered_data_sklearn.cluster_centers_]"
      ],
      "execution_count": 0,
      "outputs": []
    },
    {
      "cell_type": "markdown",
      "metadata": {
        "id": "JSVrrBvq6-G7",
        "colab_type": "text"
      },
      "source": [
        "#### E1. Apply multi-dimensional scaling (MDS) to project both the data and the k-Means cluster centers to a 2D space"
      ]
    },
    {
      "cell_type": "markdown",
      "metadata": {
        "id": "A2qKP-u56-G8",
        "colab_type": "text"
      },
      "source": [
        "Project both the data and the k-Means cluster centers to 2D."
      ]
    },
    {
      "cell_type": "code",
      "metadata": {
        "id": "EC-QHFBx6-G9",
        "colab_type": "code",
        "colab": {}
      },
      "source": [
        "XYcoordinates = manifold.MDS(n_components=2).fit_transform(data_and_centers)\n",
        "print(\"transformation complete\")"
      ],
      "execution_count": 0,
      "outputs": []
    },
    {
      "cell_type": "markdown",
      "metadata": {
        "id": "kFX54bn66-HD",
        "colab_type": "text"
      },
      "source": [
        "Plot the transformed examples and the centers. Use the cluster assignment to colour the examples."
      ]
    },
    {
      "cell_type": "code",
      "metadata": {
        "id": "3X5l8vzH6-HE",
        "colab_type": "code",
        "colab": {}
      },
      "source": [
        "clustering_scatterplot(points=XYcoordinates[:-k,:], \n",
        "                       labels=clustered_data_sklearn.labels_, \n",
        "                       centers=XYcoordinates[-k:,:], \n",
        "                       title='MDS')"
      ],
      "execution_count": 0,
      "outputs": []
    },
    {
      "cell_type": "markdown",
      "metadata": {
        "id": "PXTXo0PS6-HJ",
        "colab_type": "text"
      },
      "source": [
        "#### E2. Apply t-SNE to project both the data and the k-Means cluster centers to a 2D space"
      ]
    },
    {
      "cell_type": "markdown",
      "metadata": {
        "id": "vpWqG9fg6-HK",
        "colab_type": "text"
      },
      "source": [
        "Project both the data and the k-Means cluster centers to 2D."
      ]
    },
    {
      "cell_type": "code",
      "metadata": {
        "id": "zZMlPCpc6-HL",
        "colab_type": "code",
        "colab": {}
      },
      "source": [
        "XYcoordinates = manifold.TSNE(n_components=2).fit_transform(data_and_centers)\n",
        "print(\"transformation complete\")"
      ],
      "execution_count": 0,
      "outputs": []
    },
    {
      "cell_type": "markdown",
      "metadata": {
        "id": "VALOWCpL6-HR",
        "colab_type": "text"
      },
      "source": [
        "Plot the transformed examples and the centers. Use the cluster assignment to colour the examples."
      ]
    },
    {
      "cell_type": "code",
      "metadata": {
        "id": "IuNlkDLw6-HS",
        "colab_type": "code",
        "colab": {}
      },
      "source": [
        "clustering_scatterplot(points=XYcoordinates[:-k,:], \n",
        "                       labels=clustered_data_sklearn.labels_,\n",
        "                       centers=XYcoordinates[-k:,:], \n",
        "                       title='TSNE')"
      ],
      "execution_count": 0,
      "outputs": []
    },
    {
      "cell_type": "markdown",
      "metadata": {
        "id": "0-yB0skd6-HX",
        "colab_type": "text"
      },
      "source": [
        "### F. Cluster Analysis"
      ]
    },
    {
      "cell_type": "markdown",
      "metadata": {
        "id": "QNL7NiWZ6-HX",
        "colab_type": "text"
      },
      "source": [
        "#### Add the cluster labels as an extra column in the original dataframe"
      ]
    },
    {
      "cell_type": "code",
      "metadata": {
        "id": "0jy8DYmV6-HY",
        "colab_type": "code",
        "colab": {}
      },
      "source": [
        "df['cluster'] = pd.Series(clustered_data_sklearn.labels_, index=df.index)"
      ],
      "execution_count": 0,
      "outputs": []
    },
    {
      "cell_type": "code",
      "metadata": {
        "id": "Q9tcWO6y6-Ha",
        "colab_type": "code",
        "colab": {}
      },
      "source": [
        "df.head()"
      ],
      "execution_count": 0,
      "outputs": []
    },
    {
      "cell_type": "code",
      "metadata": {
        "id": "6Ty8DDIT6-Hd",
        "colab_type": "code",
        "colab": {}
      },
      "source": [
        "df.tail()"
      ],
      "execution_count": 0,
      "outputs": []
    },
    {
      "cell_type": "markdown",
      "metadata": {
        "id": "CdVATCJu6-Hg",
        "colab_type": "text"
      },
      "source": [
        "#### Compute the mean value of each attribute for each cluster"
      ]
    },
    {
      "cell_type": "code",
      "metadata": {
        "id": "ZP9MAOhe6-Hh",
        "colab_type": "code",
        "colab": {}
      },
      "source": [
        "df.groupby('cluster').mean()"
      ],
      "execution_count": 0,
      "outputs": []
    },
    {
      "cell_type": "markdown",
      "metadata": {
        "id": "gyPf1x8_6-Hk",
        "colab_type": "text"
      },
      "source": [
        "#### Conclusion\n",
        "\n",
        "By looking at the table above we can argue that:\n",
        "* Cluster 2 are large iris flowers with the largest petals out of the three types.\n",
        "* Cluster 0 are iris flowers with small petals (notably smaller than the other two types) but with wide sepals, the widest sepals of all three types. This is also the cluster that is clearly differentiated from the other two clusters in the scatter plots.\n",
        "* Cluster 1 flowers are slightly smaller than cluster 2 flowers with a most notable difference in the width of the petals.\n",
        "\n",
        "_Note that this conclusion is true for this run of k-Means. If the code is executed again, k-Means may produce either different clusters or the same clusters but in a different order._"
      ]
    }
  ]
}