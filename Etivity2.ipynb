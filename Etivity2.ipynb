{
  "nbformat": 4,
  "nbformat_minor": 0,
  "metadata": {
    "colab": {
      "name": "Etivity2.ipynb",
      "provenance": [],
      "collapsed_sections": [],
      "authorship_tag": "ABX9TyOQ1JoU9eQ5+L2YIPXEWXgm",
      "include_colab_link": true
    },
    "kernelspec": {
      "name": "python3",
      "display_name": "Python 3"
    }
  },
  "cells": [
    {
      "cell_type": "markdown",
      "metadata": {
        "id": "view-in-github",
        "colab_type": "text"
      },
      "source": [
        "<a href=\"https://colab.research.google.com/github/focussed/etivity1/blob/master/Etivity2.ipynb\" target=\"_parent\"><img src=\"https://colab.research.google.com/assets/colab-badge.svg\" alt=\"Open In Colab\"/></a>"
      ]
    },
    {
      "cell_type": "code",
      "metadata": {
        "id": "wnNuF7I55UjZ",
        "colab_type": "code",
        "colab": {}
      },
      "source": [
        ""
      ],
      "execution_count": 0,
      "outputs": []
    },
    {
      "cell_type": "markdown",
      "metadata": {
        "id": "uQFWpnf35cQ0",
        "colab_type": "text"
      },
      "source": [
        "# Etivity 2\n",
        "\n",
        "The goal of this lab is to prepare a dataset for a machine learning algorithm.   There are a number of procedures needed on the data set to complete this.\n",
        "\n",
        "These include:\n",
        "\n",
        "\n",
        "*   Performing a visual EDA on the dataset to get a visual feel for the data being treated.  Is there any glaring parts of the data missing or inconsistent (e.g. more than one piece of information per cell or large amounts of missing cells of data in a column).  This was done in excel and the dataset visually appears ok.  A diff shows it is an identical dataset to Etivity1.\n",
        "\n",
        "## Filling the blank numeric data cells\n",
        "I am taking a three step path to filling in the missing data.\n",
        "1) Ensure the existing data is within an expected range.\n",
        "This was done with the EDA in Excel and the df.describe() function.\n",
        "2) Determine the missing data and analysis it for the next step.\n",
        "This was done using df.isna().sum() and we can see that the missing fields are with :\n",
        "- age (12)\n",
        "- education (104)\n",
        "- contact (191)\n",
        "- poutcome(494)\n",
        "\n",
        "3) With the missing data, we need to decide whether to delete the rows containing the missing data or to 'fill in' the missing data.  This will depend on each field.\n",
        "\n",
        "Age field could be attempted to be filled out using an algorithm utilising mean values.\n",
        "Education needs more consideration as there are 104 missing.  However, keeping the same % of primary, secondary and third level counts and filling in the 104 values may work.  Also deleting the rows may be ok as it is only 5% of the data.\n",
        "\n",
        "## Features I intend to use\n",
        "In order to fill missing numericial data, I expect to use a library like scikit-learn library or xgboost or a simple mean determination algorithm.  I will need to understand their pros and cons first.\n",
        "\n",
        "I expect to test my final dataset for the ML stage by using a set of asserts as tests to ensure the final dataset is integral.\n",
        "\n",
        "I expect to consider the use of pipelines to fill in missing data, once I understand their operation fully.\n",
        "\n",
        "I expect to look at mapping text values to numerical values using the map feature.\n",
        "\n",
        "I expect to identify and treat any outliers in the data as per the example in the lab2 notebook.\n",
        "\n",
        "\n",
        "A describe() call is used to check the ranges of numerical fields.\n",
        "\n"
      ]
    },
    {
      "cell_type": "code",
      "metadata": {
        "id": "sa5zdcZz8P3y",
        "colab_type": "code",
        "colab": {}
      },
      "source": [
        "# The Python modules uses in this tutorial are:\n",
        "\n",
        "# - Pandas\n",
        "# - Numpy\n",
        "# - Matplotlib\n",
        "# - Seaborn\n",
        "\n",
        "import pandas as pd\n",
        "import numpy as np\n",
        "import matplotlib.pyplot as plt\n",
        "import seaborn as sns\n",
        "\n",
        "sort=True\n",
        "\n",
        "url_train = 'https://raw.githubusercontent.com/focussed/etivity1/master/bank.csv'\n",
        "df = pd.read_csv(url_train)"
      ],
      "execution_count": 0,
      "outputs": []
    },
    {
      "cell_type": "code",
      "metadata": {
        "id": "UG8H3oqy8FVK",
        "colab_type": "code",
        "colab": {
          "base_uri": "https://localhost:8080/",
          "height": 297
        },
        "outputId": "a1437045-ca70-4e3c-d900-ac7c7e61ebaf"
      },
      "source": [
        "df.describe()"
      ],
      "execution_count": 4,
      "outputs": [
        {
          "output_type": "execute_result",
          "data": {
            "text/html": [
              "<div>\n",
              "<style scoped>\n",
              "    .dataframe tbody tr th:only-of-type {\n",
              "        vertical-align: middle;\n",
              "    }\n",
              "\n",
              "    .dataframe tbody tr th {\n",
              "        vertical-align: top;\n",
              "    }\n",
              "\n",
              "    .dataframe thead th {\n",
              "        text-align: right;\n",
              "    }\n",
              "</style>\n",
              "<table border=\"1\" class=\"dataframe\">\n",
              "  <thead>\n",
              "    <tr style=\"text-align: right;\">\n",
              "      <th></th>\n",
              "      <th>age</th>\n",
              "      <th>balance</th>\n",
              "      <th>day</th>\n",
              "      <th>duration</th>\n",
              "      <th>campaign</th>\n",
              "      <th>pdays</th>\n",
              "      <th>previous</th>\n",
              "    </tr>\n",
              "  </thead>\n",
              "  <tbody>\n",
              "    <tr>\n",
              "      <th>count</th>\n",
              "      <td>1988.000000</td>\n",
              "      <td>2000.000000</td>\n",
              "      <td>2000.000000</td>\n",
              "      <td>2000.000000</td>\n",
              "      <td>2000.000000</td>\n",
              "      <td>2000.000000</td>\n",
              "      <td>2000.000000</td>\n",
              "    </tr>\n",
              "    <tr>\n",
              "      <th>mean</th>\n",
              "      <td>41.753018</td>\n",
              "      <td>1413.663500</td>\n",
              "      <td>13.851500</td>\n",
              "      <td>292.020500</td>\n",
              "      <td>1.909500</td>\n",
              "      <td>167.896000</td>\n",
              "      <td>2.561500</td>\n",
              "    </tr>\n",
              "    <tr>\n",
              "      <th>std</th>\n",
              "      <td>12.724358</td>\n",
              "      <td>3131.224213</td>\n",
              "      <td>9.712189</td>\n",
              "      <td>221.557295</td>\n",
              "      <td>1.378862</td>\n",
              "      <td>131.754126</td>\n",
              "      <td>3.400735</td>\n",
              "    </tr>\n",
              "    <tr>\n",
              "      <th>min</th>\n",
              "      <td>18.000000</td>\n",
              "      <td>-980.000000</td>\n",
              "      <td>1.000000</td>\n",
              "      <td>7.000000</td>\n",
              "      <td>1.000000</td>\n",
              "      <td>-1.000000</td>\n",
              "      <td>0.000000</td>\n",
              "    </tr>\n",
              "    <tr>\n",
              "      <th>25%</th>\n",
              "      <td>32.000000</td>\n",
              "      <td>201.500000</td>\n",
              "      <td>5.000000</td>\n",
              "      <td>146.000000</td>\n",
              "      <td>1.000000</td>\n",
              "      <td>75.750000</td>\n",
              "      <td>1.000000</td>\n",
              "    </tr>\n",
              "    <tr>\n",
              "      <th>50%</th>\n",
              "      <td>38.000000</td>\n",
              "      <td>551.000000</td>\n",
              "      <td>12.000000</td>\n",
              "      <td>236.000000</td>\n",
              "      <td>1.000000</td>\n",
              "      <td>182.000000</td>\n",
              "      <td>2.000000</td>\n",
              "    </tr>\n",
              "    <tr>\n",
              "      <th>75%</th>\n",
              "      <td>50.000000</td>\n",
              "      <td>1644.500000</td>\n",
              "      <td>23.000000</td>\n",
              "      <td>379.000000</td>\n",
              "      <td>2.000000</td>\n",
              "      <td>251.000000</td>\n",
              "      <td>3.000000</td>\n",
              "    </tr>\n",
              "    <tr>\n",
              "      <th>max</th>\n",
              "      <td>93.000000</td>\n",
              "      <td>81204.000000</td>\n",
              "      <td>31.000000</td>\n",
              "      <td>1823.000000</td>\n",
              "      <td>11.000000</td>\n",
              "      <td>854.000000</td>\n",
              "      <td>55.000000</td>\n",
              "    </tr>\n",
              "  </tbody>\n",
              "</table>\n",
              "</div>"
            ],
            "text/plain": [
              "               age       balance  ...        pdays     previous\n",
              "count  1988.000000   2000.000000  ...  2000.000000  2000.000000\n",
              "mean     41.753018   1413.663500  ...   167.896000     2.561500\n",
              "std      12.724358   3131.224213  ...   131.754126     3.400735\n",
              "min      18.000000   -980.000000  ...    -1.000000     0.000000\n",
              "25%      32.000000    201.500000  ...    75.750000     1.000000\n",
              "50%      38.000000    551.000000  ...   182.000000     2.000000\n",
              "75%      50.000000   1644.500000  ...   251.000000     3.000000\n",
              "max      93.000000  81204.000000  ...   854.000000    55.000000\n",
              "\n",
              "[8 rows x 7 columns]"
            ]
          },
          "metadata": {
            "tags": []
          },
          "execution_count": 4
        }
      ]
    },
    {
      "cell_type": "markdown",
      "metadata": {
        "id": "sOa4R5QV8z5S",
        "colab_type": "text"
      },
      "source": [
        "Ages appear to be in range as does balance the the other numeric fields.  pdays = -1 is one item that sticks out but there is an explanation for this."
      ]
    },
    {
      "cell_type": "code",
      "metadata": {
        "id": "p7UOW5F99FQH",
        "colab_type": "code",
        "colab": {
          "base_uri": "https://localhost:8080/",
          "height": 323
        },
        "outputId": "35379c12-b1a5-4899-ca27-218cfb41539e"
      },
      "source": [
        "df.isna().sum()"
      ],
      "execution_count": 5,
      "outputs": [
        {
          "output_type": "execute_result",
          "data": {
            "text/plain": [
              "age            12\n",
              "job            10\n",
              "marital         0\n",
              "education     104\n",
              "default         0\n",
              "balance         0\n",
              "housing         0\n",
              "loan            0\n",
              "contact       191\n",
              "day             0\n",
              "month           0\n",
              "duration        0\n",
              "campaign        0\n",
              "pdays           0\n",
              "previous        0\n",
              "poutcome      454\n",
              "subscribed      0\n",
              "dtype: int64"
            ]
          },
          "metadata": {
            "tags": []
          },
          "execution_count": 5
        }
      ]
    },
    {
      "cell_type": "code",
      "metadata": {
        "id": "_SHoaxNf9Ljr",
        "colab_type": "code",
        "colab": {}
      },
      "source": [
        ""
      ],
      "execution_count": 0,
      "outputs": []
    }
  ]
}