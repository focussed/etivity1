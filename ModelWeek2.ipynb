{
  "nbformat": 4,
  "nbformat_minor": 0,
  "metadata": {
    "colab": {
      "name": "ModelWeek2.ipynb",
      "provenance": [],
      "collapsed_sections": [],
      "include_colab_link": true
    },
    "kernelspec": {
      "display_name": "Python 3",
      "language": "python",
      "name": "python3"
    },
    "language_info": {
      "codemirror_mode": {
        "name": "ipython",
        "version": 3
      },
      "file_extension": ".py",
      "mimetype": "text/x-python",
      "name": "python",
      "nbconvert_exporter": "python",
      "pygments_lexer": "ipython3",
      "version": "3.7.6"
    }
  },
  "cells": [
    {
      "cell_type": "markdown",
      "metadata": {
        "id": "view-in-github",
        "colab_type": "text"
      },
      "source": [
        "<a href=\"https://colab.research.google.com/github/focussed/etivity1/blob/master/ModelWeek2.ipynb\" target=\"_parent\"><img src=\"https://colab.research.google.com/assets/colab-badge.svg\" alt=\"Open In Colab\"/></a>"
      ]
    },
    {
      "cell_type": "markdown",
      "metadata": {
        "colab_type": "text",
        "id": "xPy_iYm_TBGS"
      },
      "source": [
        "**DATA PREPARATION**\n",
        "\n",
        "In this exercise, we'll look at how to prepare our dataset before we feed our dataset to ML algorithms.\n",
        "\n",
        "It is necessary to do this step, so that ML algorithms can generate a training model that is insensitive to outliers or any other anomalies in our input dataset."
      ]
    },
    {
      "cell_type": "markdown",
      "metadata": {
        "colab_type": "text",
        "id": "cel059msTgQD"
      },
      "source": [
        "**Step-1: Import necessities and Read the dataset**"
      ]
    },
    {
      "cell_type": "code",
      "metadata": {
        "colab_type": "code",
        "id": "QzRgJlRFTlA5",
        "colab": {}
      },
      "source": [
        "import pandas as pd\n",
        "import numpy as np\n",
        "from sklearn.preprocessing import RobustScaler\n",
        "import matplotlib.pyplot as plt\n",
        "%matplotlib inline\n",
        "from google.colab import files\n",
        "import io\n",
        "\n",
        "#uploaded=files.upload()\n",
        "#df = pd.read_csv(io.StringIO(uploaded['bank-2.csv'].decode('utf-8')))\n",
        "url_train = 'https://raw.githubusercontent.com/focussed/etivity1/master/bank.csv'\n",
        "df = pd.read_csv(url_train)"
      ],
      "execution_count": 0,
      "outputs": []
    },
    {
      "cell_type": "markdown",
      "metadata": {
        "colab_type": "text",
        "id": "lcaQ4kecUJVL"
      },
      "source": [
        "Check our dataset, first and last few rows"
      ]
    },
    {
      "cell_type": "code",
      "metadata": {
        "colab_type": "code",
        "id": "7Rfgk_d1UNOS",
        "outputId": "357a00bd-5c00-4d65-f5c8-2bd3783f76cb",
        "colab": {
          "base_uri": "https://localhost:8080/",
          "height": 244
        }
      },
      "source": [
        "df.head(5)\n",
        "df.tail(5)"
      ],
      "execution_count": 8,
      "outputs": [
        {
          "output_type": "execute_result",
          "data": {
            "text/html": [
              "<div>\n",
              "<style scoped>\n",
              "    .dataframe tbody tr th:only-of-type {\n",
              "        vertical-align: middle;\n",
              "    }\n",
              "\n",
              "    .dataframe tbody tr th {\n",
              "        vertical-align: top;\n",
              "    }\n",
              "\n",
              "    .dataframe thead th {\n",
              "        text-align: right;\n",
              "    }\n",
              "</style>\n",
              "<table border=\"1\" class=\"dataframe\">\n",
              "  <thead>\n",
              "    <tr style=\"text-align: right;\">\n",
              "      <th></th>\n",
              "      <th>age</th>\n",
              "      <th>job</th>\n",
              "      <th>marital</th>\n",
              "      <th>education</th>\n",
              "      <th>default</th>\n",
              "      <th>balance</th>\n",
              "      <th>housing</th>\n",
              "      <th>loan</th>\n",
              "      <th>contact</th>\n",
              "      <th>day</th>\n",
              "      <th>month</th>\n",
              "      <th>duration</th>\n",
              "      <th>campaign</th>\n",
              "      <th>pdays</th>\n",
              "      <th>previous</th>\n",
              "      <th>poutcome</th>\n",
              "      <th>subscribed</th>\n",
              "    </tr>\n",
              "  </thead>\n",
              "  <tbody>\n",
              "    <tr>\n",
              "      <th>1995</th>\n",
              "      <td>20.0</td>\n",
              "      <td>student</td>\n",
              "      <td>single</td>\n",
              "      <td>NaN</td>\n",
              "      <td>no</td>\n",
              "      <td>2785</td>\n",
              "      <td>no</td>\n",
              "      <td>no</td>\n",
              "      <td>cellular</td>\n",
              "      <td>16</td>\n",
              "      <td>sep</td>\n",
              "      <td>327</td>\n",
              "      <td>2</td>\n",
              "      <td>-1</td>\n",
              "      <td>0</td>\n",
              "      <td>NaN</td>\n",
              "      <td>yes</td>\n",
              "    </tr>\n",
              "    <tr>\n",
              "      <th>1996</th>\n",
              "      <td>28.0</td>\n",
              "      <td>admin.</td>\n",
              "      <td>single</td>\n",
              "      <td>secondary</td>\n",
              "      <td>no</td>\n",
              "      <td>127</td>\n",
              "      <td>no</td>\n",
              "      <td>no</td>\n",
              "      <td>cellular</td>\n",
              "      <td>16</td>\n",
              "      <td>sep</td>\n",
              "      <td>1334</td>\n",
              "      <td>2</td>\n",
              "      <td>-1</td>\n",
              "      <td>0</td>\n",
              "      <td>NaN</td>\n",
              "      <td>yes</td>\n",
              "    </tr>\n",
              "    <tr>\n",
              "      <th>1997</th>\n",
              "      <td>81.0</td>\n",
              "      <td>retired</td>\n",
              "      <td>married</td>\n",
              "      <td>primary</td>\n",
              "      <td>no</td>\n",
              "      <td>1154</td>\n",
              "      <td>no</td>\n",
              "      <td>no</td>\n",
              "      <td>telephone</td>\n",
              "      <td>17</td>\n",
              "      <td>sep</td>\n",
              "      <td>231</td>\n",
              "      <td>1</td>\n",
              "      <td>-1</td>\n",
              "      <td>0</td>\n",
              "      <td>NaN</td>\n",
              "      <td>yes</td>\n",
              "    </tr>\n",
              "    <tr>\n",
              "      <th>1998</th>\n",
              "      <td>46.0</td>\n",
              "      <td>services</td>\n",
              "      <td>married</td>\n",
              "      <td>primary</td>\n",
              "      <td>no</td>\n",
              "      <td>4343</td>\n",
              "      <td>yes</td>\n",
              "      <td>no</td>\n",
              "      <td>NaN</td>\n",
              "      <td>20</td>\n",
              "      <td>sep</td>\n",
              "      <td>185</td>\n",
              "      <td>1</td>\n",
              "      <td>-1</td>\n",
              "      <td>0</td>\n",
              "      <td>NaN</td>\n",
              "      <td>yes</td>\n",
              "    </tr>\n",
              "    <tr>\n",
              "      <th>1999</th>\n",
              "      <td>40.0</td>\n",
              "      <td>entrepreneur</td>\n",
              "      <td>married</td>\n",
              "      <td>secondary</td>\n",
              "      <td>no</td>\n",
              "      <td>6403</td>\n",
              "      <td>no</td>\n",
              "      <td>no</td>\n",
              "      <td>cellular</td>\n",
              "      <td>22</td>\n",
              "      <td>sep</td>\n",
              "      <td>208</td>\n",
              "      <td>2</td>\n",
              "      <td>-1</td>\n",
              "      <td>0</td>\n",
              "      <td>NaN</td>\n",
              "      <td>yes</td>\n",
              "    </tr>\n",
              "  </tbody>\n",
              "</table>\n",
              "</div>"
            ],
            "text/plain": [
              "       age           job  marital  ... previous poutcome  subscribed\n",
              "1995  20.0       student   single  ...        0      NaN         yes\n",
              "1996  28.0        admin.   single  ...        0      NaN         yes\n",
              "1997  81.0       retired  married  ...        0      NaN         yes\n",
              "1998  46.0      services  married  ...        0      NaN         yes\n",
              "1999  40.0  entrepreneur  married  ...        0      NaN         yes\n",
              "\n",
              "[5 rows x 17 columns]"
            ]
          },
          "metadata": {
            "tags": []
          },
          "execution_count": 8
        }
      ]
    },
    {
      "cell_type": "markdown",
      "metadata": {
        "colab_type": "text",
        "id": "8txo-nNnUUHj"
      },
      "source": [
        "**Step-2: Check the count of missing values**"
      ]
    },
    {
      "cell_type": "code",
      "metadata": {
        "colab_type": "code",
        "id": "GVHUoD-MUZsZ",
        "outputId": "f119bbb3-01e7-40c2-e619-024f6d1f0068",
        "colab": {
          "base_uri": "https://localhost:8080/",
          "height": 323
        }
      },
      "source": [
        "df.isna().sum() #Sum or add up the no. of missing values for each column in the dataset."
      ],
      "execution_count": 9,
      "outputs": [
        {
          "output_type": "execute_result",
          "data": {
            "text/plain": [
              "age            12\n",
              "job            10\n",
              "marital         0\n",
              "education     104\n",
              "default         0\n",
              "balance         0\n",
              "housing         0\n",
              "loan            0\n",
              "contact       191\n",
              "day             0\n",
              "month           0\n",
              "duration        0\n",
              "campaign        0\n",
              "pdays           0\n",
              "previous        0\n",
              "poutcome      454\n",
              "subscribed      0\n",
              "dtype: int64"
            ]
          },
          "metadata": {
            "tags": []
          },
          "execution_count": 9
        }
      ]
    },
    {
      "cell_type": "markdown",
      "metadata": {
        "colab_type": "text",
        "id": "Cvse1darUs28"
      },
      "source": [
        "We can see that, **poutcome, contact, education, job and age** have missing values out of which poutcome, contact and education have the highest number of missing values."
      ]
    },
    {
      "cell_type": "code",
      "metadata": {
        "colab_type": "code",
        "id": "aMtqA7r6U_2M",
        "outputId": "1dc20593-ad94-4534-e64c-04ac27345308",
        "colab": {
          "base_uri": "https://localhost:8080/",
          "height": 459
        }
      },
      "source": [
        "df_backup = df #Backing up original dataset before we do any data preprocessing.\n",
        "df_backup"
      ],
      "execution_count": 10,
      "outputs": [
        {
          "output_type": "execute_result",
          "data": {
            "text/html": [
              "<div>\n",
              "<style scoped>\n",
              "    .dataframe tbody tr th:only-of-type {\n",
              "        vertical-align: middle;\n",
              "    }\n",
              "\n",
              "    .dataframe tbody tr th {\n",
              "        vertical-align: top;\n",
              "    }\n",
              "\n",
              "    .dataframe thead th {\n",
              "        text-align: right;\n",
              "    }\n",
              "</style>\n",
              "<table border=\"1\" class=\"dataframe\">\n",
              "  <thead>\n",
              "    <tr style=\"text-align: right;\">\n",
              "      <th></th>\n",
              "      <th>age</th>\n",
              "      <th>job</th>\n",
              "      <th>marital</th>\n",
              "      <th>education</th>\n",
              "      <th>default</th>\n",
              "      <th>balance</th>\n",
              "      <th>housing</th>\n",
              "      <th>loan</th>\n",
              "      <th>contact</th>\n",
              "      <th>day</th>\n",
              "      <th>month</th>\n",
              "      <th>duration</th>\n",
              "      <th>campaign</th>\n",
              "      <th>pdays</th>\n",
              "      <th>previous</th>\n",
              "      <th>poutcome</th>\n",
              "      <th>subscribed</th>\n",
              "    </tr>\n",
              "  </thead>\n",
              "  <tbody>\n",
              "    <tr>\n",
              "      <th>0</th>\n",
              "      <td>32.0</td>\n",
              "      <td>technician</td>\n",
              "      <td>single</td>\n",
              "      <td>tertiary</td>\n",
              "      <td>no</td>\n",
              "      <td>392</td>\n",
              "      <td>yes</td>\n",
              "      <td>no</td>\n",
              "      <td>cellular</td>\n",
              "      <td>1</td>\n",
              "      <td>apr</td>\n",
              "      <td>957</td>\n",
              "      <td>2</td>\n",
              "      <td>131</td>\n",
              "      <td>2</td>\n",
              "      <td>failure</td>\n",
              "      <td>no</td>\n",
              "    </tr>\n",
              "    <tr>\n",
              "      <th>1</th>\n",
              "      <td>39.0</td>\n",
              "      <td>technician</td>\n",
              "      <td>divorced</td>\n",
              "      <td>secondary</td>\n",
              "      <td>no</td>\n",
              "      <td>688</td>\n",
              "      <td>yes</td>\n",
              "      <td>yes</td>\n",
              "      <td>cellular</td>\n",
              "      <td>1</td>\n",
              "      <td>apr</td>\n",
              "      <td>233</td>\n",
              "      <td>2</td>\n",
              "      <td>133</td>\n",
              "      <td>1</td>\n",
              "      <td>failure</td>\n",
              "      <td>no</td>\n",
              "    </tr>\n",
              "    <tr>\n",
              "      <th>2</th>\n",
              "      <td>59.0</td>\n",
              "      <td>retired</td>\n",
              "      <td>married</td>\n",
              "      <td>secondary</td>\n",
              "      <td>no</td>\n",
              "      <td>1035</td>\n",
              "      <td>yes</td>\n",
              "      <td>yes</td>\n",
              "      <td>cellular</td>\n",
              "      <td>1</td>\n",
              "      <td>apr</td>\n",
              "      <td>126</td>\n",
              "      <td>2</td>\n",
              "      <td>239</td>\n",
              "      <td>1</td>\n",
              "      <td>failure</td>\n",
              "      <td>no</td>\n",
              "    </tr>\n",
              "    <tr>\n",
              "      <th>3</th>\n",
              "      <td>47.0</td>\n",
              "      <td>blue-collar</td>\n",
              "      <td>married</td>\n",
              "      <td>secondary</td>\n",
              "      <td>no</td>\n",
              "      <td>398</td>\n",
              "      <td>yes</td>\n",
              "      <td>yes</td>\n",
              "      <td>cellular</td>\n",
              "      <td>1</td>\n",
              "      <td>apr</td>\n",
              "      <td>274</td>\n",
              "      <td>1</td>\n",
              "      <td>238</td>\n",
              "      <td>2</td>\n",
              "      <td>failure</td>\n",
              "      <td>no</td>\n",
              "    </tr>\n",
              "    <tr>\n",
              "      <th>4</th>\n",
              "      <td>54.0</td>\n",
              "      <td>retired</td>\n",
              "      <td>married</td>\n",
              "      <td>secondary</td>\n",
              "      <td>no</td>\n",
              "      <td>1004</td>\n",
              "      <td>yes</td>\n",
              "      <td>no</td>\n",
              "      <td>cellular</td>\n",
              "      <td>1</td>\n",
              "      <td>apr</td>\n",
              "      <td>479</td>\n",
              "      <td>1</td>\n",
              "      <td>307</td>\n",
              "      <td>1</td>\n",
              "      <td>failure</td>\n",
              "      <td>no</td>\n",
              "    </tr>\n",
              "    <tr>\n",
              "      <th>...</th>\n",
              "      <td>...</td>\n",
              "      <td>...</td>\n",
              "      <td>...</td>\n",
              "      <td>...</td>\n",
              "      <td>...</td>\n",
              "      <td>...</td>\n",
              "      <td>...</td>\n",
              "      <td>...</td>\n",
              "      <td>...</td>\n",
              "      <td>...</td>\n",
              "      <td>...</td>\n",
              "      <td>...</td>\n",
              "      <td>...</td>\n",
              "      <td>...</td>\n",
              "      <td>...</td>\n",
              "      <td>...</td>\n",
              "      <td>...</td>\n",
              "    </tr>\n",
              "    <tr>\n",
              "      <th>1995</th>\n",
              "      <td>20.0</td>\n",
              "      <td>student</td>\n",
              "      <td>single</td>\n",
              "      <td>NaN</td>\n",
              "      <td>no</td>\n",
              "      <td>2785</td>\n",
              "      <td>no</td>\n",
              "      <td>no</td>\n",
              "      <td>cellular</td>\n",
              "      <td>16</td>\n",
              "      <td>sep</td>\n",
              "      <td>327</td>\n",
              "      <td>2</td>\n",
              "      <td>-1</td>\n",
              "      <td>0</td>\n",
              "      <td>NaN</td>\n",
              "      <td>yes</td>\n",
              "    </tr>\n",
              "    <tr>\n",
              "      <th>1996</th>\n",
              "      <td>28.0</td>\n",
              "      <td>admin.</td>\n",
              "      <td>single</td>\n",
              "      <td>secondary</td>\n",
              "      <td>no</td>\n",
              "      <td>127</td>\n",
              "      <td>no</td>\n",
              "      <td>no</td>\n",
              "      <td>cellular</td>\n",
              "      <td>16</td>\n",
              "      <td>sep</td>\n",
              "      <td>1334</td>\n",
              "      <td>2</td>\n",
              "      <td>-1</td>\n",
              "      <td>0</td>\n",
              "      <td>NaN</td>\n",
              "      <td>yes</td>\n",
              "    </tr>\n",
              "    <tr>\n",
              "      <th>1997</th>\n",
              "      <td>81.0</td>\n",
              "      <td>retired</td>\n",
              "      <td>married</td>\n",
              "      <td>primary</td>\n",
              "      <td>no</td>\n",
              "      <td>1154</td>\n",
              "      <td>no</td>\n",
              "      <td>no</td>\n",
              "      <td>telephone</td>\n",
              "      <td>17</td>\n",
              "      <td>sep</td>\n",
              "      <td>231</td>\n",
              "      <td>1</td>\n",
              "      <td>-1</td>\n",
              "      <td>0</td>\n",
              "      <td>NaN</td>\n",
              "      <td>yes</td>\n",
              "    </tr>\n",
              "    <tr>\n",
              "      <th>1998</th>\n",
              "      <td>46.0</td>\n",
              "      <td>services</td>\n",
              "      <td>married</td>\n",
              "      <td>primary</td>\n",
              "      <td>no</td>\n",
              "      <td>4343</td>\n",
              "      <td>yes</td>\n",
              "      <td>no</td>\n",
              "      <td>NaN</td>\n",
              "      <td>20</td>\n",
              "      <td>sep</td>\n",
              "      <td>185</td>\n",
              "      <td>1</td>\n",
              "      <td>-1</td>\n",
              "      <td>0</td>\n",
              "      <td>NaN</td>\n",
              "      <td>yes</td>\n",
              "    </tr>\n",
              "    <tr>\n",
              "      <th>1999</th>\n",
              "      <td>40.0</td>\n",
              "      <td>entrepreneur</td>\n",
              "      <td>married</td>\n",
              "      <td>secondary</td>\n",
              "      <td>no</td>\n",
              "      <td>6403</td>\n",
              "      <td>no</td>\n",
              "      <td>no</td>\n",
              "      <td>cellular</td>\n",
              "      <td>22</td>\n",
              "      <td>sep</td>\n",
              "      <td>208</td>\n",
              "      <td>2</td>\n",
              "      <td>-1</td>\n",
              "      <td>0</td>\n",
              "      <td>NaN</td>\n",
              "      <td>yes</td>\n",
              "    </tr>\n",
              "  </tbody>\n",
              "</table>\n",
              "<p>2000 rows × 17 columns</p>\n",
              "</div>"
            ],
            "text/plain": [
              "       age           job   marital  ... previous poutcome  subscribed\n",
              "0     32.0    technician    single  ...        2  failure          no\n",
              "1     39.0    technician  divorced  ...        1  failure          no\n",
              "2     59.0       retired   married  ...        1  failure          no\n",
              "3     47.0   blue-collar   married  ...        2  failure          no\n",
              "4     54.0       retired   married  ...        1  failure          no\n",
              "...    ...           ...       ...  ...      ...      ...         ...\n",
              "1995  20.0       student    single  ...        0      NaN         yes\n",
              "1996  28.0        admin.    single  ...        0      NaN         yes\n",
              "1997  81.0       retired   married  ...        0      NaN         yes\n",
              "1998  46.0      services   married  ...        0      NaN         yes\n",
              "1999  40.0  entrepreneur   married  ...        0      NaN         yes\n",
              "\n",
              "[2000 rows x 17 columns]"
            ]
          },
          "metadata": {
            "tags": []
          },
          "execution_count": 10
        }
      ]
    },
    {
      "cell_type": "markdown",
      "metadata": {
        "colab_type": "text",
        "id": "-ELoD45jV5Y6"
      },
      "source": [
        "Can we drop any columns that don't add any significance to make predictions sucah as ID, etc. from our dataset?\n",
        "\n",
        "No, from an overview we do not have any columns such as ID in our dataset and we cannot remove any other columns with mere assumptions about their significance."
      ]
    },
    {
      "cell_type": "markdown",
      "metadata": {
        "colab_type": "text",
        "id": "osjhYacdYG40"
      },
      "source": [
        "**Step-3: ENCODING CATEGORICAL ATTRIBUTE VALUES**\n",
        "\n",
        "\n",
        "> **Encoding Ordinal Categorical Attributes**\n",
        "\n",
        "What do we mean by Ordinal?\n",
        "\n",
        "\n",
        "> Ordinal means any specific order in the subject under examination. Let's say the number system is ordinal. This is because there is a particular order to it (ascending order 1<2<3<4<5........).\n",
        "\n",
        "\n",
        "\n"
      ]
    },
    {
      "cell_type": "markdown",
      "metadata": {
        "colab_type": "text",
        "id": "LDeC5smSYqGr"
      },
      "source": [
        "In our dataset, do we have any ordinal categorical attributes?\n",
        "\n",
        "Yes, a close look at the dataset reveals the **month** column to be ordinal. \n",
        "\n",
        "Why is it so? \n",
        "\n",
        "Think of it this way -> Jan<Feb<Mar<Apr......<Dec\n",
        "\n",
        "Let's convert these values to numerical values as below,\n",
        "\n",
        "Jan - 1, Feb - 2, Mar - 3, Apr - 4 , ......., Dec - 12"
      ]
    },
    {
      "cell_type": "code",
      "metadata": {
        "colab_type": "code",
        "id": "0FFYU42ZZChw",
        "colab": {}
      },
      "source": [
        "month_mapper =  {\n",
        "    \"jan\" : 1,\n",
        "    \"feb\" : 2,\n",
        "    \"mar\" : 3,\n",
        "    \"apr\" : 4,\n",
        "    \"may\" : 5,\n",
        "    \"jun\" : 6,\n",
        "    \"jul\" : 7,\n",
        "    \"aug\" : 8,\n",
        "    \"sep\" : 9,\n",
        "    \"oct\" : 10,\n",
        "    \"nov\" : 11,\n",
        "    \"dec\" : 12\n",
        "} # Mapping months with numbers\n",
        "\n",
        "df[\"month\"] = df[\"month\"].replace(month_mapper) #Apply our custom mapping to the dataset."
      ],
      "execution_count": 0,
      "outputs": []
    },
    {
      "cell_type": "code",
      "metadata": {
        "colab_type": "code",
        "id": "MFU6WNFnbG6T",
        "outputId": "07a87c9a-c4d4-443f-a6a2-e331a7ea3233",
        "colab": {
          "base_uri": "https://localhost:8080/",
          "height": 379
        }
      },
      "source": [
        "df.tail(10) #Checking if the mapping is applied correctly"
      ],
      "execution_count": 12,
      "outputs": [
        {
          "output_type": "execute_result",
          "data": {
            "text/html": [
              "<div>\n",
              "<style scoped>\n",
              "    .dataframe tbody tr th:only-of-type {\n",
              "        vertical-align: middle;\n",
              "    }\n",
              "\n",
              "    .dataframe tbody tr th {\n",
              "        vertical-align: top;\n",
              "    }\n",
              "\n",
              "    .dataframe thead th {\n",
              "        text-align: right;\n",
              "    }\n",
              "</style>\n",
              "<table border=\"1\" class=\"dataframe\">\n",
              "  <thead>\n",
              "    <tr style=\"text-align: right;\">\n",
              "      <th></th>\n",
              "      <th>age</th>\n",
              "      <th>job</th>\n",
              "      <th>marital</th>\n",
              "      <th>education</th>\n",
              "      <th>default</th>\n",
              "      <th>balance</th>\n",
              "      <th>housing</th>\n",
              "      <th>loan</th>\n",
              "      <th>contact</th>\n",
              "      <th>day</th>\n",
              "      <th>month</th>\n",
              "      <th>duration</th>\n",
              "      <th>campaign</th>\n",
              "      <th>pdays</th>\n",
              "      <th>previous</th>\n",
              "      <th>poutcome</th>\n",
              "      <th>subscribed</th>\n",
              "    </tr>\n",
              "  </thead>\n",
              "  <tbody>\n",
              "    <tr>\n",
              "      <th>1990</th>\n",
              "      <td>36.0</td>\n",
              "      <td>technician</td>\n",
              "      <td>married</td>\n",
              "      <td>tertiary</td>\n",
              "      <td>no</td>\n",
              "      <td>376</td>\n",
              "      <td>no</td>\n",
              "      <td>no</td>\n",
              "      <td>cellular</td>\n",
              "      <td>16</td>\n",
              "      <td>9</td>\n",
              "      <td>173</td>\n",
              "      <td>1</td>\n",
              "      <td>-1</td>\n",
              "      <td>0</td>\n",
              "      <td>NaN</td>\n",
              "      <td>yes</td>\n",
              "    </tr>\n",
              "    <tr>\n",
              "      <th>1991</th>\n",
              "      <td>39.0</td>\n",
              "      <td>admin.</td>\n",
              "      <td>divorced</td>\n",
              "      <td>secondary</td>\n",
              "      <td>no</td>\n",
              "      <td>112</td>\n",
              "      <td>no</td>\n",
              "      <td>no</td>\n",
              "      <td>cellular</td>\n",
              "      <td>16</td>\n",
              "      <td>9</td>\n",
              "      <td>574</td>\n",
              "      <td>3</td>\n",
              "      <td>-1</td>\n",
              "      <td>0</td>\n",
              "      <td>NaN</td>\n",
              "      <td>yes</td>\n",
              "    </tr>\n",
              "    <tr>\n",
              "      <th>1992</th>\n",
              "      <td>78.0</td>\n",
              "      <td>retired</td>\n",
              "      <td>divorced</td>\n",
              "      <td>primary</td>\n",
              "      <td>no</td>\n",
              "      <td>527</td>\n",
              "      <td>no</td>\n",
              "      <td>no</td>\n",
              "      <td>cellular</td>\n",
              "      <td>16</td>\n",
              "      <td>9</td>\n",
              "      <td>193</td>\n",
              "      <td>1</td>\n",
              "      <td>-1</td>\n",
              "      <td>0</td>\n",
              "      <td>NaN</td>\n",
              "      <td>yes</td>\n",
              "    </tr>\n",
              "    <tr>\n",
              "      <th>1993</th>\n",
              "      <td>35.0</td>\n",
              "      <td>management</td>\n",
              "      <td>married</td>\n",
              "      <td>NaN</td>\n",
              "      <td>no</td>\n",
              "      <td>2326</td>\n",
              "      <td>yes</td>\n",
              "      <td>yes</td>\n",
              "      <td>cellular</td>\n",
              "      <td>16</td>\n",
              "      <td>9</td>\n",
              "      <td>319</td>\n",
              "      <td>1</td>\n",
              "      <td>-1</td>\n",
              "      <td>0</td>\n",
              "      <td>NaN</td>\n",
              "      <td>yes</td>\n",
              "    </tr>\n",
              "    <tr>\n",
              "      <th>1994</th>\n",
              "      <td>26.0</td>\n",
              "      <td>student</td>\n",
              "      <td>single</td>\n",
              "      <td>secondary</td>\n",
              "      <td>no</td>\n",
              "      <td>655</td>\n",
              "      <td>no</td>\n",
              "      <td>no</td>\n",
              "      <td>cellular</td>\n",
              "      <td>16</td>\n",
              "      <td>9</td>\n",
              "      <td>190</td>\n",
              "      <td>1</td>\n",
              "      <td>-1</td>\n",
              "      <td>0</td>\n",
              "      <td>NaN</td>\n",
              "      <td>yes</td>\n",
              "    </tr>\n",
              "    <tr>\n",
              "      <th>1995</th>\n",
              "      <td>20.0</td>\n",
              "      <td>student</td>\n",
              "      <td>single</td>\n",
              "      <td>NaN</td>\n",
              "      <td>no</td>\n",
              "      <td>2785</td>\n",
              "      <td>no</td>\n",
              "      <td>no</td>\n",
              "      <td>cellular</td>\n",
              "      <td>16</td>\n",
              "      <td>9</td>\n",
              "      <td>327</td>\n",
              "      <td>2</td>\n",
              "      <td>-1</td>\n",
              "      <td>0</td>\n",
              "      <td>NaN</td>\n",
              "      <td>yes</td>\n",
              "    </tr>\n",
              "    <tr>\n",
              "      <th>1996</th>\n",
              "      <td>28.0</td>\n",
              "      <td>admin.</td>\n",
              "      <td>single</td>\n",
              "      <td>secondary</td>\n",
              "      <td>no</td>\n",
              "      <td>127</td>\n",
              "      <td>no</td>\n",
              "      <td>no</td>\n",
              "      <td>cellular</td>\n",
              "      <td>16</td>\n",
              "      <td>9</td>\n",
              "      <td>1334</td>\n",
              "      <td>2</td>\n",
              "      <td>-1</td>\n",
              "      <td>0</td>\n",
              "      <td>NaN</td>\n",
              "      <td>yes</td>\n",
              "    </tr>\n",
              "    <tr>\n",
              "      <th>1997</th>\n",
              "      <td>81.0</td>\n",
              "      <td>retired</td>\n",
              "      <td>married</td>\n",
              "      <td>primary</td>\n",
              "      <td>no</td>\n",
              "      <td>1154</td>\n",
              "      <td>no</td>\n",
              "      <td>no</td>\n",
              "      <td>telephone</td>\n",
              "      <td>17</td>\n",
              "      <td>9</td>\n",
              "      <td>231</td>\n",
              "      <td>1</td>\n",
              "      <td>-1</td>\n",
              "      <td>0</td>\n",
              "      <td>NaN</td>\n",
              "      <td>yes</td>\n",
              "    </tr>\n",
              "    <tr>\n",
              "      <th>1998</th>\n",
              "      <td>46.0</td>\n",
              "      <td>services</td>\n",
              "      <td>married</td>\n",
              "      <td>primary</td>\n",
              "      <td>no</td>\n",
              "      <td>4343</td>\n",
              "      <td>yes</td>\n",
              "      <td>no</td>\n",
              "      <td>NaN</td>\n",
              "      <td>20</td>\n",
              "      <td>9</td>\n",
              "      <td>185</td>\n",
              "      <td>1</td>\n",
              "      <td>-1</td>\n",
              "      <td>0</td>\n",
              "      <td>NaN</td>\n",
              "      <td>yes</td>\n",
              "    </tr>\n",
              "    <tr>\n",
              "      <th>1999</th>\n",
              "      <td>40.0</td>\n",
              "      <td>entrepreneur</td>\n",
              "      <td>married</td>\n",
              "      <td>secondary</td>\n",
              "      <td>no</td>\n",
              "      <td>6403</td>\n",
              "      <td>no</td>\n",
              "      <td>no</td>\n",
              "      <td>cellular</td>\n",
              "      <td>22</td>\n",
              "      <td>9</td>\n",
              "      <td>208</td>\n",
              "      <td>2</td>\n",
              "      <td>-1</td>\n",
              "      <td>0</td>\n",
              "      <td>NaN</td>\n",
              "      <td>yes</td>\n",
              "    </tr>\n",
              "  </tbody>\n",
              "</table>\n",
              "</div>"
            ],
            "text/plain": [
              "       age           job   marital  ... previous poutcome  subscribed\n",
              "1990  36.0    technician   married  ...        0      NaN         yes\n",
              "1991  39.0        admin.  divorced  ...        0      NaN         yes\n",
              "1992  78.0       retired  divorced  ...        0      NaN         yes\n",
              "1993  35.0    management   married  ...        0      NaN         yes\n",
              "1994  26.0       student    single  ...        0      NaN         yes\n",
              "1995  20.0       student    single  ...        0      NaN         yes\n",
              "1996  28.0        admin.    single  ...        0      NaN         yes\n",
              "1997  81.0       retired   married  ...        0      NaN         yes\n",
              "1998  46.0      services   married  ...        0      NaN         yes\n",
              "1999  40.0  entrepreneur   married  ...        0      NaN         yes\n",
              "\n",
              "[10 rows x 17 columns]"
            ]
          },
          "metadata": {
            "tags": []
          },
          "execution_count": 12
        }
      ]
    },
    {
      "cell_type": "markdown",
      "metadata": {
        "colab_type": "text",
        "id": "sc1nqlBlgJmy"
      },
      "source": [
        "Months are cyclic in nature.\n",
        "\n",
        "We have Jan-Dec, and again after Dec, Jan starts. This cyclic behavior can be taken into account to add more accuracy.\n",
        "\n",
        ">Idea from - \n",
        "*   https://medium.com/ai%C2%B3-theory-practice-business/top-6-errors-novice-machine-learning-engineers-make-e82273d394db\n",
        "*   http://blog.davidkaleko.com/feature-engineering-cyclical-features.html\n",
        "*   https://stats.stackexchange.com/questions/311494/best-practice-for-encoding-datetime-in-machine-learning\n",
        "\n",
        "\n",
        "\n"
      ]
    },
    {
      "cell_type": "code",
      "metadata": {
        "colab_type": "code",
        "id": "3NZpfnnkhDO1",
        "outputId": "6382e2ae-aa78-4da5-85fe-72bc9b60cb7a",
        "colab": {
          "base_uri": "https://localhost:8080/",
          "height": 309
        }
      },
      "source": [
        "df['month_sin'] = np.sin((df.month-1)*(2.*np.pi/12)) #Shifting month value down by 1 for convenience so that we have 0-11 range.\n",
        "df['month_cos'] = np.cos((df.month-1)*(2.*np.pi/12)) #Shifting month value down by 1 for convenience so that we have 0-11 range.\n",
        "df.head(5)"
      ],
      "execution_count": 13,
      "outputs": [
        {
          "output_type": "execute_result",
          "data": {
            "text/html": [
              "<div>\n",
              "<style scoped>\n",
              "    .dataframe tbody tr th:only-of-type {\n",
              "        vertical-align: middle;\n",
              "    }\n",
              "\n",
              "    .dataframe tbody tr th {\n",
              "        vertical-align: top;\n",
              "    }\n",
              "\n",
              "    .dataframe thead th {\n",
              "        text-align: right;\n",
              "    }\n",
              "</style>\n",
              "<table border=\"1\" class=\"dataframe\">\n",
              "  <thead>\n",
              "    <tr style=\"text-align: right;\">\n",
              "      <th></th>\n",
              "      <th>age</th>\n",
              "      <th>job</th>\n",
              "      <th>marital</th>\n",
              "      <th>education</th>\n",
              "      <th>default</th>\n",
              "      <th>balance</th>\n",
              "      <th>housing</th>\n",
              "      <th>loan</th>\n",
              "      <th>contact</th>\n",
              "      <th>day</th>\n",
              "      <th>month</th>\n",
              "      <th>duration</th>\n",
              "      <th>campaign</th>\n",
              "      <th>pdays</th>\n",
              "      <th>previous</th>\n",
              "      <th>poutcome</th>\n",
              "      <th>subscribed</th>\n",
              "      <th>month_sin</th>\n",
              "      <th>month_cos</th>\n",
              "    </tr>\n",
              "  </thead>\n",
              "  <tbody>\n",
              "    <tr>\n",
              "      <th>0</th>\n",
              "      <td>32.0</td>\n",
              "      <td>technician</td>\n",
              "      <td>single</td>\n",
              "      <td>tertiary</td>\n",
              "      <td>no</td>\n",
              "      <td>392</td>\n",
              "      <td>yes</td>\n",
              "      <td>no</td>\n",
              "      <td>cellular</td>\n",
              "      <td>1</td>\n",
              "      <td>4</td>\n",
              "      <td>957</td>\n",
              "      <td>2</td>\n",
              "      <td>131</td>\n",
              "      <td>2</td>\n",
              "      <td>failure</td>\n",
              "      <td>no</td>\n",
              "      <td>1.0</td>\n",
              "      <td>6.123234e-17</td>\n",
              "    </tr>\n",
              "    <tr>\n",
              "      <th>1</th>\n",
              "      <td>39.0</td>\n",
              "      <td>technician</td>\n",
              "      <td>divorced</td>\n",
              "      <td>secondary</td>\n",
              "      <td>no</td>\n",
              "      <td>688</td>\n",
              "      <td>yes</td>\n",
              "      <td>yes</td>\n",
              "      <td>cellular</td>\n",
              "      <td>1</td>\n",
              "      <td>4</td>\n",
              "      <td>233</td>\n",
              "      <td>2</td>\n",
              "      <td>133</td>\n",
              "      <td>1</td>\n",
              "      <td>failure</td>\n",
              "      <td>no</td>\n",
              "      <td>1.0</td>\n",
              "      <td>6.123234e-17</td>\n",
              "    </tr>\n",
              "    <tr>\n",
              "      <th>2</th>\n",
              "      <td>59.0</td>\n",
              "      <td>retired</td>\n",
              "      <td>married</td>\n",
              "      <td>secondary</td>\n",
              "      <td>no</td>\n",
              "      <td>1035</td>\n",
              "      <td>yes</td>\n",
              "      <td>yes</td>\n",
              "      <td>cellular</td>\n",
              "      <td>1</td>\n",
              "      <td>4</td>\n",
              "      <td>126</td>\n",
              "      <td>2</td>\n",
              "      <td>239</td>\n",
              "      <td>1</td>\n",
              "      <td>failure</td>\n",
              "      <td>no</td>\n",
              "      <td>1.0</td>\n",
              "      <td>6.123234e-17</td>\n",
              "    </tr>\n",
              "    <tr>\n",
              "      <th>3</th>\n",
              "      <td>47.0</td>\n",
              "      <td>blue-collar</td>\n",
              "      <td>married</td>\n",
              "      <td>secondary</td>\n",
              "      <td>no</td>\n",
              "      <td>398</td>\n",
              "      <td>yes</td>\n",
              "      <td>yes</td>\n",
              "      <td>cellular</td>\n",
              "      <td>1</td>\n",
              "      <td>4</td>\n",
              "      <td>274</td>\n",
              "      <td>1</td>\n",
              "      <td>238</td>\n",
              "      <td>2</td>\n",
              "      <td>failure</td>\n",
              "      <td>no</td>\n",
              "      <td>1.0</td>\n",
              "      <td>6.123234e-17</td>\n",
              "    </tr>\n",
              "    <tr>\n",
              "      <th>4</th>\n",
              "      <td>54.0</td>\n",
              "      <td>retired</td>\n",
              "      <td>married</td>\n",
              "      <td>secondary</td>\n",
              "      <td>no</td>\n",
              "      <td>1004</td>\n",
              "      <td>yes</td>\n",
              "      <td>no</td>\n",
              "      <td>cellular</td>\n",
              "      <td>1</td>\n",
              "      <td>4</td>\n",
              "      <td>479</td>\n",
              "      <td>1</td>\n",
              "      <td>307</td>\n",
              "      <td>1</td>\n",
              "      <td>failure</td>\n",
              "      <td>no</td>\n",
              "      <td>1.0</td>\n",
              "      <td>6.123234e-17</td>\n",
              "    </tr>\n",
              "  </tbody>\n",
              "</table>\n",
              "</div>"
            ],
            "text/plain": [
              "    age          job   marital  ... subscribed month_sin     month_cos\n",
              "0  32.0   technician    single  ...         no       1.0  6.123234e-17\n",
              "1  39.0   technician  divorced  ...         no       1.0  6.123234e-17\n",
              "2  59.0      retired   married  ...         no       1.0  6.123234e-17\n",
              "3  47.0  blue-collar   married  ...         no       1.0  6.123234e-17\n",
              "4  54.0      retired   married  ...         no       1.0  6.123234e-17\n",
              "\n",
              "[5 rows x 19 columns]"
            ]
          },
          "metadata": {
            "tags": []
          },
          "execution_count": 13
        }
      ]
    },
    {
      "cell_type": "markdown",
      "metadata": {
        "colab_type": "text",
        "id": "8SMkVTbpiN0g"
      },
      "source": [
        "Now that we have the cyclic nature of months available in place as a feature, or attribute, we can drop the actual month column."
      ]
    },
    {
      "cell_type": "code",
      "metadata": {
        "colab_type": "code",
        "id": "A3sZNWaciWOX",
        "outputId": "85032710-d4a8-453c-ab3f-4775686b6b8b",
        "colab": {
          "base_uri": "https://localhost:8080/",
          "height": 224
        }
      },
      "source": [
        "df.drop('month', axis=1, inplace=True)\n",
        "df.tail()"
      ],
      "execution_count": 14,
      "outputs": [
        {
          "output_type": "execute_result",
          "data": {
            "text/html": [
              "<div>\n",
              "<style scoped>\n",
              "    .dataframe tbody tr th:only-of-type {\n",
              "        vertical-align: middle;\n",
              "    }\n",
              "\n",
              "    .dataframe tbody tr th {\n",
              "        vertical-align: top;\n",
              "    }\n",
              "\n",
              "    .dataframe thead th {\n",
              "        text-align: right;\n",
              "    }\n",
              "</style>\n",
              "<table border=\"1\" class=\"dataframe\">\n",
              "  <thead>\n",
              "    <tr style=\"text-align: right;\">\n",
              "      <th></th>\n",
              "      <th>age</th>\n",
              "      <th>job</th>\n",
              "      <th>marital</th>\n",
              "      <th>education</th>\n",
              "      <th>default</th>\n",
              "      <th>balance</th>\n",
              "      <th>housing</th>\n",
              "      <th>loan</th>\n",
              "      <th>contact</th>\n",
              "      <th>day</th>\n",
              "      <th>duration</th>\n",
              "      <th>campaign</th>\n",
              "      <th>pdays</th>\n",
              "      <th>previous</th>\n",
              "      <th>poutcome</th>\n",
              "      <th>subscribed</th>\n",
              "      <th>month_sin</th>\n",
              "      <th>month_cos</th>\n",
              "    </tr>\n",
              "  </thead>\n",
              "  <tbody>\n",
              "    <tr>\n",
              "      <th>1995</th>\n",
              "      <td>20.0</td>\n",
              "      <td>student</td>\n",
              "      <td>single</td>\n",
              "      <td>NaN</td>\n",
              "      <td>no</td>\n",
              "      <td>2785</td>\n",
              "      <td>no</td>\n",
              "      <td>no</td>\n",
              "      <td>cellular</td>\n",
              "      <td>16</td>\n",
              "      <td>327</td>\n",
              "      <td>2</td>\n",
              "      <td>-1</td>\n",
              "      <td>0</td>\n",
              "      <td>NaN</td>\n",
              "      <td>yes</td>\n",
              "      <td>-0.866025</td>\n",
              "      <td>-0.5</td>\n",
              "    </tr>\n",
              "    <tr>\n",
              "      <th>1996</th>\n",
              "      <td>28.0</td>\n",
              "      <td>admin.</td>\n",
              "      <td>single</td>\n",
              "      <td>secondary</td>\n",
              "      <td>no</td>\n",
              "      <td>127</td>\n",
              "      <td>no</td>\n",
              "      <td>no</td>\n",
              "      <td>cellular</td>\n",
              "      <td>16</td>\n",
              "      <td>1334</td>\n",
              "      <td>2</td>\n",
              "      <td>-1</td>\n",
              "      <td>0</td>\n",
              "      <td>NaN</td>\n",
              "      <td>yes</td>\n",
              "      <td>-0.866025</td>\n",
              "      <td>-0.5</td>\n",
              "    </tr>\n",
              "    <tr>\n",
              "      <th>1997</th>\n",
              "      <td>81.0</td>\n",
              "      <td>retired</td>\n",
              "      <td>married</td>\n",
              "      <td>primary</td>\n",
              "      <td>no</td>\n",
              "      <td>1154</td>\n",
              "      <td>no</td>\n",
              "      <td>no</td>\n",
              "      <td>telephone</td>\n",
              "      <td>17</td>\n",
              "      <td>231</td>\n",
              "      <td>1</td>\n",
              "      <td>-1</td>\n",
              "      <td>0</td>\n",
              "      <td>NaN</td>\n",
              "      <td>yes</td>\n",
              "      <td>-0.866025</td>\n",
              "      <td>-0.5</td>\n",
              "    </tr>\n",
              "    <tr>\n",
              "      <th>1998</th>\n",
              "      <td>46.0</td>\n",
              "      <td>services</td>\n",
              "      <td>married</td>\n",
              "      <td>primary</td>\n",
              "      <td>no</td>\n",
              "      <td>4343</td>\n",
              "      <td>yes</td>\n",
              "      <td>no</td>\n",
              "      <td>NaN</td>\n",
              "      <td>20</td>\n",
              "      <td>185</td>\n",
              "      <td>1</td>\n",
              "      <td>-1</td>\n",
              "      <td>0</td>\n",
              "      <td>NaN</td>\n",
              "      <td>yes</td>\n",
              "      <td>-0.866025</td>\n",
              "      <td>-0.5</td>\n",
              "    </tr>\n",
              "    <tr>\n",
              "      <th>1999</th>\n",
              "      <td>40.0</td>\n",
              "      <td>entrepreneur</td>\n",
              "      <td>married</td>\n",
              "      <td>secondary</td>\n",
              "      <td>no</td>\n",
              "      <td>6403</td>\n",
              "      <td>no</td>\n",
              "      <td>no</td>\n",
              "      <td>cellular</td>\n",
              "      <td>22</td>\n",
              "      <td>208</td>\n",
              "      <td>2</td>\n",
              "      <td>-1</td>\n",
              "      <td>0</td>\n",
              "      <td>NaN</td>\n",
              "      <td>yes</td>\n",
              "      <td>-0.866025</td>\n",
              "      <td>-0.5</td>\n",
              "    </tr>\n",
              "  </tbody>\n",
              "</table>\n",
              "</div>"
            ],
            "text/plain": [
              "       age           job  marital  ... subscribed month_sin  month_cos\n",
              "1995  20.0       student   single  ...        yes -0.866025       -0.5\n",
              "1996  28.0        admin.   single  ...        yes -0.866025       -0.5\n",
              "1997  81.0       retired  married  ...        yes -0.866025       -0.5\n",
              "1998  46.0      services  married  ...        yes -0.866025       -0.5\n",
              "1999  40.0  entrepreneur  married  ...        yes -0.866025       -0.5\n",
              "\n",
              "[5 rows x 18 columns]"
            ]
          },
          "metadata": {
            "tags": []
          },
          "execution_count": 14
        }
      ]
    },
    {
      "cell_type": "markdown",
      "metadata": {
        "colab_type": "text",
        "id": "-PbF6DNgpyBD"
      },
      "source": [
        "> **One Hot Encoding other categorical/nominal attributes**\n",
        "\n",
        "\n"
      ]
    },
    {
      "cell_type": "code",
      "metadata": {
        "colab_type": "code",
        "id": "xXujuoN3p_8s",
        "outputId": "4be6de93-b7aa-44a3-d373-96a6a81fe152",
        "colab": {
          "base_uri": "https://localhost:8080/",
          "height": 241
        }
      },
      "source": [
        "# first one-hot encode the categorical columns with NaNs\n",
        "\n",
        "df = pd.get_dummies(df, columns=['job', 'education', 'contact', 'poutcome'], dummy_na=True, drop_first=True)\n",
        "df.tail()"
      ],
      "execution_count": 15,
      "outputs": [
        {
          "output_type": "execute_result",
          "data": {
            "text/html": [
              "<div>\n",
              "<style scoped>\n",
              "    .dataframe tbody tr th:only-of-type {\n",
              "        vertical-align: middle;\n",
              "    }\n",
              "\n",
              "    .dataframe tbody tr th {\n",
              "        vertical-align: top;\n",
              "    }\n",
              "\n",
              "    .dataframe thead th {\n",
              "        text-align: right;\n",
              "    }\n",
              "</style>\n",
              "<table border=\"1\" class=\"dataframe\">\n",
              "  <thead>\n",
              "    <tr style=\"text-align: right;\">\n",
              "      <th></th>\n",
              "      <th>age</th>\n",
              "      <th>marital</th>\n",
              "      <th>default</th>\n",
              "      <th>balance</th>\n",
              "      <th>housing</th>\n",
              "      <th>loan</th>\n",
              "      <th>day</th>\n",
              "      <th>duration</th>\n",
              "      <th>campaign</th>\n",
              "      <th>pdays</th>\n",
              "      <th>previous</th>\n",
              "      <th>subscribed</th>\n",
              "      <th>month_sin</th>\n",
              "      <th>month_cos</th>\n",
              "      <th>job_blue-collar</th>\n",
              "      <th>job_entrepreneur</th>\n",
              "      <th>job_housemaid</th>\n",
              "      <th>job_management</th>\n",
              "      <th>job_retired</th>\n",
              "      <th>job_self-employed</th>\n",
              "      <th>job_services</th>\n",
              "      <th>job_student</th>\n",
              "      <th>job_technician</th>\n",
              "      <th>job_unemployed</th>\n",
              "      <th>job_nan</th>\n",
              "      <th>education_secondary</th>\n",
              "      <th>education_tertiary</th>\n",
              "      <th>education_nan</th>\n",
              "      <th>contact_telephone</th>\n",
              "      <th>contact_nan</th>\n",
              "      <th>poutcome_other</th>\n",
              "      <th>poutcome_success</th>\n",
              "      <th>poutcome_nan</th>\n",
              "    </tr>\n",
              "  </thead>\n",
              "  <tbody>\n",
              "    <tr>\n",
              "      <th>1995</th>\n",
              "      <td>20.0</td>\n",
              "      <td>single</td>\n",
              "      <td>no</td>\n",
              "      <td>2785</td>\n",
              "      <td>no</td>\n",
              "      <td>no</td>\n",
              "      <td>16</td>\n",
              "      <td>327</td>\n",
              "      <td>2</td>\n",
              "      <td>-1</td>\n",
              "      <td>0</td>\n",
              "      <td>yes</td>\n",
              "      <td>-0.866025</td>\n",
              "      <td>-0.5</td>\n",
              "      <td>0</td>\n",
              "      <td>0</td>\n",
              "      <td>0</td>\n",
              "      <td>0</td>\n",
              "      <td>0</td>\n",
              "      <td>0</td>\n",
              "      <td>0</td>\n",
              "      <td>1</td>\n",
              "      <td>0</td>\n",
              "      <td>0</td>\n",
              "      <td>0</td>\n",
              "      <td>0</td>\n",
              "      <td>0</td>\n",
              "      <td>1</td>\n",
              "      <td>0</td>\n",
              "      <td>0</td>\n",
              "      <td>0</td>\n",
              "      <td>0</td>\n",
              "      <td>1</td>\n",
              "    </tr>\n",
              "    <tr>\n",
              "      <th>1996</th>\n",
              "      <td>28.0</td>\n",
              "      <td>single</td>\n",
              "      <td>no</td>\n",
              "      <td>127</td>\n",
              "      <td>no</td>\n",
              "      <td>no</td>\n",
              "      <td>16</td>\n",
              "      <td>1334</td>\n",
              "      <td>2</td>\n",
              "      <td>-1</td>\n",
              "      <td>0</td>\n",
              "      <td>yes</td>\n",
              "      <td>-0.866025</td>\n",
              "      <td>-0.5</td>\n",
              "      <td>0</td>\n",
              "      <td>0</td>\n",
              "      <td>0</td>\n",
              "      <td>0</td>\n",
              "      <td>0</td>\n",
              "      <td>0</td>\n",
              "      <td>0</td>\n",
              "      <td>0</td>\n",
              "      <td>0</td>\n",
              "      <td>0</td>\n",
              "      <td>0</td>\n",
              "      <td>1</td>\n",
              "      <td>0</td>\n",
              "      <td>0</td>\n",
              "      <td>0</td>\n",
              "      <td>0</td>\n",
              "      <td>0</td>\n",
              "      <td>0</td>\n",
              "      <td>1</td>\n",
              "    </tr>\n",
              "    <tr>\n",
              "      <th>1997</th>\n",
              "      <td>81.0</td>\n",
              "      <td>married</td>\n",
              "      <td>no</td>\n",
              "      <td>1154</td>\n",
              "      <td>no</td>\n",
              "      <td>no</td>\n",
              "      <td>17</td>\n",
              "      <td>231</td>\n",
              "      <td>1</td>\n",
              "      <td>-1</td>\n",
              "      <td>0</td>\n",
              "      <td>yes</td>\n",
              "      <td>-0.866025</td>\n",
              "      <td>-0.5</td>\n",
              "      <td>0</td>\n",
              "      <td>0</td>\n",
              "      <td>0</td>\n",
              "      <td>0</td>\n",
              "      <td>1</td>\n",
              "      <td>0</td>\n",
              "      <td>0</td>\n",
              "      <td>0</td>\n",
              "      <td>0</td>\n",
              "      <td>0</td>\n",
              "      <td>0</td>\n",
              "      <td>0</td>\n",
              "      <td>0</td>\n",
              "      <td>0</td>\n",
              "      <td>1</td>\n",
              "      <td>0</td>\n",
              "      <td>0</td>\n",
              "      <td>0</td>\n",
              "      <td>1</td>\n",
              "    </tr>\n",
              "    <tr>\n",
              "      <th>1998</th>\n",
              "      <td>46.0</td>\n",
              "      <td>married</td>\n",
              "      <td>no</td>\n",
              "      <td>4343</td>\n",
              "      <td>yes</td>\n",
              "      <td>no</td>\n",
              "      <td>20</td>\n",
              "      <td>185</td>\n",
              "      <td>1</td>\n",
              "      <td>-1</td>\n",
              "      <td>0</td>\n",
              "      <td>yes</td>\n",
              "      <td>-0.866025</td>\n",
              "      <td>-0.5</td>\n",
              "      <td>0</td>\n",
              "      <td>0</td>\n",
              "      <td>0</td>\n",
              "      <td>0</td>\n",
              "      <td>0</td>\n",
              "      <td>0</td>\n",
              "      <td>1</td>\n",
              "      <td>0</td>\n",
              "      <td>0</td>\n",
              "      <td>0</td>\n",
              "      <td>0</td>\n",
              "      <td>0</td>\n",
              "      <td>0</td>\n",
              "      <td>0</td>\n",
              "      <td>0</td>\n",
              "      <td>1</td>\n",
              "      <td>0</td>\n",
              "      <td>0</td>\n",
              "      <td>1</td>\n",
              "    </tr>\n",
              "    <tr>\n",
              "      <th>1999</th>\n",
              "      <td>40.0</td>\n",
              "      <td>married</td>\n",
              "      <td>no</td>\n",
              "      <td>6403</td>\n",
              "      <td>no</td>\n",
              "      <td>no</td>\n",
              "      <td>22</td>\n",
              "      <td>208</td>\n",
              "      <td>2</td>\n",
              "      <td>-1</td>\n",
              "      <td>0</td>\n",
              "      <td>yes</td>\n",
              "      <td>-0.866025</td>\n",
              "      <td>-0.5</td>\n",
              "      <td>0</td>\n",
              "      <td>1</td>\n",
              "      <td>0</td>\n",
              "      <td>0</td>\n",
              "      <td>0</td>\n",
              "      <td>0</td>\n",
              "      <td>0</td>\n",
              "      <td>0</td>\n",
              "      <td>0</td>\n",
              "      <td>0</td>\n",
              "      <td>0</td>\n",
              "      <td>1</td>\n",
              "      <td>0</td>\n",
              "      <td>0</td>\n",
              "      <td>0</td>\n",
              "      <td>0</td>\n",
              "      <td>0</td>\n",
              "      <td>0</td>\n",
              "      <td>1</td>\n",
              "    </tr>\n",
              "  </tbody>\n",
              "</table>\n",
              "</div>"
            ],
            "text/plain": [
              "       age  marital default  ...  poutcome_other poutcome_success poutcome_nan\n",
              "1995  20.0   single      no  ...               0                0            1\n",
              "1996  28.0   single      no  ...               0                0            1\n",
              "1997  81.0  married      no  ...               0                0            1\n",
              "1998  46.0  married      no  ...               0                0            1\n",
              "1999  40.0  married      no  ...               0                0            1\n",
              "\n",
              "[5 rows x 33 columns]"
            ]
          },
          "metadata": {
            "tags": []
          },
          "execution_count": 15
        }
      ]
    },
    {
      "cell_type": "markdown",
      "metadata": {
        "colab_type": "text",
        "id": "Dzjz9KsKrVzS"
      },
      "source": [
        "We can see that there is a separate column created for features with NaN value.\n",
        "\n",
        "Time to encode, other categorical attribute values that do not have any missing values."
      ]
    },
    {
      "cell_type": "code",
      "metadata": {
        "colab_type": "code",
        "id": "-pa4uyIOw8oy",
        "outputId": "86c43658-bde8-4fa2-be99-f5a5041aa6f5",
        "colab": {
          "base_uri": "https://localhost:8080/",
          "height": 326
        }
      },
      "source": [
        "df = pd.get_dummies(df, drop_first=True)\n",
        "df.head()"
      ],
      "execution_count": 16,
      "outputs": [
        {
          "output_type": "execute_result",
          "data": {
            "text/html": [
              "<div>\n",
              "<style scoped>\n",
              "    .dataframe tbody tr th:only-of-type {\n",
              "        vertical-align: middle;\n",
              "    }\n",
              "\n",
              "    .dataframe tbody tr th {\n",
              "        vertical-align: top;\n",
              "    }\n",
              "\n",
              "    .dataframe thead th {\n",
              "        text-align: right;\n",
              "    }\n",
              "</style>\n",
              "<table border=\"1\" class=\"dataframe\">\n",
              "  <thead>\n",
              "    <tr style=\"text-align: right;\">\n",
              "      <th></th>\n",
              "      <th>age</th>\n",
              "      <th>balance</th>\n",
              "      <th>day</th>\n",
              "      <th>duration</th>\n",
              "      <th>campaign</th>\n",
              "      <th>pdays</th>\n",
              "      <th>previous</th>\n",
              "      <th>month_sin</th>\n",
              "      <th>month_cos</th>\n",
              "      <th>job_blue-collar</th>\n",
              "      <th>job_entrepreneur</th>\n",
              "      <th>job_housemaid</th>\n",
              "      <th>job_management</th>\n",
              "      <th>job_retired</th>\n",
              "      <th>job_self-employed</th>\n",
              "      <th>job_services</th>\n",
              "      <th>job_student</th>\n",
              "      <th>job_technician</th>\n",
              "      <th>job_unemployed</th>\n",
              "      <th>job_nan</th>\n",
              "      <th>education_secondary</th>\n",
              "      <th>education_tertiary</th>\n",
              "      <th>education_nan</th>\n",
              "      <th>contact_telephone</th>\n",
              "      <th>contact_nan</th>\n",
              "      <th>poutcome_other</th>\n",
              "      <th>poutcome_success</th>\n",
              "      <th>poutcome_nan</th>\n",
              "      <th>marital_married</th>\n",
              "      <th>marital_single</th>\n",
              "      <th>default_yes</th>\n",
              "      <th>housing_yes</th>\n",
              "      <th>loan_yes</th>\n",
              "      <th>subscribed_yes</th>\n",
              "    </tr>\n",
              "  </thead>\n",
              "  <tbody>\n",
              "    <tr>\n",
              "      <th>0</th>\n",
              "      <td>32.0</td>\n",
              "      <td>392</td>\n",
              "      <td>1</td>\n",
              "      <td>957</td>\n",
              "      <td>2</td>\n",
              "      <td>131</td>\n",
              "      <td>2</td>\n",
              "      <td>1.0</td>\n",
              "      <td>6.123234e-17</td>\n",
              "      <td>0</td>\n",
              "      <td>0</td>\n",
              "      <td>0</td>\n",
              "      <td>0</td>\n",
              "      <td>0</td>\n",
              "      <td>0</td>\n",
              "      <td>0</td>\n",
              "      <td>0</td>\n",
              "      <td>1</td>\n",
              "      <td>0</td>\n",
              "      <td>0</td>\n",
              "      <td>0</td>\n",
              "      <td>1</td>\n",
              "      <td>0</td>\n",
              "      <td>0</td>\n",
              "      <td>0</td>\n",
              "      <td>0</td>\n",
              "      <td>0</td>\n",
              "      <td>0</td>\n",
              "      <td>0</td>\n",
              "      <td>1</td>\n",
              "      <td>0</td>\n",
              "      <td>1</td>\n",
              "      <td>0</td>\n",
              "      <td>0</td>\n",
              "    </tr>\n",
              "    <tr>\n",
              "      <th>1</th>\n",
              "      <td>39.0</td>\n",
              "      <td>688</td>\n",
              "      <td>1</td>\n",
              "      <td>233</td>\n",
              "      <td>2</td>\n",
              "      <td>133</td>\n",
              "      <td>1</td>\n",
              "      <td>1.0</td>\n",
              "      <td>6.123234e-17</td>\n",
              "      <td>0</td>\n",
              "      <td>0</td>\n",
              "      <td>0</td>\n",
              "      <td>0</td>\n",
              "      <td>0</td>\n",
              "      <td>0</td>\n",
              "      <td>0</td>\n",
              "      <td>0</td>\n",
              "      <td>1</td>\n",
              "      <td>0</td>\n",
              "      <td>0</td>\n",
              "      <td>1</td>\n",
              "      <td>0</td>\n",
              "      <td>0</td>\n",
              "      <td>0</td>\n",
              "      <td>0</td>\n",
              "      <td>0</td>\n",
              "      <td>0</td>\n",
              "      <td>0</td>\n",
              "      <td>0</td>\n",
              "      <td>0</td>\n",
              "      <td>0</td>\n",
              "      <td>1</td>\n",
              "      <td>1</td>\n",
              "      <td>0</td>\n",
              "    </tr>\n",
              "    <tr>\n",
              "      <th>2</th>\n",
              "      <td>59.0</td>\n",
              "      <td>1035</td>\n",
              "      <td>1</td>\n",
              "      <td>126</td>\n",
              "      <td>2</td>\n",
              "      <td>239</td>\n",
              "      <td>1</td>\n",
              "      <td>1.0</td>\n",
              "      <td>6.123234e-17</td>\n",
              "      <td>0</td>\n",
              "      <td>0</td>\n",
              "      <td>0</td>\n",
              "      <td>0</td>\n",
              "      <td>1</td>\n",
              "      <td>0</td>\n",
              "      <td>0</td>\n",
              "      <td>0</td>\n",
              "      <td>0</td>\n",
              "      <td>0</td>\n",
              "      <td>0</td>\n",
              "      <td>1</td>\n",
              "      <td>0</td>\n",
              "      <td>0</td>\n",
              "      <td>0</td>\n",
              "      <td>0</td>\n",
              "      <td>0</td>\n",
              "      <td>0</td>\n",
              "      <td>0</td>\n",
              "      <td>1</td>\n",
              "      <td>0</td>\n",
              "      <td>0</td>\n",
              "      <td>1</td>\n",
              "      <td>1</td>\n",
              "      <td>0</td>\n",
              "    </tr>\n",
              "    <tr>\n",
              "      <th>3</th>\n",
              "      <td>47.0</td>\n",
              "      <td>398</td>\n",
              "      <td>1</td>\n",
              "      <td>274</td>\n",
              "      <td>1</td>\n",
              "      <td>238</td>\n",
              "      <td>2</td>\n",
              "      <td>1.0</td>\n",
              "      <td>6.123234e-17</td>\n",
              "      <td>1</td>\n",
              "      <td>0</td>\n",
              "      <td>0</td>\n",
              "      <td>0</td>\n",
              "      <td>0</td>\n",
              "      <td>0</td>\n",
              "      <td>0</td>\n",
              "      <td>0</td>\n",
              "      <td>0</td>\n",
              "      <td>0</td>\n",
              "      <td>0</td>\n",
              "      <td>1</td>\n",
              "      <td>0</td>\n",
              "      <td>0</td>\n",
              "      <td>0</td>\n",
              "      <td>0</td>\n",
              "      <td>0</td>\n",
              "      <td>0</td>\n",
              "      <td>0</td>\n",
              "      <td>1</td>\n",
              "      <td>0</td>\n",
              "      <td>0</td>\n",
              "      <td>1</td>\n",
              "      <td>1</td>\n",
              "      <td>0</td>\n",
              "    </tr>\n",
              "    <tr>\n",
              "      <th>4</th>\n",
              "      <td>54.0</td>\n",
              "      <td>1004</td>\n",
              "      <td>1</td>\n",
              "      <td>479</td>\n",
              "      <td>1</td>\n",
              "      <td>307</td>\n",
              "      <td>1</td>\n",
              "      <td>1.0</td>\n",
              "      <td>6.123234e-17</td>\n",
              "      <td>0</td>\n",
              "      <td>0</td>\n",
              "      <td>0</td>\n",
              "      <td>0</td>\n",
              "      <td>1</td>\n",
              "      <td>0</td>\n",
              "      <td>0</td>\n",
              "      <td>0</td>\n",
              "      <td>0</td>\n",
              "      <td>0</td>\n",
              "      <td>0</td>\n",
              "      <td>1</td>\n",
              "      <td>0</td>\n",
              "      <td>0</td>\n",
              "      <td>0</td>\n",
              "      <td>0</td>\n",
              "      <td>0</td>\n",
              "      <td>0</td>\n",
              "      <td>0</td>\n",
              "      <td>1</td>\n",
              "      <td>0</td>\n",
              "      <td>0</td>\n",
              "      <td>1</td>\n",
              "      <td>0</td>\n",
              "      <td>0</td>\n",
              "    </tr>\n",
              "  </tbody>\n",
              "</table>\n",
              "</div>"
            ],
            "text/plain": [
              "    age  balance  day  ...  housing_yes  loan_yes  subscribed_yes\n",
              "0  32.0      392    1  ...            1         0               0\n",
              "1  39.0      688    1  ...            1         1               0\n",
              "2  59.0     1035    1  ...            1         1               0\n",
              "3  47.0      398    1  ...            1         1               0\n",
              "4  54.0     1004    1  ...            1         0               0\n",
              "\n",
              "[5 rows x 34 columns]"
            ]
          },
          "metadata": {
            "tags": []
          },
          "execution_count": 16
        }
      ]
    },
    {
      "cell_type": "markdown",
      "metadata": {
        "colab_type": "text",
        "id": "6lrwOMMixJJp"
      },
      "source": [
        "We can see that columns like married, are encoded by splitting them into columns with attribute values as the column name (e.g. married_single, etc.), and the value would be 1 or 0 depending on the actual attribute value."
      ]
    },
    {
      "cell_type": "markdown",
      "metadata": {
        "colab_type": "text",
        "id": "4HLcR8RKxxnn"
      },
      "source": [
        "**Step-4: CLEANSING MISSING NUMERIC VALUES**"
      ]
    },
    {
      "cell_type": "code",
      "metadata": {
        "colab_type": "code",
        "id": "eSKUZ26hyHyR",
        "outputId": "8fb026ff-6c10-4439-cf1e-e4962f9677ba",
        "colab": {
          "base_uri": "https://localhost:8080/",
          "height": 612
        }
      },
      "source": [
        "df.isna().sum() #Sum the attributes with NaN or missing values, and display it"
      ],
      "execution_count": 17,
      "outputs": [
        {
          "output_type": "execute_result",
          "data": {
            "text/plain": [
              "age                    12\n",
              "balance                 0\n",
              "day                     0\n",
              "duration                0\n",
              "campaign                0\n",
              "pdays                   0\n",
              "previous                0\n",
              "month_sin               0\n",
              "month_cos               0\n",
              "job_blue-collar         0\n",
              "job_entrepreneur        0\n",
              "job_housemaid           0\n",
              "job_management          0\n",
              "job_retired             0\n",
              "job_self-employed       0\n",
              "job_services            0\n",
              "job_student             0\n",
              "job_technician          0\n",
              "job_unemployed          0\n",
              "job_nan                 0\n",
              "education_secondary     0\n",
              "education_tertiary      0\n",
              "education_nan           0\n",
              "contact_telephone       0\n",
              "contact_nan             0\n",
              "poutcome_other          0\n",
              "poutcome_success        0\n",
              "poutcome_nan            0\n",
              "marital_married         0\n",
              "marital_single          0\n",
              "default_yes             0\n",
              "housing_yes             0\n",
              "loan_yes                0\n",
              "subscribed_yes          0\n",
              "dtype: int64"
            ]
          },
          "metadata": {
            "tags": []
          },
          "execution_count": 17
        }
      ]
    },
    {
      "cell_type": "markdown",
      "metadata": {
        "colab_type": "text",
        "id": "adbPg_lwyYje"
      },
      "source": [
        "Only the attribute **age** has missing values.\n",
        "\n",
        "\n",
        "How do we determine or compute missing age values?\n",
        "> *   Simplest way is to compute mean of all ages, and fill it in for missing values. But this can induce bias to our dataset, as the mean might be skewed depending on the age range collected in our dataset.\n",
        "*   Another simpler way is to find the median of the ages present in our dataset and apply it for the missing values.\n",
        "\n",
        "\n",
        "\n",
        "\n",
        "Lets check out the median age of our dataset.\n",
        "\n"
      ]
    },
    {
      "cell_type": "code",
      "metadata": {
        "colab_type": "code",
        "id": "ll2MiUZ30KiV",
        "outputId": "9c9108d5-06d5-4080-e85f-09b752753d4e",
        "colab": {
          "base_uri": "https://localhost:8080/",
          "height": 34
        }
      },
      "source": [
        "df[\"age\"].median()"
      ],
      "execution_count": 18,
      "outputs": [
        {
          "output_type": "execute_result",
          "data": {
            "text/plain": [
              "38.0"
            ]
          },
          "metadata": {
            "tags": []
          },
          "execution_count": 18
        }
      ]
    },
    {
      "cell_type": "markdown",
      "metadata": {
        "colab_type": "text",
        "id": "KZqY3DT9035t"
      },
      "source": [
        "But upon a thorough examination of the dataset, there are records where records with missing values are of students, and filling in 38, the median age for such records would not be appropriate we believe.\n",
        "\n",
        "How about, finding attributes that might help us get an estimate of the age?"
      ]
    },
    {
      "cell_type": "code",
      "metadata": {
        "colab_type": "code",
        "id": "kNuHpHUE1VcT",
        "outputId": "40e35d6b-b66b-41c5-aa7d-351356837a6c",
        "colab": {
          "base_uri": "https://localhost:8080/",
          "height": 346
        }
      },
      "source": [
        "df.head()"
      ],
      "execution_count": 19,
      "outputs": [
        {
          "output_type": "execute_result",
          "data": {
            "text/html": [
              "<div>\n",
              "<style scoped>\n",
              "    .dataframe tbody tr th:only-of-type {\n",
              "        vertical-align: middle;\n",
              "    }\n",
              "\n",
              "    .dataframe tbody tr th {\n",
              "        vertical-align: top;\n",
              "    }\n",
              "\n",
              "    .dataframe thead th {\n",
              "        text-align: right;\n",
              "    }\n",
              "</style>\n",
              "<table border=\"1\" class=\"dataframe\">\n",
              "  <thead>\n",
              "    <tr style=\"text-align: right;\">\n",
              "      <th></th>\n",
              "      <th>age</th>\n",
              "      <th>balance</th>\n",
              "      <th>day</th>\n",
              "      <th>duration</th>\n",
              "      <th>campaign</th>\n",
              "      <th>pdays</th>\n",
              "      <th>previous</th>\n",
              "      <th>month_sin</th>\n",
              "      <th>month_cos</th>\n",
              "      <th>job_blue-collar</th>\n",
              "      <th>job_entrepreneur</th>\n",
              "      <th>job_housemaid</th>\n",
              "      <th>job_management</th>\n",
              "      <th>job_retired</th>\n",
              "      <th>job_self-employed</th>\n",
              "      <th>job_services</th>\n",
              "      <th>job_student</th>\n",
              "      <th>job_technician</th>\n",
              "      <th>job_unemployed</th>\n",
              "      <th>job_nan</th>\n",
              "      <th>education_secondary</th>\n",
              "      <th>education_tertiary</th>\n",
              "      <th>education_nan</th>\n",
              "      <th>contact_telephone</th>\n",
              "      <th>contact_nan</th>\n",
              "      <th>poutcome_other</th>\n",
              "      <th>poutcome_success</th>\n",
              "      <th>poutcome_nan</th>\n",
              "      <th>marital_married</th>\n",
              "      <th>marital_single</th>\n",
              "      <th>default_yes</th>\n",
              "      <th>housing_yes</th>\n",
              "      <th>loan_yes</th>\n",
              "      <th>subscribed_yes</th>\n",
              "    </tr>\n",
              "  </thead>\n",
              "  <tbody>\n",
              "    <tr>\n",
              "      <th>0</th>\n",
              "      <td>32.0</td>\n",
              "      <td>392</td>\n",
              "      <td>1</td>\n",
              "      <td>957</td>\n",
              "      <td>2</td>\n",
              "      <td>131</td>\n",
              "      <td>2</td>\n",
              "      <td>1.0</td>\n",
              "      <td>6.123234e-17</td>\n",
              "      <td>0</td>\n",
              "      <td>0</td>\n",
              "      <td>0</td>\n",
              "      <td>0</td>\n",
              "      <td>0</td>\n",
              "      <td>0</td>\n",
              "      <td>0</td>\n",
              "      <td>0</td>\n",
              "      <td>1</td>\n",
              "      <td>0</td>\n",
              "      <td>0</td>\n",
              "      <td>0</td>\n",
              "      <td>1</td>\n",
              "      <td>0</td>\n",
              "      <td>0</td>\n",
              "      <td>0</td>\n",
              "      <td>0</td>\n",
              "      <td>0</td>\n",
              "      <td>0</td>\n",
              "      <td>0</td>\n",
              "      <td>1</td>\n",
              "      <td>0</td>\n",
              "      <td>1</td>\n",
              "      <td>0</td>\n",
              "      <td>0</td>\n",
              "    </tr>\n",
              "    <tr>\n",
              "      <th>1</th>\n",
              "      <td>39.0</td>\n",
              "      <td>688</td>\n",
              "      <td>1</td>\n",
              "      <td>233</td>\n",
              "      <td>2</td>\n",
              "      <td>133</td>\n",
              "      <td>1</td>\n",
              "      <td>1.0</td>\n",
              "      <td>6.123234e-17</td>\n",
              "      <td>0</td>\n",
              "      <td>0</td>\n",
              "      <td>0</td>\n",
              "      <td>0</td>\n",
              "      <td>0</td>\n",
              "      <td>0</td>\n",
              "      <td>0</td>\n",
              "      <td>0</td>\n",
              "      <td>1</td>\n",
              "      <td>0</td>\n",
              "      <td>0</td>\n",
              "      <td>1</td>\n",
              "      <td>0</td>\n",
              "      <td>0</td>\n",
              "      <td>0</td>\n",
              "      <td>0</td>\n",
              "      <td>0</td>\n",
              "      <td>0</td>\n",
              "      <td>0</td>\n",
              "      <td>0</td>\n",
              "      <td>0</td>\n",
              "      <td>0</td>\n",
              "      <td>1</td>\n",
              "      <td>1</td>\n",
              "      <td>0</td>\n",
              "    </tr>\n",
              "    <tr>\n",
              "      <th>2</th>\n",
              "      <td>59.0</td>\n",
              "      <td>1035</td>\n",
              "      <td>1</td>\n",
              "      <td>126</td>\n",
              "      <td>2</td>\n",
              "      <td>239</td>\n",
              "      <td>1</td>\n",
              "      <td>1.0</td>\n",
              "      <td>6.123234e-17</td>\n",
              "      <td>0</td>\n",
              "      <td>0</td>\n",
              "      <td>0</td>\n",
              "      <td>0</td>\n",
              "      <td>1</td>\n",
              "      <td>0</td>\n",
              "      <td>0</td>\n",
              "      <td>0</td>\n",
              "      <td>0</td>\n",
              "      <td>0</td>\n",
              "      <td>0</td>\n",
              "      <td>1</td>\n",
              "      <td>0</td>\n",
              "      <td>0</td>\n",
              "      <td>0</td>\n",
              "      <td>0</td>\n",
              "      <td>0</td>\n",
              "      <td>0</td>\n",
              "      <td>0</td>\n",
              "      <td>1</td>\n",
              "      <td>0</td>\n",
              "      <td>0</td>\n",
              "      <td>1</td>\n",
              "      <td>1</td>\n",
              "      <td>0</td>\n",
              "    </tr>\n",
              "    <tr>\n",
              "      <th>3</th>\n",
              "      <td>47.0</td>\n",
              "      <td>398</td>\n",
              "      <td>1</td>\n",
              "      <td>274</td>\n",
              "      <td>1</td>\n",
              "      <td>238</td>\n",
              "      <td>2</td>\n",
              "      <td>1.0</td>\n",
              "      <td>6.123234e-17</td>\n",
              "      <td>1</td>\n",
              "      <td>0</td>\n",
              "      <td>0</td>\n",
              "      <td>0</td>\n",
              "      <td>0</td>\n",
              "      <td>0</td>\n",
              "      <td>0</td>\n",
              "      <td>0</td>\n",
              "      <td>0</td>\n",
              "      <td>0</td>\n",
              "      <td>0</td>\n",
              "      <td>1</td>\n",
              "      <td>0</td>\n",
              "      <td>0</td>\n",
              "      <td>0</td>\n",
              "      <td>0</td>\n",
              "      <td>0</td>\n",
              "      <td>0</td>\n",
              "      <td>0</td>\n",
              "      <td>1</td>\n",
              "      <td>0</td>\n",
              "      <td>0</td>\n",
              "      <td>1</td>\n",
              "      <td>1</td>\n",
              "      <td>0</td>\n",
              "    </tr>\n",
              "    <tr>\n",
              "      <th>4</th>\n",
              "      <td>54.0</td>\n",
              "      <td>1004</td>\n",
              "      <td>1</td>\n",
              "      <td>479</td>\n",
              "      <td>1</td>\n",
              "      <td>307</td>\n",
              "      <td>1</td>\n",
              "      <td>1.0</td>\n",
              "      <td>6.123234e-17</td>\n",
              "      <td>0</td>\n",
              "      <td>0</td>\n",
              "      <td>0</td>\n",
              "      <td>0</td>\n",
              "      <td>1</td>\n",
              "      <td>0</td>\n",
              "      <td>0</td>\n",
              "      <td>0</td>\n",
              "      <td>0</td>\n",
              "      <td>0</td>\n",
              "      <td>0</td>\n",
              "      <td>1</td>\n",
              "      <td>0</td>\n",
              "      <td>0</td>\n",
              "      <td>0</td>\n",
              "      <td>0</td>\n",
              "      <td>0</td>\n",
              "      <td>0</td>\n",
              "      <td>0</td>\n",
              "      <td>1</td>\n",
              "      <td>0</td>\n",
              "      <td>0</td>\n",
              "      <td>1</td>\n",
              "      <td>0</td>\n",
              "      <td>0</td>\n",
              "    </tr>\n",
              "  </tbody>\n",
              "</table>\n",
              "</div>"
            ],
            "text/plain": [
              "    age  balance  day  ...  housing_yes  loan_yes  subscribed_yes\n",
              "0  32.0      392    1  ...            1         0               0\n",
              "1  39.0      688    1  ...            1         1               0\n",
              "2  59.0     1035    1  ...            1         1               0\n",
              "3  47.0      398    1  ...            1         1               0\n",
              "4  54.0     1004    1  ...            1         0               0\n",
              "\n",
              "[5 rows x 34 columns]"
            ]
          },
          "metadata": {
            "tags": []
          },
          "execution_count": 19
        }
      ]
    },
    {
      "cell_type": "markdown",
      "metadata": {
        "colab_type": "text",
        "id": "e6rIn03j1ae6"
      },
      "source": [
        ">Upon examining the dataset again, we believe or assume that marital_single (married or not) and job_student (Student or not) can be good indicators for age of a person.\n",
        "\n",
        "A boxplot of these attributes can help us understand if they are good indicators."
      ]
    },
    {
      "cell_type": "code",
      "metadata": {
        "colab_type": "code",
        "id": "HHVj1ECh2UsK",
        "outputId": "d030a6dd-b239-4cdb-9d49-4cd327ce04cc",
        "colab": {
          "base_uri": "https://localhost:8080/",
          "height": 318
        }
      },
      "source": [
        "df.boxplot(column='age', by=['marital_single','job_student'], rot=45)\n",
        "plt.title(\"\")\n",
        "plt.show()"
      ],
      "execution_count": 20,
      "outputs": [
        {
          "output_type": "display_data",
          "data": {
            "image/png": "[encoded data removed]",
            "text/plain": [
              "<Figure size 432x288 with 1 Axes>"
            ]
          },
          "metadata": {
            "tags": []
          }
        }
      ]
    },
    {
      "cell_type": "markdown",
      "metadata": {
        "colab_type": "text",
        "id": "tncwayVf3jQd"
      },
      "source": [
        ">There is significant variation in the medians, and these look like good indicators to fill in the missing age values.\n",
        "\n",
        "Let's get a pivot table for these attributes which has the median for these groupings."
      ]
    },
    {
      "cell_type": "code",
      "metadata": {
        "colab_type": "code",
        "id": "VmQokPV_31pB",
        "outputId": "2edfa513-e694-496f-bba0-76c982f2f90d",
        "colab": {
          "base_uri": "https://localhost:8080/",
          "height": 142
        }
      },
      "source": [
        "pvtable = df.pivot_table(values='age', index='job_student', columns='marital_single', aggfunc=np.median) #Compute median age, for these 2 groups.\n",
        "pvtable"
      ],
      "execution_count": 21,
      "outputs": [
        {
          "output_type": "execute_result",
          "data": {
            "text/html": [
              "<div>\n",
              "<style scoped>\n",
              "    .dataframe tbody tr th:only-of-type {\n",
              "        vertical-align: middle;\n",
              "    }\n",
              "\n",
              "    .dataframe tbody tr th {\n",
              "        vertical-align: top;\n",
              "    }\n",
              "\n",
              "    .dataframe thead th {\n",
              "        text-align: right;\n",
              "    }\n",
              "</style>\n",
              "<table border=\"1\" class=\"dataframe\">\n",
              "  <thead>\n",
              "    <tr style=\"text-align: right;\">\n",
              "      <th>marital_single</th>\n",
              "      <th>0</th>\n",
              "      <th>1</th>\n",
              "    </tr>\n",
              "    <tr>\n",
              "      <th>job_student</th>\n",
              "      <th></th>\n",
              "      <th></th>\n",
              "    </tr>\n",
              "  </thead>\n",
              "  <tbody>\n",
              "    <tr>\n",
              "      <th>0</th>\n",
              "      <td>45.0</td>\n",
              "      <td>32.0</td>\n",
              "    </tr>\n",
              "    <tr>\n",
              "      <th>1</th>\n",
              "      <td>35.5</td>\n",
              "      <td>25.0</td>\n",
              "    </tr>\n",
              "  </tbody>\n",
              "</table>\n",
              "</div>"
            ],
            "text/plain": [
              "marital_single     0     1\n",
              "job_student               \n",
              "0               45.0  32.0\n",
              "1               35.5  25.0"
            ]
          },
          "metadata": {
            "tags": []
          },
          "execution_count": 21
        }
      ]
    },
    {
      "cell_type": "markdown",
      "metadata": {
        "colab_type": "text",
        "id": "D4tOZ-174Uhv"
      },
      "source": [
        "Let's write a function, that returns this median value, and we use this function to fill in for the missing age values."
      ]
    },
    {
      "cell_type": "code",
      "metadata": {
        "colab_type": "code",
        "id": "37T4LVWS4fbe",
        "colab": {}
      },
      "source": [
        "# Define function to return the median age from our pivot table\n",
        "def get_age(x):\n",
        "    return pvtable.loc[x['job_student'], x['marital_single']]\n",
        "\n",
        "# Replace missing values\n",
        "df['age'].fillna(df[df['age'].isnull()].apply(get_age, axis=1), inplace=True)"
      ],
      "execution_count": 0,
      "outputs": []
    },
    {
      "cell_type": "markdown",
      "metadata": {
        "colab_type": "text",
        "id": "2luH07xG5FTk"
      },
      "source": [
        "Time to check, how our function has filled in the value."
      ]
    },
    {
      "cell_type": "code",
      "metadata": {
        "colab_type": "code",
        "id": "rBnbnesc5JHD",
        "outputId": "4b68a34e-3c97-4921-e956-76313756bfda",
        "colab": {
          "base_uri": "https://localhost:8080/",
          "height": 612
        }
      },
      "source": [
        "df.iloc[1232] #Record which previously had a missing age value, now filled with value from our function"
      ],
      "execution_count": 23,
      "outputs": [
        {
          "output_type": "execute_result",
          "data": {
            "text/plain": [
              "age                     25.000000\n",
              "balance                431.000000\n",
              "day                     19.000000\n",
              "duration               418.000000\n",
              "campaign                11.000000\n",
              "pdays                  185.000000\n",
              "previous                 5.000000\n",
              "month_sin               -0.500000\n",
              "month_cos               -0.866025\n",
              "job_blue-collar          0.000000\n",
              "job_entrepreneur         0.000000\n",
              "job_housemaid            0.000000\n",
              "job_management           0.000000\n",
              "job_retired              0.000000\n",
              "job_self-employed        0.000000\n",
              "job_services             0.000000\n",
              "job_student              1.000000\n",
              "job_technician           0.000000\n",
              "job_unemployed           0.000000\n",
              "job_nan                  0.000000\n",
              "education_secondary      1.000000\n",
              "education_tertiary       0.000000\n",
              "education_nan            0.000000\n",
              "contact_telephone        0.000000\n",
              "contact_nan              0.000000\n",
              "poutcome_other           0.000000\n",
              "poutcome_success         1.000000\n",
              "poutcome_nan             0.000000\n",
              "marital_married          0.000000\n",
              "marital_single           1.000000\n",
              "default_yes              0.000000\n",
              "housing_yes              0.000000\n",
              "loan_yes                 0.000000\n",
              "subscribed_yes           1.000000\n",
              "Name: 1232, dtype: float64"
            ]
          },
          "metadata": {
            "tags": []
          },
          "execution_count": 23
        }
      ]
    },
    {
      "cell_type": "markdown",
      "metadata": {
        "colab_type": "text",
        "id": "3cPTGeWZEYlw"
      },
      "source": [
        "**Step-5: SCALING/TRANSFORMING NUMERICAL VALUES**\n",
        "\n",
        "First lets look at which columns have outlier values using boxplot."
      ]
    },
    {
      "cell_type": "code",
      "metadata": {
        "colab_type": "code",
        "id": "RbHy4LqQFldF",
        "outputId": "d9c2680e-3770-4031-c52f-535e3a395387",
        "colab": {
          "base_uri": "https://localhost:8080/",
          "height": 337
        }
      },
      "source": [
        "df.boxplot(column=['age', 'balance','day', 'duration', 'campaign', 'pdays', 'previous'], figsize=(5,5))"
      ],
      "execution_count": 24,
      "outputs": [
        {
          "output_type": "execute_result",
          "data": {
            "text/plain": [
              "<matplotlib.axes._subplots.AxesSubplot at 0x7f12595b3630>"
            ]
          },
          "metadata": {
            "tags": []
          },
          "execution_count": 24
        },
        {
          "output_type": "display_data",
          "data": {
            "image/png": "[encoded data removed]",
            "text/plain": [
              "<Figure size 360x360 with 1 Axes>"
            ]
          },
          "metadata": {
            "tags": []
          }
        }
      ]
    },
    {
      "cell_type": "markdown",
      "metadata": {
        "colab_type": "text",
        "id": "So3rVczFJoj-"
      },
      "source": [
        "Closer look at each of the boxplots,"
      ]
    },
    {
      "cell_type": "code",
      "metadata": {
        "colab_type": "code",
        "id": "HBglzDUBJrr5",
        "outputId": "af1e2657-3ee6-4e67-beee-b7c98f33ce8f",
        "colab": {
          "base_uri": "https://localhost:8080/",
          "height": 282
        }
      },
      "source": [
        "df.boxplot(column=['age'])"
      ],
      "execution_count": 25,
      "outputs": [
        {
          "output_type": "execute_result",
          "data": {
            "text/plain": [
              "<matplotlib.axes._subplots.AxesSubplot at 0x7f12594fbe80>"
            ]
          },
          "metadata": {
            "tags": []
          },
          "execution_count": 25
        },
        {
          "output_type": "display_data",
          "data": {
            "image/png": "[encoded data removed]",
            "text/plain": [
              "<Figure size 432x288 with 1 Axes>"
            ]
          },
          "metadata": {
            "tags": []
          }
        }
      ]
    },
    {
      "cell_type": "code",
      "metadata": {
        "colab_type": "code",
        "id": "WEaibXSsJ6fi",
        "outputId": "59e1eef3-4119-4482-c5a2-9b30e6aef24f",
        "colab": {
          "base_uri": "https://localhost:8080/",
          "height": 282
        }
      },
      "source": [
        "df.boxplot(column=['balance'])"
      ],
      "execution_count": 26,
      "outputs": [
        {
          "output_type": "execute_result",
          "data": {
            "text/plain": [
              "<matplotlib.axes._subplots.AxesSubplot at 0x7f1259475cc0>"
            ]
          },
          "metadata": {
            "tags": []
          },
          "execution_count": 26
        },
        {
          "output_type": "display_data",
          "data": {
            "image/png": "[encoded data removed]",
            "text/plain": [
              "<Figure size 432x288 with 1 Axes>"
            ]
          },
          "metadata": {
            "tags": []
          }
        }
      ]
    },
    {
      "cell_type": "code",
      "metadata": {
        "colab_type": "code",
        "id": "dwPVrL1zJ_ct",
        "outputId": "c6b839d4-d75c-4252-c5c8-cae4e8f2f4c7",
        "colab": {
          "base_uri": "https://localhost:8080/",
          "height": 282
        }
      },
      "source": [
        "df.boxplot(column=['day']) #Doesn't have outliers"
      ],
      "execution_count": 27,
      "outputs": [
        {
          "output_type": "execute_result",
          "data": {
            "text/plain": [
              "<matplotlib.axes._subplots.AxesSubplot at 0x7f1259400198>"
            ]
          },
          "metadata": {
            "tags": []
          },
          "execution_count": 27
        },
        {
          "output_type": "display_data",
          "data": {
            "image/png": "[encoded data removed]",
            "text/plain": [
              "<Figure size 432x288 with 1 Axes>"
            ]
          },
          "metadata": {
            "tags": []
          }
        }
      ]
    },
    {
      "cell_type": "code",
      "metadata": {
        "colab_type": "code",
        "id": "2CLzSILfKFPz",
        "outputId": "f10969b8-7c57-4f97-8f01-f96977edcecb",
        "colab": {
          "base_uri": "https://localhost:8080/",
          "height": 282
        }
      },
      "source": [
        "df.boxplot(column=['duration'])"
      ],
      "execution_count": 28,
      "outputs": [
        {
          "output_type": "execute_result",
          "data": {
            "text/plain": [
              "<matplotlib.axes._subplots.AxesSubplot at 0x7f12593da6d8>"
            ]
          },
          "metadata": {
            "tags": []
          },
          "execution_count": 28
        },
        {
          "output_type": "display_data",
          "data": {
            "image/png": "[encoded data removed]",
            "text/plain": [
              "<Figure size 432x288 with 1 Axes>"
            ]
          },
          "metadata": {
            "tags": []
          }
        }
      ]
    },
    {
      "cell_type": "code",
      "metadata": {
        "colab_type": "code",
        "id": "PBKFRjf2KI60",
        "outputId": "5d30feea-a00e-4b24-de2d-1f9f5c8402ca",
        "colab": {
          "base_uri": "https://localhost:8080/",
          "height": 282
        }
      },
      "source": [
        "df.boxplot(column=['campaign'])"
      ],
      "execution_count": 29,
      "outputs": [
        {
          "output_type": "execute_result",
          "data": {
            "text/plain": [
              "<matplotlib.axes._subplots.AxesSubplot at 0x7f125933f240>"
            ]
          },
          "metadata": {
            "tags": []
          },
          "execution_count": 29
        },
        {
          "output_type": "display_data",
          "data": {
            "image/png": "[encoded data removed]",
            "text/plain": [
              "<Figure size 432x288 with 1 Axes>"
            ]
          },
          "metadata": {
            "tags": []
          }
        }
      ]
    },
    {
      "cell_type": "code",
      "metadata": {
        "colab_type": "code",
        "id": "-ZJd4Pt7KOmd",
        "outputId": "e8fe8f96-dadb-4aa5-a969-323df09a48f8",
        "colab": {
          "base_uri": "https://localhost:8080/",
          "height": 282
        }
      },
      "source": [
        "df.boxplot(column=['pdays'])"
      ],
      "execution_count": 30,
      "outputs": [
        {
          "output_type": "execute_result",
          "data": {
            "text/plain": [
              "<matplotlib.axes._subplots.AxesSubplot at 0x7f12592b63c8>"
            ]
          },
          "metadata": {
            "tags": []
          },
          "execution_count": 30
        },
        {
          "output_type": "display_data",
          "data": {
            "image/png": "[encoded data removed]",
            "text/plain": [
              "<Figure size 432x288 with 1 Axes>"
            ]
          },
          "metadata": {
            "tags": []
          }
        }
      ]
    },
    {
      "cell_type": "code",
      "metadata": {
        "colab_type": "code",
        "id": "xrfbc5p4KSjD",
        "outputId": "b47476cf-0ae8-4c72-cf17-bc4c18acedd4",
        "colab": {
          "base_uri": "https://localhost:8080/",
          "height": 282
        }
      },
      "source": [
        "df.boxplot(column=['previous'])"
      ],
      "execution_count": 31,
      "outputs": [
        {
          "output_type": "execute_result",
          "data": {
            "text/plain": [
              "<matplotlib.axes._subplots.AxesSubplot at 0x7f125929ec18>"
            ]
          },
          "metadata": {
            "tags": []
          },
          "execution_count": 31
        },
        {
          "output_type": "display_data",
          "data": {
            "image/png": "[encoded data removed]",
            "text/plain": [
              "<Figure size 432x288 with 1 Axes>"
            ]
          },
          "metadata": {
            "tags": []
          }
        }
      ]
    },
    {
      "cell_type": "code",
      "metadata": {
        "colab_type": "code",
        "id": "Y-sWBl_h9Vcm",
        "outputId": "543f7d2a-8d35-400d-8f0d-29e099c69be3",
        "colab": {
          "base_uri": "https://localhost:8080/",
          "height": 295
        }
      },
      "source": [
        "# Create figure with two subplots\n",
        "fig = plt.figure(figsize=(16,4))\n",
        "\n",
        "# Plot Previous Contact Attempts\n",
        "ax1 = fig.add_subplot(1, 2, 1)\n",
        "ax1.set_title(\"Histogram of Previous Contact Attempts\")\n",
        "ax1.set_xlabel('Number of Previous Contact Attempts')\n",
        "ax1.set_ylabel('Number of Customers')\n",
        "df['previous'].hist(bins=20)\n",
        "\n",
        "# Plot Contact Attempts in this Campaign\n",
        "ax3 = fig.add_subplot(1, 2, 2)\n",
        "ax3.set_title(\"Histogram of Contact Attempts this campaign\")\n",
        "ax3.set_xlabel('Number of Contact attempts this campaign')\n",
        "ax3.set_ylabel('Number of Customers')\n",
        "df['campaign'].hist(bins=20)\n",
        "\n",
        "plt.show()"
      ],
      "execution_count": 32,
      "outputs": [
        {
          "output_type": "display_data",
          "data": {
            "image/png": "[encoded data removed]",
            "text/plain": [
              "<Figure size 1152x288 with 2 Axes>"
            ]
          },
          "metadata": {
            "tags": []
          }
        }
      ]
    },
    {
      "cell_type": "markdown",
      "metadata": {
        "colab_type": "text",
        "id": "HhXEfJro-kv9"
      },
      "source": [
        "From the above histogram, it can be seen that the attribute previous is left skewed, with almost no values towards the right."
      ]
    },
    {
      "cell_type": "markdown",
      "metadata": {
        "colab_type": "text",
        "id": "f-XLor0XKVQq"
      },
      "source": [
        "Apart from day, remaining numeric attributes have outliers, and we'll apply RobustScaler which is better in terms of handling outliers compared to the MinMax and StandardScaler.\n",
        "\n",
        "We can also scale campaign separately as it is ordinal ranging fom 1-11."
      ]
    },
    {
      "cell_type": "code",
      "metadata": {
        "colab_type": "code",
        "id": "Uk5_xhxfKl3I",
        "colab": {}
      },
      "source": [
        "robust_scaler = RobustScaler()\n",
        "df[['balance', 'pdays']] = robust_scaler.fit_transform(df[['balance', 'pdays']])"
      ],
      "execution_count": 0,
      "outputs": []
    },
    {
      "cell_type": "code",
      "metadata": {
        "colab_type": "code",
        "id": "y6G6a3yjLDE3",
        "outputId": "fc963863-1b2c-4624-a40c-9b8d22478d75",
        "colab": {
          "base_uri": "https://localhost:8080/",
          "height": 283
        }
      },
      "source": [
        "df.boxplot(column=\"pdays\") #After applying RobustScaler"
      ],
      "execution_count": 34,
      "outputs": [
        {
          "output_type": "execute_result",
          "data": {
            "text/plain": [
              "<matplotlib.axes._subplots.AxesSubplot at 0x7f12594baeb8>"
            ]
          },
          "metadata": {
            "tags": []
          },
          "execution_count": 34
        },
        {
          "output_type": "display_data",
          "data": {
            "image/png": "[encoded data removed]",
            "text/plain": [
              "<Figure size 432x288 with 1 Axes>"
            ]
          },
          "metadata": {
            "tags": []
          }
        }
      ]
    },
    {
      "cell_type": "markdown",
      "metadata": {
        "colab_type": "text",
        "id": "wiLMBmJzNeu8"
      },
      "source": [
        "To bring the column **campaign** to the interval $[0,1]$, we divide it by 11 as the values range from 1-11 "
      ]
    },
    {
      "cell_type": "code",
      "metadata": {
        "colab_type": "code",
        "id": "FCzORTWlNvrC",
        "colab": {}
      },
      "source": [
        "df[\"campaign\"] = df[\"campaign\"]/11"
      ],
      "execution_count": 0,
      "outputs": []
    },
    {
      "cell_type": "markdown",
      "metadata": {
        "colab_type": "text",
        "id": "zUCgYGP5N59w"
      },
      "source": [
        "**Step-6: HANDLING OUTLIERS**"
      ]
    },
    {
      "cell_type": "markdown",
      "metadata": {
        "colab_type": "text",
        "id": "J3IYnf6yOVSy"
      },
      "source": [
        "From the above box plots, **balance** and **pdays** have high number of outliers. First we'll handle them and look at the remaining columns in a while.\n",
        "\n",
        "Let us see their histgrams first after we have rescaled them."
      ]
    },
    {
      "cell_type": "code",
      "metadata": {
        "colab_type": "code",
        "id": "hmWqPj8DO_a3",
        "outputId": "eb67bfd3-9fbe-4cf7-85ee-cbdc0704a7b0",
        "colab": {
          "base_uri": "https://localhost:8080/",
          "height": 295
        }
      },
      "source": [
        "# Create figure with two subplots\n",
        "fig = plt.figure(figsize=(16,4))\n",
        "\n",
        "# Plot Balance\n",
        "ax1 = fig.add_subplot(1, 2, 1)\n",
        "ax1.set_title(\"Histogram of Balance\")\n",
        "ax1.set_xlabel('Balance')\n",
        "ax1.set_ylabel('Number of Customers')\n",
        "df['balance'].hist(bins=20)\n",
        "\n",
        "# Plot Days passed by from previous contact\n",
        "ax3 = fig.add_subplot(1, 2, 2)\n",
        "ax3.set_title(\"Histogram of Days passed by\")\n",
        "ax3.set_xlabel('Number of days passed by')\n",
        "ax3.set_ylabel('Number of Customers')\n",
        "df['pdays'].hist(bins=20)\n",
        "\n",
        "plt.show()"
      ],
      "execution_count": 36,
      "outputs": [
        {
          "output_type": "display_data",
          "data": {
            "image/png": "[encoded data removed]",
            "text/plain": [
              "<Figure size 1152x288 with 2 Axes>"
            ]
          },
          "metadata": {
            "tags": []
          }
        }
      ]
    },
    {
      "cell_type": "markdown",
      "metadata": {
        "colab_type": "text",
        "id": "LEgthvcoPijh"
      },
      "source": [
        "From the histogram, the data is skewed towards left which is undesirable.\n",
        "\n",
        "For ML algorithms to work efficiently, the data must not be skewed towards either side.\n",
        "\n",
        "Let us look at the minimum values for these attributes before working with them."
      ]
    },
    {
      "cell_type": "code",
      "metadata": {
        "colab_type": "code",
        "id": "HvZ0Wew5P0E6",
        "outputId": "b9449610-e944-4fdd-df4b-9575c4fdfc78",
        "colab": {
          "base_uri": "https://localhost:8080/",
          "height": 68
        }
      },
      "source": [
        "df[['balance', 'pdays']].min()"
      ],
      "execution_count": 37,
      "outputs": [
        {
          "output_type": "execute_result",
          "data": {
            "text/plain": [
              "balance   -1.060984\n",
              "pdays     -1.044223\n",
              "dtype: float64"
            ]
          },
          "metadata": {
            "tags": []
          },
          "execution_count": 37
        }
      ]
    },
    {
      "cell_type": "markdown",
      "metadata": {
        "colab_type": "text",
        "id": "apaFJez0QFiQ"
      },
      "source": [
        "Both the columns have negative values after transforming, and it is necessary to apply a positive constant when we use a log transformation to transform these values.\n",
        "\n",
        "We are using a log transformation to consider the possibility of higher values as well, which needs to be considered when choosing ML models. We would shift our values in the range of $[1, infinity]$\n",
        "\n",
        "By doing so, we would be able to reduce the impact of outliers on our ML model."
      ]
    },
    {
      "cell_type": "code",
      "metadata": {
        "colab_type": "code",
        "id": "Bf6_mSV_QtDH",
        "colab": {}
      },
      "source": [
        "df[\"balance\"] = np.log(df[\"balance\"]+2.26)\n",
        "df[\"pdays\"] = np.log(df[\"pdays\"]+2.85)"
      ],
      "execution_count": 0,
      "outputs": []
    },
    {
      "cell_type": "markdown",
      "metadata": {
        "colab_type": "text",
        "id": "gcmKxGflRvdn"
      },
      "source": [
        "Time to check how our transformation has worked."
      ]
    },
    {
      "cell_type": "code",
      "metadata": {
        "colab_type": "code",
        "id": "XXG0Ind3R7AR",
        "outputId": "05bdce1e-bc9b-4ac6-e32e-cfd254e2a88d",
        "colab": {
          "base_uri": "https://localhost:8080/",
          "height": 295
        }
      },
      "source": [
        "# Create figure with two subplots\n",
        "fig = plt.figure(figsize=(16,4))\n",
        "\n",
        "# Plot Transformed Balance\n",
        "ax1 = fig.add_subplot(1, 2, 1)\n",
        "ax1.set_title(\"Histogram of Transformed Balance\")\n",
        "ax1.set_xlabel('Balance')\n",
        "ax1.set_ylabel('Number of Customers')\n",
        "df['balance'].hist(bins=20)\n",
        "\n",
        "# Plot Transformed Days passed by from previous contact\n",
        "ax3 = fig.add_subplot(1, 2, 2)\n",
        "ax3.set_title(\"Histogram of Transformed Days passed by\")\n",
        "ax3.set_xlabel('Number of days passed by')\n",
        "ax3.set_ylabel('Number of Customers')\n",
        "df['pdays'].hist(bins=20)\n",
        "\n",
        "plt.show()"
      ],
      "execution_count": 39,
      "outputs": [
        {
          "output_type": "display_data",
          "data": {
            "image/png": "[encoded data removed]",
            "text/plain": [
              "<Figure size 1152x288 with 2 Axes>"
            ]
          },
          "metadata": {
            "tags": []
          }
        }
      ]
    },
    {
      "cell_type": "markdown",
      "metadata": {
        "colab_type": "text",
        "id": "OJUNzVsC7Jq_"
      },
      "source": [
        "The transformation has slightly improved the skewness of our data, by moving it to the center slightly (i.e. towards the median)."
      ]
    },
    {
      "cell_type": "markdown",
      "metadata": {
        "colab_type": "text",
        "id": "RqHdYU2sclAY"
      },
      "source": [
        "Lets check the distribution of age which is ordinal."
      ]
    },
    {
      "cell_type": "code",
      "metadata": {
        "colab_type": "code",
        "id": "iRjjREiNuc45",
        "outputId": "07a86736-b0d4-4bc1-f9bc-bec9b99efb1c",
        "colab": {
          "base_uri": "https://localhost:8080/",
          "height": 34
        }
      },
      "source": [
        "df[\"age\"].value_counts()\n",
        "df[\"age\"].max()"
      ],
      "execution_count": 40,
      "outputs": [
        {
          "output_type": "execute_result",
          "data": {
            "text/plain": [
              "93.0"
            ]
          },
          "metadata": {
            "tags": []
          },
          "execution_count": 40
        }
      ]
    },
    {
      "cell_type": "markdown",
      "metadata": {
        "colab_type": "text",
        "id": "oVSK_Boiu1xP"
      },
      "source": [
        "We divide the age values by their maximum which is nothing but **MinMax Scaling**"
      ]
    },
    {
      "cell_type": "code",
      "metadata": {
        "colab_type": "code",
        "id": "TtH9Dvl2u6VU",
        "colab": {}
      },
      "source": [
        "df[\"age\"] = df[\"age\"]/93"
      ],
      "execution_count": 0,
      "outputs": []
    },
    {
      "cell_type": "code",
      "metadata": {
        "colab_type": "code",
        "id": "yqHWbEhOvlFK",
        "outputId": "3f799bfd-de78-469b-94e2-e0b931307c3b",
        "colab": {
          "base_uri": "https://localhost:8080/",
          "height": 295
        }
      },
      "source": [
        "# Create figure\n",
        "fig = plt.figure(figsize=(16,4))\n",
        "\n",
        "\n",
        "# Plot Transformed Days passed by from previous contact\n",
        "ax3 = fig.add_subplot(1, 2, 1)\n",
        "ax3.set_title(\"Histogram of Transformed Age\")\n",
        "ax3.set_xlabel('Transformed Age')\n",
        "ax3.set_ylabel('Number of Customers')\n",
        "df['age'].hist(bins=20)\n",
        "\n",
        "plt.show()"
      ],
      "execution_count": 42,
      "outputs": [
        {
          "output_type": "display_data",
          "data": {
            "image/png": "[encoded data removed]",
            "text/plain": [
              "<Figure size 1152x288 with 1 Axes>"
            ]
          },
          "metadata": {
            "tags": []
          }
        }
      ]
    },
    {
      "cell_type": "markdown",
      "metadata": {
        "colab_type": "text",
        "id": "gjZFPPaX1qgy"
      },
      "source": [
        "**Step-7: DERIVED FEATURE**\n",
        "\n",
        "Feature derivation is nothing but combining two features of dataset, and seeing whether they can help make our datset better, and help for efficient training of an ML model.\n",
        "\n",
        "In our dataset, we can see that there are 2 features **'previous'** and **'campaign'**\n",
        "\n",
        "\n",
        "\n",
        "*   Previous is the number of times the client was contacted before this campaign.\n",
        "*   Campaign is the number of times the client was contacted during this campaign.\n",
        "\n",
        ">We can combine or add both of these to form a new feature called **'TotalContactAttempts'**\n",
        "\n"
      ]
    },
    {
      "cell_type": "code",
      "metadata": {
        "colab_type": "code",
        "id": "Z4fwmoJ62ugE",
        "outputId": "bb5d4b14-b429-45be-c582-9d4190926c06",
        "colab": {
          "base_uri": "https://localhost:8080/",
          "height": 34
        }
      },
      "source": [
        "df['TotalContactAttempts'] = df_backup['previous'] + df_backup['campaign']\n",
        "df[['TotalContactAttempts']] = robust_scaler.fit_transform(df[['TotalContactAttempts']])\n",
        "df[\"TotalContactAttempts\"].min()"
      ],
      "execution_count": 43,
      "outputs": [
        {
          "output_type": "execute_result",
          "data": {
            "text/plain": [
              "-0.6666666666666666"
            ]
          },
          "metadata": {
            "tags": []
          },
          "execution_count": 43
        }
      ]
    },
    {
      "cell_type": "markdown",
      "metadata": {
        "colab_type": "text",
        "id": "T9CXSiGM3Sdf"
      },
      "source": [
        "Applying Log Transformation for the new derived feature, that was scaled as well."
      ]
    },
    {
      "cell_type": "code",
      "metadata": {
        "colab_type": "code",
        "id": "4qqCMAg53bdR",
        "colab": {}
      },
      "source": [
        "df[\"TotalContactAttempts\"] = np.log(df[\"TotalContactAttempts\"]+1.67) #Adding Positive constant to smooth out the negative values"
      ],
      "execution_count": 0,
      "outputs": []
    },
    {
      "cell_type": "markdown",
      "metadata": {
        "colab_type": "text",
        "id": "ffL9VvxU7xH1"
      },
      "source": [
        "Let's plot out new feature and see how it has turned out after transformation"
      ]
    },
    {
      "cell_type": "code",
      "metadata": {
        "colab_type": "code",
        "id": "glgmTUql72F5",
        "outputId": "541a16c9-da14-479c-8089-194fd2097219",
        "colab": {
          "base_uri": "https://localhost:8080/",
          "height": 282
        }
      },
      "source": [
        "df[\"TotalContactAttempts\"].hist(bins=20)"
      ],
      "execution_count": 45,
      "outputs": [
        {
          "output_type": "execute_result",
          "data": {
            "text/plain": [
              "<matplotlib.axes._subplots.AxesSubplot at 0x7f125950c5f8>"
            ]
          },
          "metadata": {
            "tags": []
          },
          "execution_count": 45
        },
        {
          "output_type": "display_data",
          "data": {
            "image/png": "[encoded data removed]",
            "text/plain": [
              "<Figure size 432x288 with 1 Axes>"
            ]
          },
          "metadata": {
            "tags": []
          }
        }
      ]
    },
    {
      "cell_type": "markdown",
      "metadata": {
        "colab_type": "text",
        "id": "D9XTKJfs8G6c"
      },
      "source": [
        "From the histogram we had plotted in step-5, the previous contact attempts was left skewed, and therefore we can drop this attribute, as we also have the derived feature TotalContactAttempts which is computed by adding both the previous and campaign attributes."
      ]
    },
    {
      "cell_type": "code",
      "metadata": {
        "colab_type": "code",
        "id": "JIjgf5IC8SZY",
        "colab": {}
      },
      "source": [
        "df.drop('previous', axis=1, inplace=True)"
      ],
      "execution_count": 0,
      "outputs": []
    },
    {
      "cell_type": "markdown",
      "metadata": {
        "colab_type": "text",
        "id": "rTTY82p38WaK"
      },
      "source": [
        "Save the transformed or preprocessed dataset."
      ]
    },
    {
      "cell_type": "code",
      "metadata": {
        "colab_type": "code",
        "id": "k6eEE1Vz8cSz",
        "colab": {}
      },
      "source": [
        "df.to_csv('bank-2_prepared.csv')\n",
        "files.download(\"bank-2_prepared.csv\")"
      ],
      "execution_count": 0,
      "outputs": []
    }
  ]
}