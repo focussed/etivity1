{
  "nbformat": 4,
  "nbformat_minor": 0,
  "metadata": {
    "colab": {
      "name": "Etivity3DBSCAN1.ipynb",
      "provenance": [],
      "collapsed_sections": [],
      "authorship_tag": "ABX9TyMSAsfwi0qJkET+0+7a6ZNg",
      "include_colab_link": true
    },
    "kernelspec": {
      "name": "python3",
      "display_name": "Python 3"
    }
  },
  "cells": [
    {
      "cell_type": "markdown",
      "metadata": {
        "id": "view-in-github",
        "colab_type": "text"
      },
      "source": [
        "<a href=\"https://colab.research.google.com/github/focussed/etivity1/blob/master/Etivity3_dev.ipynb\" target=\"_parent\"><img src=\"https://colab.research.google.com/assets/colab-badge.svg\" alt=\"Open In Colab\"/></a>"
      ]
    },
    {
      "cell_type": "markdown",
      "metadata": {
        "id": "XfiBJwkowjOK",
        "colab_type": "text"
      },
      "source": [
        "# Etivity 3\n",
        "\n",
        "Welcome to etivity3,\n",
        "The overall goal here is to run up the different algorithms found in by research at the start of this week and to comapre the cluster plots for each of the algorithms.\n",
        "\n",
        "The algorithms being uses here are:\n",
        "\n",
        "\n",
        "*   DBScan\n",
        "*   Means shifting clustering\n",
        "*   Gaussian mixture modelling\n",
        "\n",
        "Finally, we model the dataset for the well known k-means algorithm and suggest a suitable value for k.\n",
        "\n",
        "## Evaluation of other clustering algorithms\n",
        "The nominations for best alternative clustering algorithm are:\n",
        "\n",
        "1.   Means shifting clustering\n",
        "This works akin to a TCP sliding window, for those experienced in networking.  Candidates for the next best centroid point are based on the mean distances between all points within the window.  The big advantage over k means clustering is there is no need to select the number of clusters as the algorithm does it.\n",
        "\n",
        "2.   DBScan\n",
        "This is similar to the means shifting clustering algorithm as it does not need you to select the number of clusters and also, it handles outliers as noise.  It is not great with clusters of different densities.\n",
        "\n",
        "3.   Gaussian Mixture Models\n",
        "This algorihm uses the mean AND the standard deviation values to estimate the shape and size of the clusters.  Knowing statistics, this make me more happier as I know they better describe the data.\n",
        "\n",
        "## Best k Means value for the loans dataset\n",
        "\n"
      ]
    },
    {
      "cell_type": "code",
      "metadata": {
        "id": "AgNdYcjBwgau",
        "colab_type": "code",
        "colab": {}
      },
      "source": [
        "import pandas as pd\n",
        "import numpy as np\n",
        "import matplotlib.pyplot as plt\n",
        "\n",
        "from sklearn import manifold #needed for multidimensional scaling (MDS) and t-SNE\n",
        "from sklearn import cluster #needed for k-Means clustering\n",
        "from sklearn import preprocessing #needed for scaling attributes to the nterval [0,1]"
      ],
      "execution_count": 0,
      "outputs": []
    },
    {
      "cell_type": "code",
      "metadata": {
        "id": "8AMBfwJdpkOB",
        "colab_type": "code",
        "outputId": "e32eb079-bec4-4f19-fb43-f65cf59f5aaf",
        "colab": {
          "base_uri": "https://localhost:8080/",
          "height": 34
        }
      },
      "source": [
        "url_train = 'https://raw.githubusercontent.com/focussed/etivity1/master/loans_train_prepared.csv'\n",
        "df = pd.read_csv(url_train, index_col=0)\n",
        "data = np.array(df.values, dtype=float)\n",
        "print('(number of examples, number of attributes): ', data.shape)"
      ],
      "execution_count": 178,
      "outputs": [
        {
          "output_type": "stream",
          "text": [
            "(number of examples, number of attributes):  (614, 15)\n"
          ],
          "name": "stdout"
        }
      ]
    },
    {
      "cell_type": "markdown",
      "metadata": {
        "id": "aJ3Pdqh1qzti",
        "colab_type": "text"
      },
      "source": [
        "### Rescaling\n",
        "There is no need to rescale this dataset as it is all in normalised form (0..1)"
      ]
    },
    {
      "cell_type": "markdown",
      "metadata": {
        "id": "Wm0h8UD-rtQq",
        "colab_type": "text"
      },
      "source": [
        "Setup the plot definitions"
      ]
    },
    {
      "cell_type": "code",
      "metadata": {
        "id": "TL1bz1iyrxmS",
        "colab_type": "code",
        "colab": {}
      },
      "source": [
        "colors = np.array(['orange', 'blue', 'lime', 'blue', 'khaki', 'pink', 'green', 'purple'])\n",
        "\n",
        "# points - a 2D array of (x,y) coordinates of data points\n",
        "# labels - an array of numeric labels in the interval [0..k-1], one for each point\n",
        "# centers - a 2D array of (x, y) coordinates of cluster centers\n",
        "# title - title of the plot\n",
        "\n",
        "\n",
        "def clustering_scatterplot(points, labels, centers, title):\n",
        "    \n",
        "    \n",
        "    n_clusters = np.unique(labels).size\n",
        "    for i in range(n_clusters):\n",
        "        h = plt.scatter(points[labels==i,0],\n",
        "                        points[labels==i,1], \n",
        "                        c=colors[i%colors.size],\n",
        "                        label = 'cluster '+str(i))\n",
        "\n",
        "    # plot the centers of the clusters\n",
        "    if centers is not None:\n",
        "        plt.scatter(centers[:,0], centers[:,1], c='r', marker='*', s=500)\n",
        "\n",
        "    _ = plt.title(title)\n",
        "    _ = plt.legend()\n",
        "    _ = plt.xlabel('x')\n",
        "    _ = plt.ylabel('y')"
      ],
      "execution_count": 0,
      "outputs": []
    },
    {
      "cell_type": "markdown",
      "metadata": {
        "id": "VKacT43truFz",
        "colab_type": "text"
      },
      "source": [
        "## Set the k means value"
      ]
    },
    {
      "cell_type": "code",
      "metadata": {
        "id": "CKpjGGyNrP4Q",
        "colab_type": "code",
        "colab": {}
      },
      "source": [
        "k = 3"
      ],
      "execution_count": 0,
      "outputs": []
    },
    {
      "cell_type": "code",
      "metadata": {
        "id": "ViOKAt1usNbO",
        "colab_type": "code",
        "colab": {}
      },
      "source": [
        "clustered_data_sklearn = cluster.KMeans(n_clusters=k, n_init=10, max_iter=300).fit(data)"
      ],
      "execution_count": 0,
      "outputs": []
    },
    {
      "cell_type": "code",
      "metadata": {
        "id": "nBHc5RcwrWqh",
        "colab_type": "code",
        "colab": {}
      },
      "source": [
        "data_and_centers = np.r_[data,clustered_data_sklearn.cluster_centers_]  "
      ],
      "execution_count": 0,
      "outputs": []
    },
    {
      "cell_type": "code",
      "metadata": {
        "id": "-7K1YruGrZZe",
        "colab_type": "code",
        "outputId": "45929338-0967-4d0d-d51d-c95dab4e9be3",
        "colab": {
          "base_uri": "https://localhost:8080/",
          "height": 34
        }
      },
      "source": [
        "XYcoordinates = manifold.MDS(n_components=2).fit_transform(data_and_centers)\n",
        "print(\"transformation complete\")"
      ],
      "execution_count": 183,
      "outputs": [
        {
          "output_type": "stream",
          "text": [
            "transformation complete\n"
          ],
          "name": "stdout"
        }
      ]
    },
    {
      "cell_type": "code",
      "metadata": {
        "id": "bqHOBpmLrdMM",
        "colab_type": "code",
        "outputId": "7f182ac0-c4a7-4287-9b9b-d275a3029942",
        "colab": {
          "base_uri": "https://localhost:8080/",
          "height": 295
        }
      },
      "source": [
        "clustering_scatterplot(points=XYcoordinates[:-k,:], \n",
        "                       labels=clustered_data_sklearn.labels_, \n",
        "                       centers=XYcoordinates[-k:,:], \n",
        "                       title='MDS')"
      ],
      "execution_count": 184,
      "outputs": [
        {
          "output_type": "display_data",
          "data": {
            "image/png": "[encoded data removed]",
            "text/plain": [
              "<Figure size 432x288 with 1 Axes>"
            ]
          },
          "metadata": {
            "tags": []
          }
        }
      ]
    },
    {
      "cell_type": "markdown",
      "metadata": {
        "id": "zxkWCyBesl_E",
        "colab_type": "text"
      },
      "source": [
        "Apply t-SNE "
      ]
    },
    {
      "cell_type": "code",
      "metadata": {
        "id": "ed-mlkjLsrvM",
        "colab_type": "code",
        "outputId": "32fa4b3c-82d6-4e52-bd62-8705221637c3",
        "colab": {
          "base_uri": "https://localhost:8080/",
          "height": 34
        }
      },
      "source": [
        "XYcoordinates = manifold.TSNE(n_components=2).fit_transform(data_and_centers)\n",
        "print(\"transformation complete\")"
      ],
      "execution_count": 185,
      "outputs": [
        {
          "output_type": "stream",
          "text": [
            "transformation complete\n"
          ],
          "name": "stdout"
        }
      ]
    },
    {
      "cell_type": "code",
      "metadata": {
        "id": "Fu5AccZasuJg",
        "colab_type": "code",
        "outputId": "b1ca4dc3-b1df-4272-bdc4-e9d0f45c84b6",
        "colab": {
          "base_uri": "https://localhost:8080/",
          "height": 295
        }
      },
      "source": [
        "clustering_scatterplot(points=XYcoordinates[:-k,:], \n",
        "                       labels=clustered_data_sklearn.labels_,\n",
        "                       centers=XYcoordinates[-k:,:], \n",
        "                       title='TSNE')"
      ],
      "execution_count": 186,
      "outputs": [
        {
          "output_type": "display_data",
          "data": {
            "image/png": "[encoded data removed]",
            "text/plain": [
              "<Figure size 432x288 with 1 Axes>"
            ]
          },
          "metadata": {
            "tags": []
          }
        }
      ]
    },
    {
      "cell_type": "code",
      "metadata": {
        "id": "YcCD7Ro1sxpJ",
        "colab_type": "code",
        "colab": {}
      },
      "source": [
        "df['cluster'] = pd.Series(clustered_data_sklearn.labels_, index=df.index)"
      ],
      "execution_count": 0,
      "outputs": []
    },
    {
      "cell_type": "code",
      "metadata": {
        "id": "8kWejVu3s1SX",
        "colab_type": "code",
        "outputId": "9955faab-3083-4b7f-accc-121ead6fd2d2",
        "colab": {
          "base_uri": "https://localhost:8080/",
          "height": 272
        }
      },
      "source": [
        "df.head()"
      ],
      "execution_count": 188,
      "outputs": [
        {
          "output_type": "execute_result",
          "data": {
            "text/html": [
              "<div>\n",
              "<style scoped>\n",
              "    .dataframe tbody tr th:only-of-type {\n",
              "        vertical-align: middle;\n",
              "    }\n",
              "\n",
              "    .dataframe tbody tr th {\n",
              "        vertical-align: top;\n",
              "    }\n",
              "\n",
              "    .dataframe thead th {\n",
              "        text-align: right;\n",
              "    }\n",
              "</style>\n",
              "<table border=\"1\" class=\"dataframe\">\n",
              "  <thead>\n",
              "    <tr style=\"text-align: right;\">\n",
              "      <th></th>\n",
              "      <th>ApplicantIncome</th>\n",
              "      <th>LoanAmount</th>\n",
              "      <th>Loan_Amount_Term</th>\n",
              "      <th>Credit_History</th>\n",
              "      <th>Gender_Male</th>\n",
              "      <th>Gender_nan</th>\n",
              "      <th>Married_Yes</th>\n",
              "      <th>Married_nan</th>\n",
              "      <th>Self_Employed_Yes</th>\n",
              "      <th>Self_Employed_nan</th>\n",
              "      <th>Education_Not Graduate</th>\n",
              "      <th>Property_Area_Semiurban</th>\n",
              "      <th>Property_Area_Urban</th>\n",
              "      <th>Loan_Status_Y</th>\n",
              "      <th>TotalIncome</th>\n",
              "      <th>cluster</th>\n",
              "    </tr>\n",
              "    <tr>\n",
              "      <th>Dependents</th>\n",
              "      <th></th>\n",
              "      <th></th>\n",
              "      <th></th>\n",
              "      <th></th>\n",
              "      <th></th>\n",
              "      <th></th>\n",
              "      <th></th>\n",
              "      <th></th>\n",
              "      <th></th>\n",
              "      <th></th>\n",
              "      <th></th>\n",
              "      <th></th>\n",
              "      <th></th>\n",
              "      <th></th>\n",
              "      <th></th>\n",
              "      <th></th>\n",
              "    </tr>\n",
              "  </thead>\n",
              "  <tbody>\n",
              "    <tr>\n",
              "      <th>0.000000</th>\n",
              "      <td>1.084523</td>\n",
              "      <td>1.058140</td>\n",
              "      <td>0.75</td>\n",
              "      <td>1</td>\n",
              "      <td>1</td>\n",
              "      <td>0</td>\n",
              "      <td>0</td>\n",
              "      <td>0</td>\n",
              "      <td>0</td>\n",
              "      <td>0</td>\n",
              "      <td>0</td>\n",
              "      <td>0</td>\n",
              "      <td>1</td>\n",
              "      <td>1</td>\n",
              "      <td>0.841086</td>\n",
              "      <td>1</td>\n",
              "    </tr>\n",
              "    <tr>\n",
              "      <th>0.333333</th>\n",
              "      <td>0.925883</td>\n",
              "      <td>1.047319</td>\n",
              "      <td>0.75</td>\n",
              "      <td>1</td>\n",
              "      <td>1</td>\n",
              "      <td>0</td>\n",
              "      <td>1</td>\n",
              "      <td>0</td>\n",
              "      <td>0</td>\n",
              "      <td>0</td>\n",
              "      <td>0</td>\n",
              "      <td>0</td>\n",
              "      <td>0</td>\n",
              "      <td>0</td>\n",
              "      <td>0.871711</td>\n",
              "      <td>1</td>\n",
              "    </tr>\n",
              "    <tr>\n",
              "      <th>0.000000</th>\n",
              "      <td>0.683858</td>\n",
              "      <td>0.635920</td>\n",
              "      <td>0.75</td>\n",
              "      <td>1</td>\n",
              "      <td>1</td>\n",
              "      <td>0</td>\n",
              "      <td>1</td>\n",
              "      <td>0</td>\n",
              "      <td>1</td>\n",
              "      <td>0</td>\n",
              "      <td>0</td>\n",
              "      <td>0</td>\n",
              "      <td>1</td>\n",
              "      <td>1</td>\n",
              "      <td>0.385189</td>\n",
              "      <td>1</td>\n",
              "    </tr>\n",
              "    <tr>\n",
              "      <th>0.000000</th>\n",
              "      <td>0.608992</td>\n",
              "      <td>1.002824</td>\n",
              "      <td>0.75</td>\n",
              "      <td>1</td>\n",
              "      <td>1</td>\n",
              "      <td>0</td>\n",
              "      <td>1</td>\n",
              "      <td>0</td>\n",
              "      <td>0</td>\n",
              "      <td>0</td>\n",
              "      <td>1</td>\n",
              "      <td>0</td>\n",
              "      <td>1</td>\n",
              "      <td>1</td>\n",
              "      <td>0.717012</td>\n",
              "      <td>1</td>\n",
              "    </tr>\n",
              "    <tr>\n",
              "      <th>0.000000</th>\n",
              "      <td>1.101869</td>\n",
              "      <td>1.115650</td>\n",
              "      <td>0.75</td>\n",
              "      <td>1</td>\n",
              "      <td>1</td>\n",
              "      <td>0</td>\n",
              "      <td>0</td>\n",
              "      <td>0</td>\n",
              "      <td>0</td>\n",
              "      <td>0</td>\n",
              "      <td>0</td>\n",
              "      <td>0</td>\n",
              "      <td>1</td>\n",
              "      <td>1</td>\n",
              "      <td>0.860305</td>\n",
              "      <td>1</td>\n",
              "    </tr>\n",
              "  </tbody>\n",
              "</table>\n",
              "</div>"
            ],
            "text/plain": [
              "            ApplicantIncome  LoanAmount  ...  TotalIncome  cluster\n",
              "Dependents                               ...                      \n",
              "0.000000           1.084523    1.058140  ...     0.841086        1\n",
              "0.333333           0.925883    1.047319  ...     0.871711        1\n",
              "0.000000           0.683858    0.635920  ...     0.385189        1\n",
              "0.000000           0.608992    1.002824  ...     0.717012        1\n",
              "0.000000           1.101869    1.115650  ...     0.860305        1\n",
              "\n",
              "[5 rows x 16 columns]"
            ]
          },
          "metadata": {
            "tags": []
          },
          "execution_count": 188
        }
      ]
    },
    {
      "cell_type": "code",
      "metadata": {
        "id": "0OiHEPmPs5H0",
        "colab_type": "code",
        "outputId": "43d2a655-9c67-416b-b428-87460eaf7ced",
        "colab": {
          "base_uri": "https://localhost:8080/",
          "height": 210
        }
      },
      "source": [
        "df.groupby('cluster').mean()"
      ],
      "execution_count": 189,
      "outputs": [
        {
          "output_type": "execute_result",
          "data": {
            "text/html": [
              "<div>\n",
              "<style scoped>\n",
              "    .dataframe tbody tr th:only-of-type {\n",
              "        vertical-align: middle;\n",
              "    }\n",
              "\n",
              "    .dataframe tbody tr th {\n",
              "        vertical-align: top;\n",
              "    }\n",
              "\n",
              "    .dataframe thead th {\n",
              "        text-align: right;\n",
              "    }\n",
              "</style>\n",
              "<table border=\"1\" class=\"dataframe\">\n",
              "  <thead>\n",
              "    <tr style=\"text-align: right;\">\n",
              "      <th></th>\n",
              "      <th>ApplicantIncome</th>\n",
              "      <th>LoanAmount</th>\n",
              "      <th>Loan_Amount_Term</th>\n",
              "      <th>Credit_History</th>\n",
              "      <th>Gender_Male</th>\n",
              "      <th>Gender_nan</th>\n",
              "      <th>Married_Yes</th>\n",
              "      <th>Married_nan</th>\n",
              "      <th>Self_Employed_Yes</th>\n",
              "      <th>Self_Employed_nan</th>\n",
              "      <th>Education_Not Graduate</th>\n",
              "      <th>Property_Area_Semiurban</th>\n",
              "      <th>Property_Area_Urban</th>\n",
              "      <th>Loan_Status_Y</th>\n",
              "      <th>TotalIncome</th>\n",
              "    </tr>\n",
              "    <tr>\n",
              "      <th>cluster</th>\n",
              "      <th></th>\n",
              "      <th></th>\n",
              "      <th></th>\n",
              "      <th></th>\n",
              "      <th></th>\n",
              "      <th></th>\n",
              "      <th></th>\n",
              "      <th></th>\n",
              "      <th></th>\n",
              "      <th></th>\n",
              "      <th></th>\n",
              "      <th></th>\n",
              "      <th></th>\n",
              "      <th></th>\n",
              "      <th></th>\n",
              "    </tr>\n",
              "  </thead>\n",
              "  <tbody>\n",
              "    <tr>\n",
              "      <th>0</th>\n",
              "      <td>0.816979</td>\n",
              "      <td>1.033096</td>\n",
              "      <td>0.722512</td>\n",
              "      <td>0.872038</td>\n",
              "      <td>0.739336</td>\n",
              "      <td>0.018957</td>\n",
              "      <td>0.649289</td>\n",
              "      <td>0.009479</td>\n",
              "      <td>0.113744</td>\n",
              "      <td>0.042654</td>\n",
              "      <td>0.213270</td>\n",
              "      <td>1.00</td>\n",
              "      <td>0.000000</td>\n",
              "      <td>0.772512</td>\n",
              "      <td>0.759537</td>\n",
              "    </tr>\n",
              "    <tr>\n",
              "      <th>1</th>\n",
              "      <td>0.766483</td>\n",
              "      <td>0.971804</td>\n",
              "      <td>0.706436</td>\n",
              "      <td>0.838284</td>\n",
              "      <td>0.825083</td>\n",
              "      <td>0.013201</td>\n",
              "      <td>0.640264</td>\n",
              "      <td>0.003300</td>\n",
              "      <td>0.082508</td>\n",
              "      <td>0.066007</td>\n",
              "      <td>0.287129</td>\n",
              "      <td>0.00</td>\n",
              "      <td>0.534653</td>\n",
              "      <td>0.640264</td>\n",
              "      <td>0.702573</td>\n",
              "    </tr>\n",
              "    <tr>\n",
              "      <th>2</th>\n",
              "      <td>1.581583</td>\n",
              "      <td>1.483606</td>\n",
              "      <td>0.715000</td>\n",
              "      <td>0.870000</td>\n",
              "      <td>0.830000</td>\n",
              "      <td>0.050000</td>\n",
              "      <td>0.670000</td>\n",
              "      <td>0.000000</td>\n",
              "      <td>0.330000</td>\n",
              "      <td>0.030000</td>\n",
              "      <td>0.020000</td>\n",
              "      <td>0.22</td>\n",
              "      <td>0.400000</td>\n",
              "      <td>0.650000</td>\n",
              "      <td>1.565471</td>\n",
              "    </tr>\n",
              "  </tbody>\n",
              "</table>\n",
              "</div>"
            ],
            "text/plain": [
              "         ApplicantIncome  LoanAmount  ...  Loan_Status_Y  TotalIncome\n",
              "cluster                               ...                            \n",
              "0               0.816979    1.033096  ...       0.772512     0.759537\n",
              "1               0.766483    0.971804  ...       0.640264     0.702573\n",
              "2               1.581583    1.483606  ...       0.650000     1.565471\n",
              "\n",
              "[3 rows x 15 columns]"
            ]
          },
          "metadata": {
            "tags": []
          },
          "execution_count": 189
        }
      ]
    },
    {
      "cell_type": "markdown",
      "metadata": {
        "id": "z8U1U5eWtRJc",
        "colab_type": "text"
      },
      "source": [
        "# Setting k to a larger value\n"
      ]
    },
    {
      "cell_type": "code",
      "metadata": {
        "id": "6rro0YfGtY-9",
        "colab_type": "code",
        "colab": {}
      },
      "source": [
        ""
      ],
      "execution_count": 0,
      "outputs": []
    },
    {
      "cell_type": "markdown",
      "metadata": {
        "id": "reUINCeGtR7m",
        "colab_type": "text"
      },
      "source": [
        "### DBScan algorithm\n"
      ]
    },
    {
      "cell_type": "code",
      "metadata": {
        "id": "o45QwPqA4ggM",
        "colab_type": "code",
        "colab": {
          "base_uri": "https://localhost:8080/",
          "height": 332
        },
        "outputId": "b50dcfcd-758d-49eb-f711-d46f515ee995"
      },
      "source": [
        "from sklearn import metrics\n",
        "from sklearn.cluster import DBSCAN\n",
        "X = data\n",
        "\n",
        "db = DBSCAN(eps=0.5, min_samples=15).fit(X)\n",
        "core_samples_mask = np.zeros_like(db.labels_, dtype=bool)\n",
        "core_samples_mask[db.core_sample_indices_] = True\n",
        "labels = db.labels_\n",
        "\n",
        "# Number of clusters in labels, ignoring noise if present.\n",
        "n_clusters_ = len(set(labels)) - (1 if -1 in labels else 0)\n",
        "n_noise_ = list(labels).count(-1)\n",
        "\n",
        "print('Estimated number of clusters: %d' % n_clusters_)\n",
        "print('Estimated number of noise points: %d' % n_noise_)\n",
        "#print(\"Homogeneity: %0.3f\" % metrics.homogeneity_score(labels_true, labels))\n",
        "#print(\"Completeness: %0.3f\" % metrics.completeness_score(labels_true, labels))\n",
        "#print(\"Adjusted Rand Index: %0.3f\"\n",
        "#print(\"V-measure: %0.3f\" % metrics.v_measure_score(labels_true, labels))\n",
        "#print(\"Adjusted Mutual Information: %0.3f\"\n",
        "#      % metrics.adjusted_rand_score(labels_true, labels))\n",
        "#      % metrics.adjusted_mutual_info_score(labels_true, labels))\n",
        "print(\"Silhouette Coefficient: %0.3f\"\n",
        "      % metrics.silhouette_score(X, labels))\n",
        "\n",
        "# #############################################################################\n",
        "# Plot result\n",
        "import matplotlib.pyplot as plt\n",
        "\n",
        "# Black removed and is used for noise instead.\n",
        "unique_labels = set(labels)\n",
        "colors = [plt.cm.Spectral(each)\n",
        "          for each in np.linspace(0, 1, len(unique_labels))]\n",
        "for k, col in zip(unique_labels, colors):\n",
        "    if k == -1:\n",
        "        # Black used for noise.\n",
        "        col = [0, 0, 0, 1]\n",
        "\n",
        "    class_member_mask = (labels == k)\n",
        "\n",
        "    xy = X[class_member_mask & core_samples_mask]\n",
        "    plt.plot(xy[:, 0], xy[:, 1], 'o', markerfacecolor=tuple(col),\n",
        "             markeredgecolor='k', markersize=14)\n",
        "\n",
        "    xy = X[class_member_mask & ~core_samples_mask]\n",
        "    plt.plot(xy[:, 0], xy[:, 1], 'o', markerfacecolor=tuple(col),\n",
        "             markeredgecolor='k', markersize=6)\n",
        "\n",
        "plt.title('Estimated number of clusters: %d' % n_clusters_)\n",
        "plt.show()\n",
        "\n",
        "\n",
        "\n"
      ],
      "execution_count": 190,
      "outputs": [
        {
          "output_type": "stream",
          "text": [
            "Estimated number of clusters: 3\n",
            "Estimated number of noise points: 474\n",
            "Silhouette Coefficient: -0.075\n"
          ],
          "name": "stdout"
        },
        {
          "output_type": "display_data",
          "data": {
            "image/png": "[encoded data removed]",
            "text/plain": [
              "<Figure size 432x288 with 1 Axes>"
            ]
          },
          "metadata": {
            "tags": []
          }
        }
      ]
    }
  ]
}