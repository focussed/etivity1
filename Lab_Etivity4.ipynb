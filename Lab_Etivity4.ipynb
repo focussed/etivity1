{
  "nbformat": 4,
  "nbformat_minor": 0,
  "metadata": {
    "kernelspec": {
      "display_name": "Python 3",
      "language": "python",
      "name": "python3"
    },
    "language_info": {
      "codemirror_mode": {
        "name": "ipython",
        "version": 3
      },
      "file_extension": ".py",
      "mimetype": "text/x-python",
      "name": "python",
      "nbconvert_exporter": "python",
      "pygments_lexer": "ipython3",
      "version": "3.7.4"
    },
    "colab": {
      "name": "Lab_Etivity4.ipynb",
      "provenance": [],
      "include_colab_link": true
    }
  },
  "cells": [
    {
      "cell_type": "markdown",
      "metadata": {
        "id": "view-in-github",
        "colab_type": "text"
      },
      "source": [
        "<a href=\"https://colab.research.google.com/github/focussed/etivity1/blob/master/Lab_Etivity4.ipynb\" target=\"_parent\"><img src=\"https://colab.research.google.com/assets/colab-badge.svg\" alt=\"Open In Colab\"/></a>"
      ]
    },
    {
      "cell_type": "markdown",
      "metadata": {
        "id": "w71pjPzOiqNh",
        "colab_type": "text"
      },
      "source": [
        "# Lab 4: Comparison of Binary Classifiers"
      ]
    },
    {
      "cell_type": "markdown",
      "metadata": {
        "id": "qlPrVSVQiqNj",
        "colab_type": "text"
      },
      "source": [
        "In this exercise we use a breast cancer dataset (see https://www.kaggle.com/uciml/breast-cancer-wisconsin-data). All columns in this dataset are numerical except the column `diagnosis` which is ordinal. Each example is a breast cancer case with diagnosis either M (malignant) or B (benign).\n",
        "\n",
        "We will train a binary classification model to predict the diagnosis. We assume that misclassifying diagnosis M as B is more costly than misclassifying B as M, as cases classified as M can be further tested, while malignant cases misclassified as B may remain unnoticed. In other words, we would like to train a model that has high recall for class M, while the precision of the model for class M is not that important.\n",
        "\n",
        "The `diagnosis` column is the *dependent variable* or *target* for classification, while all other columns are the *predictors*. We will use the common convention to refer to the predictors as **X** and to the target as **y**.  \n",
        "\n",
        "In the process of training the dataset will be split into a training set and a test set. The training set will be further split (multiple times) into a training and validation set in a cross-validation procedure for tuning the parameters of two alternative classifiers: SVM and Random Forest.\n",
        "\n",
        "Note that any data preparation of the predictors needs to be applied separately to each of these sets."
      ]
    },
    {
      "cell_type": "code",
      "metadata": {
        "id": "xiIIR8PgiqNl",
        "colab_type": "code",
        "colab": {}
      },
      "source": [
        "import pandas as pd\n",
        "import numpy as np\n",
        "from sklearn.pipeline import Pipeline, make_pipeline, FeatureUnion\n",
        "from sklearn.compose import ColumnTransformer\n",
        "from sklearn.base import BaseEstimator, TransformerMixin\n",
        "from sklearn.preprocessing import StandardScaler, RobustScaler, FunctionTransformer\n",
        "from sklearn.model_selection import train_test_split, GridSearchCV\n",
        "from sklearn import svm\n",
        "from sklearn.ensemble import RandomForestClassifier\n",
        "from sklearn.metrics import roc_curve, auc, accuracy_score, precision_recall_fscore_support\n",
        "from scipy import interp\n",
        "import pickle\n",
        "import matplotlib.pyplot as plt\n",
        "%matplotlib inline"
      ],
      "execution_count": 0,
      "outputs": []
    },
    {
      "cell_type": "markdown",
      "metadata": {
        "id": "ySILr6mLiqNw",
        "colab_type": "text"
      },
      "source": [
        "## EDA"
      ]
    },
    {
      "cell_type": "code",
      "metadata": {
        "id": "3YNliUtXiqNy",
        "colab_type": "code",
        "colab": {
          "base_uri": "https://localhost:8080/",
          "height": 278
        },
        "outputId": "065630ac-536e-4912-b0f9-76ab76368ccd"
      },
      "source": [
        "url = 'https://raw.githubusercontent.com/focussed/etivity1/master/bcwd.csv'\n",
        "df = pd.read_csv(url)\n",
        "print('(number of examples, number of attributes): ', df.shape)\n",
        "df.head()"
      ],
      "execution_count": 6,
      "outputs": [
        {
          "output_type": "stream",
          "text": [
            "(number of examples, number of attributes):  (569, 31)\n"
          ],
          "name": "stdout"
        },
        {
          "output_type": "execute_result",
          "data": {
            "text/html": [
              "<div>\n",
              "<style scoped>\n",
              "    .dataframe tbody tr th:only-of-type {\n",
              "        vertical-align: middle;\n",
              "    }\n",
              "\n",
              "    .dataframe tbody tr th {\n",
              "        vertical-align: top;\n",
              "    }\n",
              "\n",
              "    .dataframe thead th {\n",
              "        text-align: right;\n",
              "    }\n",
              "</style>\n",
              "<table border=\"1\" class=\"dataframe\">\n",
              "  <thead>\n",
              "    <tr style=\"text-align: right;\">\n",
              "      <th></th>\n",
              "      <th>diagnosis</th>\n",
              "      <th>radius_mean</th>\n",
              "      <th>texture_mean</th>\n",
              "      <th>perimeter_mean</th>\n",
              "      <th>area_mean</th>\n",
              "      <th>smoothness_mean</th>\n",
              "      <th>compactness_mean</th>\n",
              "      <th>concavity_mean</th>\n",
              "      <th>concave points_mean</th>\n",
              "      <th>symmetry_mean</th>\n",
              "      <th>fractal_dimension_mean</th>\n",
              "      <th>radius_se</th>\n",
              "      <th>texture_se</th>\n",
              "      <th>perimeter_se</th>\n",
              "      <th>area_se</th>\n",
              "      <th>smoothness_se</th>\n",
              "      <th>compactness_se</th>\n",
              "      <th>concavity_se</th>\n",
              "      <th>concave points_se</th>\n",
              "      <th>symmetry_se</th>\n",
              "      <th>fractal_dimension_se</th>\n",
              "      <th>radius_worst</th>\n",
              "      <th>texture_worst</th>\n",
              "      <th>perimeter_worst</th>\n",
              "      <th>area_worst</th>\n",
              "      <th>smoothness_worst</th>\n",
              "      <th>compactness_worst</th>\n",
              "      <th>concavity_worst</th>\n",
              "      <th>concave points_worst</th>\n",
              "      <th>symmetry_worst</th>\n",
              "      <th>fractal_dimension_worst</th>\n",
              "    </tr>\n",
              "  </thead>\n",
              "  <tbody>\n",
              "    <tr>\n",
              "      <th>0</th>\n",
              "      <td>M</td>\n",
              "      <td>17.99</td>\n",
              "      <td>10.38</td>\n",
              "      <td>122.80</td>\n",
              "      <td>1001.0</td>\n",
              "      <td>0.11840</td>\n",
              "      <td>0.27760</td>\n",
              "      <td>0.3001</td>\n",
              "      <td>0.14710</td>\n",
              "      <td>0.2419</td>\n",
              "      <td>0.07871</td>\n",
              "      <td>1.0950</td>\n",
              "      <td>0.9053</td>\n",
              "      <td>8.589</td>\n",
              "      <td>153.40</td>\n",
              "      <td>0.006399</td>\n",
              "      <td>0.04904</td>\n",
              "      <td>0.05373</td>\n",
              "      <td>0.01587</td>\n",
              "      <td>0.03003</td>\n",
              "      <td>0.006193</td>\n",
              "      <td>25.38</td>\n",
              "      <td>17.33</td>\n",
              "      <td>184.60</td>\n",
              "      <td>2019.0</td>\n",
              "      <td>0.1622</td>\n",
              "      <td>0.6656</td>\n",
              "      <td>0.7119</td>\n",
              "      <td>0.2654</td>\n",
              "      <td>0.4601</td>\n",
              "      <td>0.11890</td>\n",
              "    </tr>\n",
              "    <tr>\n",
              "      <th>1</th>\n",
              "      <td>M</td>\n",
              "      <td>20.57</td>\n",
              "      <td>17.77</td>\n",
              "      <td>132.90</td>\n",
              "      <td>1326.0</td>\n",
              "      <td>0.08474</td>\n",
              "      <td>0.07864</td>\n",
              "      <td>0.0869</td>\n",
              "      <td>0.07017</td>\n",
              "      <td>0.1812</td>\n",
              "      <td>0.05667</td>\n",
              "      <td>0.5435</td>\n",
              "      <td>0.7339</td>\n",
              "      <td>3.398</td>\n",
              "      <td>74.08</td>\n",
              "      <td>0.005225</td>\n",
              "      <td>0.01308</td>\n",
              "      <td>0.01860</td>\n",
              "      <td>0.01340</td>\n",
              "      <td>0.01389</td>\n",
              "      <td>0.003532</td>\n",
              "      <td>24.99</td>\n",
              "      <td>23.41</td>\n",
              "      <td>158.80</td>\n",
              "      <td>1956.0</td>\n",
              "      <td>0.1238</td>\n",
              "      <td>0.1866</td>\n",
              "      <td>0.2416</td>\n",
              "      <td>0.1860</td>\n",
              "      <td>0.2750</td>\n",
              "      <td>0.08902</td>\n",
              "    </tr>\n",
              "    <tr>\n",
              "      <th>2</th>\n",
              "      <td>M</td>\n",
              "      <td>19.69</td>\n",
              "      <td>21.25</td>\n",
              "      <td>130.00</td>\n",
              "      <td>1203.0</td>\n",
              "      <td>0.10960</td>\n",
              "      <td>0.15990</td>\n",
              "      <td>0.1974</td>\n",
              "      <td>0.12790</td>\n",
              "      <td>0.2069</td>\n",
              "      <td>0.05999</td>\n",
              "      <td>0.7456</td>\n",
              "      <td>0.7869</td>\n",
              "      <td>4.585</td>\n",
              "      <td>94.03</td>\n",
              "      <td>0.006150</td>\n",
              "      <td>0.04006</td>\n",
              "      <td>0.03832</td>\n",
              "      <td>0.02058</td>\n",
              "      <td>0.02250</td>\n",
              "      <td>0.004571</td>\n",
              "      <td>23.57</td>\n",
              "      <td>25.53</td>\n",
              "      <td>152.50</td>\n",
              "      <td>1709.0</td>\n",
              "      <td>0.1444</td>\n",
              "      <td>0.4245</td>\n",
              "      <td>0.4504</td>\n",
              "      <td>0.2430</td>\n",
              "      <td>0.3613</td>\n",
              "      <td>0.08758</td>\n",
              "    </tr>\n",
              "    <tr>\n",
              "      <th>3</th>\n",
              "      <td>M</td>\n",
              "      <td>11.42</td>\n",
              "      <td>20.38</td>\n",
              "      <td>77.58</td>\n",
              "      <td>386.1</td>\n",
              "      <td>0.14250</td>\n",
              "      <td>0.28390</td>\n",
              "      <td>0.2414</td>\n",
              "      <td>0.10520</td>\n",
              "      <td>0.2597</td>\n",
              "      <td>0.09744</td>\n",
              "      <td>0.4956</td>\n",
              "      <td>1.1560</td>\n",
              "      <td>3.445</td>\n",
              "      <td>27.23</td>\n",
              "      <td>0.009110</td>\n",
              "      <td>0.07458</td>\n",
              "      <td>0.05661</td>\n",
              "      <td>0.01867</td>\n",
              "      <td>0.05963</td>\n",
              "      <td>0.009208</td>\n",
              "      <td>14.91</td>\n",
              "      <td>26.50</td>\n",
              "      <td>98.87</td>\n",
              "      <td>567.7</td>\n",
              "      <td>0.2098</td>\n",
              "      <td>0.8663</td>\n",
              "      <td>0.6869</td>\n",
              "      <td>0.2575</td>\n",
              "      <td>0.6638</td>\n",
              "      <td>0.17300</td>\n",
              "    </tr>\n",
              "    <tr>\n",
              "      <th>4</th>\n",
              "      <td>M</td>\n",
              "      <td>20.29</td>\n",
              "      <td>14.34</td>\n",
              "      <td>135.10</td>\n",
              "      <td>1297.0</td>\n",
              "      <td>0.10030</td>\n",
              "      <td>0.13280</td>\n",
              "      <td>0.1980</td>\n",
              "      <td>0.10430</td>\n",
              "      <td>0.1809</td>\n",
              "      <td>0.05883</td>\n",
              "      <td>0.7572</td>\n",
              "      <td>0.7813</td>\n",
              "      <td>5.438</td>\n",
              "      <td>94.44</td>\n",
              "      <td>0.011490</td>\n",
              "      <td>0.02461</td>\n",
              "      <td>0.05688</td>\n",
              "      <td>0.01885</td>\n",
              "      <td>0.01756</td>\n",
              "      <td>0.005115</td>\n",
              "      <td>22.54</td>\n",
              "      <td>16.67</td>\n",
              "      <td>152.20</td>\n",
              "      <td>1575.0</td>\n",
              "      <td>0.1374</td>\n",
              "      <td>0.2050</td>\n",
              "      <td>0.4000</td>\n",
              "      <td>0.1625</td>\n",
              "      <td>0.2364</td>\n",
              "      <td>0.07678</td>\n",
              "    </tr>\n",
              "  </tbody>\n",
              "</table>\n",
              "</div>"
            ],
            "text/plain": [
              "  diagnosis  radius_mean  ...  symmetry_worst  fractal_dimension_worst\n",
              "0         M        17.99  ...          0.4601                  0.11890\n",
              "1         M        20.57  ...          0.2750                  0.08902\n",
              "2         M        19.69  ...          0.3613                  0.08758\n",
              "3         M        11.42  ...          0.6638                  0.17300\n",
              "4         M        20.29  ...          0.2364                  0.07678\n",
              "\n",
              "[5 rows x 31 columns]"
            ]
          },
          "metadata": {
            "tags": []
          },
          "execution_count": 6
        }
      ]
    },
    {
      "cell_type": "code",
      "metadata": {
        "id": "kWE3-fvBiqN7",
        "colab_type": "code",
        "colab": {
          "base_uri": "https://localhost:8080/",
          "height": 68
        },
        "outputId": "37498ac5-1f5b-4190-f7ab-2ebaed4312fd"
      },
      "source": [
        "df['diagnosis'].value_counts()"
      ],
      "execution_count": 7,
      "outputs": [
        {
          "output_type": "execute_result",
          "data": {
            "text/plain": [
              "B    357\n",
              "M    212\n",
              "Name: diagnosis, dtype: int64"
            ]
          },
          "metadata": {
            "tags": []
          },
          "execution_count": 7
        }
      ]
    },
    {
      "cell_type": "markdown",
      "metadata": {
        "id": "4BhA-89ViqOA",
        "colab_type": "text"
      },
      "source": [
        "First of all let's check for missing values and outliers."
      ]
    },
    {
      "cell_type": "code",
      "metadata": {
        "id": "xwWmjxwSiqOB",
        "colab_type": "code",
        "colab": {
          "base_uri": "https://localhost:8080/",
          "height": 561
        },
        "outputId": "8c24cbaf-07b6-4c5b-ac20-d32863266c5e"
      },
      "source": [
        "df.isna().sum()"
      ],
      "execution_count": 8,
      "outputs": [
        {
          "output_type": "execute_result",
          "data": {
            "text/plain": [
              "diagnosis                  0\n",
              "radius_mean                0\n",
              "texture_mean               0\n",
              "perimeter_mean             0\n",
              "area_mean                  0\n",
              "smoothness_mean            0\n",
              "compactness_mean           0\n",
              "concavity_mean             0\n",
              "concave points_mean        0\n",
              "symmetry_mean              0\n",
              "fractal_dimension_mean     0\n",
              "radius_se                  0\n",
              "texture_se                 0\n",
              "perimeter_se               0\n",
              "area_se                    0\n",
              "smoothness_se              0\n",
              "compactness_se             0\n",
              "concavity_se               0\n",
              "concave points_se          0\n",
              "symmetry_se                0\n",
              "fractal_dimension_se       0\n",
              "radius_worst               0\n",
              "texture_worst              0\n",
              "perimeter_worst            0\n",
              "area_worst                 0\n",
              "smoothness_worst           0\n",
              "compactness_worst          0\n",
              "concavity_worst            0\n",
              "concave points_worst       0\n",
              "symmetry_worst             0\n",
              "fractal_dimension_worst    0\n",
              "dtype: int64"
            ]
          },
          "metadata": {
            "tags": []
          },
          "execution_count": 8
        }
      ]
    },
    {
      "cell_type": "markdown",
      "metadata": {
        "id": "Vakut2ldiqOF",
        "colab_type": "text"
      },
      "source": [
        "There are no missing values. Let's check the boxplots of the numerical columns for outliers. We will do this in three slices."
      ]
    },
    {
      "cell_type": "code",
      "metadata": {
        "id": "vnllugQuiqOI",
        "colab_type": "code",
        "colab": {
          "base_uri": "https://localhost:8080/",
          "height": 318
        },
        "outputId": "75616e7f-2e97-44c2-9323-7b59ecd15531"
      },
      "source": [
        "df.loc[:,'radius_mean':'fractal_dimension_mean'].boxplot(figsize=(20,5))\n",
        "plt.show()"
      ],
      "execution_count": 9,
      "outputs": [
        {
          "output_type": "display_data",
          "data": {
            "image/png": "[encoded data removed]",
            "text/plain": [
              "<Figure size 1440x360 with 1 Axes>"
            ]
          },
          "metadata": {
            "tags": []
          }
        }
      ]
    },
    {
      "cell_type": "code",
      "metadata": {
        "id": "k3i2jTq0iqON",
        "colab_type": "code",
        "colab": {
          "base_uri": "https://localhost:8080/",
          "height": 321
        },
        "outputId": "7119e7da-68ab-42c2-dc8c-64cee5a5bd4c"
      },
      "source": [
        "df.loc[:,'radius_se':'fractal_dimension_se'].boxplot(figsize=(20,5))\n",
        "plt.show()"
      ],
      "execution_count": 10,
      "outputs": [
        {
          "output_type": "display_data",
          "data": {
            "image/png": "[encoded data removed]",
            "text/plain": [
              "<Figure size 1440x360 with 1 Axes>"
            ]
          },
          "metadata": {
            "tags": []
          }
        }
      ]
    },
    {
      "cell_type": "code",
      "metadata": {
        "id": "wsxf2qKUiqOU",
        "colab_type": "code",
        "colab": {
          "base_uri": "https://localhost:8080/",
          "height": 318
        },
        "outputId": "a38aa13b-e2e3-426b-a637-a0b79cbe988c"
      },
      "source": [
        "df.loc[:,'radius_worst':'fractal_dimension_worst'].boxplot(figsize=(20,5))\n",
        "plt.show()"
      ],
      "execution_count": 11,
      "outputs": [
        {
          "output_type": "display_data",
          "data": {
            "image/png": "[encoded data removed]",
            "text/plain": [
              "<Figure size 1440x360 with 1 Axes>"
            ]
          },
          "metadata": {
            "tags": []
          }
        }
      ]
    },
    {
      "cell_type": "markdown",
      "metadata": {
        "id": "1_qBD_j5iqOY",
        "colab_type": "text"
      },
      "source": [
        "The three `area` columns appear to have most prominent outliers. We will apply log transformation followed by `RobustScaler` to them. To all other predictor columns we will apply `StandardScaler`.  "
      ]
    },
    {
      "cell_type": "markdown",
      "metadata": {
        "id": "EL1Q6XtFiqOZ",
        "colab_type": "text"
      },
      "source": [
        "## Data Preparation"
      ]
    },
    {
      "cell_type": "markdown",
      "metadata": {
        "id": "0fUlsfqciqOa",
        "colab_type": "text"
      },
      "source": [
        "First, we transform the `diagnosis` column to binary."
      ]
    },
    {
      "cell_type": "code",
      "metadata": {
        "id": "Q6o9kqzjiqOa",
        "colab_type": "code",
        "colab": {
          "base_uri": "https://localhost:8080/",
          "height": 68
        },
        "outputId": "cbb95b14-0b38-4e5c-fea9-41052cae383b"
      },
      "source": [
        "mapper = {'M': 1, 'B': 0}\n",
        "df['diagnosis'] = df['diagnosis'].replace(mapper)\n",
        "df['diagnosis'].value_counts()"
      ],
      "execution_count": 12,
      "outputs": [
        {
          "output_type": "execute_result",
          "data": {
            "text/plain": [
              "0    357\n",
              "1    212\n",
              "Name: diagnosis, dtype: int64"
            ]
          },
          "metadata": {
            "tags": []
          },
          "execution_count": 12
        }
      ]
    },
    {
      "cell_type": "markdown",
      "metadata": {
        "id": "nxGXRmzxiqOf",
        "colab_type": "text"
      },
      "source": [
        "We will attempt training SVM and Random Forest classifiers. We will tune their parameters, compare them and choose the best classifier for our problem. Here we will prepare a scikit-learn pipeline for data preparation (preprocessing pipeline), which we will apply later. The use of his pipelines ensures that preprocessing is applied separately to any training validation and test dataset without data leakage.\n",
        "\n",
        "First, we need to prepare two lists of column names. The list `names_outliers` contains the names of the three columns to which we will apply log transformation followed by `RobustScaler`. The list `names_no_outliers` contains the names of all other predictor columns to which we will apply `StandardScaler`."
      ]
    },
    {
      "cell_type": "code",
      "metadata": {
        "id": "jeds19aSiqOf",
        "colab_type": "code",
        "colab": {}
      },
      "source": [
        "# store a list with the names of all predictors\n",
        "names_all = [c for c in df if c not in ['diagnosis']]\n",
        "\n",
        "# define column groups with same data preparation\n",
        "names_outliers = ['area_mean', 'area_se', 'area_worst']\n",
        "names_no_outliers = list(set(names_all) - set(names_outliers))"
      ],
      "execution_count": 0,
      "outputs": []
    },
    {
      "cell_type": "markdown",
      "metadata": {
        "id": "_WXMzV9wiqOi",
        "colab_type": "text"
      },
      "source": [
        "After splitting a dataset into a training and test datasets, the names of the columns are lost. This is the reason, we stored the names of the columns in lists above. We will use the following class in the preprocessing pipeline to put the names of the columns back. We need this to easily apply the different preparation strategies to the two groups of columns. "
      ]
    },
    {
      "cell_type": "code",
      "metadata": {
        "id": "HHeXzlnbiqOi",
        "colab_type": "code",
        "colab": {}
      },
      "source": [
        "class AddColumnNames(BaseEstimator, TransformerMixin):\n",
        "    def __init__(self, columns):\n",
        "        self.columns = columns\n",
        "\n",
        "    def fit(self, X, y=None):\n",
        "        return self\n",
        "\n",
        "    def transform(self, X):\n",
        "        return pd.DataFrame(data=X, columns=self.columns)"
      ],
      "execution_count": 0,
      "outputs": []
    },
    {
      "cell_type": "markdown",
      "metadata": {
        "id": "V7G5dIVtiqOm",
        "colab_type": "text"
      },
      "source": [
        "Then we need another class to be able to select a particular group of columns."
      ]
    },
    {
      "cell_type": "code",
      "metadata": {
        "id": "II6jQaQRiqOn",
        "colab_type": "code",
        "colab": {}
      },
      "source": [
        "class ColumnSelector(BaseEstimator, TransformerMixin):\n",
        "    def __init__(self, columns):\n",
        "        self.columns = columns\n",
        "\n",
        "    def fit(self, X, y=None):\n",
        "        return self\n",
        "\n",
        "    def transform(self, X):\n",
        "        assert isinstance(X, pd.DataFrame)\n",
        "        return X[self.columns]"
      ],
      "execution_count": 0,
      "outputs": []
    },
    {
      "cell_type": "markdown",
      "metadata": {
        "id": "gGmc6wQ9iqOq",
        "colab_type": "text"
      },
      "source": [
        "Finally, we can build the preprocessing pipeline. It first adds the column names back to a set of examples (that can be either a training, or a validation, or test set). Then it applies the two different data preparation strategies to the two groups of columns and unites them with `FeatureUnion`. "
      ]
    },
    {
      "cell_type": "code",
      "metadata": {
        "id": "jo-C9NguiqOr",
        "colab_type": "code",
        "colab": {}
      },
      "source": [
        "preprocess_pipeline = make_pipeline(\n",
        "    AddColumnNames(columns=names_all),\n",
        "    FeatureUnion(transformer_list=[\n",
        "        (\"outlier_columns\", make_pipeline(\n",
        "            ColumnSelector(columns=names_outliers),\n",
        "            FunctionTransformer(np.log, validate=True),\n",
        "            RobustScaler()\n",
        "        )),\n",
        "        (\"no_outlier_columns\", make_pipeline(\n",
        "            ColumnSelector(columns=names_no_outliers),\n",
        "            StandardScaler()\n",
        "        ))\n",
        "    ])\n",
        ")"
      ],
      "execution_count": 0,
      "outputs": []
    },
    {
      "cell_type": "markdown",
      "metadata": {
        "id": "yWoZvSR-iqOu",
        "colab_type": "text"
      },
      "source": [
        "Now we can separate the columns into *target* and *predictors* and split the dataset into a training and test sets. "
      ]
    },
    {
      "cell_type": "code",
      "metadata": {
        "id": "02IIcZfLiqOv",
        "colab_type": "code",
        "colab": {}
      },
      "source": [
        "y = df['diagnosis']\n",
        "X = df.drop('diagnosis', axis=1).values\n",
        "\n",
        "X_train, X_test, y_train, y_test = train_test_split(X, y, test_size=0.2, shuffle=True, stratify=y)"
      ],
      "execution_count": 0,
      "outputs": []
    },
    {
      "cell_type": "markdown",
      "metadata": {
        "id": "OZL3_6geiqOx",
        "colab_type": "text"
      },
      "source": [
        "The parameter `stratify=y` ensures both classes are represented in the same proportion in both the training and the test sets.\n",
        "\n",
        "Note that after the split into a training and test sets, X_train and X_test are numpy arrays and no longer have column names. That's why we needed the class above to put the names of columns back in the preprocessing pipeline."
      ]
    },
    {
      "cell_type": "markdown",
      "metadata": {
        "id": "gDnVycfXiqOy",
        "colab_type": "text"
      },
      "source": [
        "## Grid Search for Best Parameters of Classifiers"
      ]
    },
    {
      "cell_type": "markdown",
      "metadata": {
        "id": "qlxS4LJ6iqO0",
        "colab_type": "text"
      },
      "source": [
        "Next, we train an SVM classifier with the training set and a range of possible parameters in order to find the best parameters for SVM by cross-validation. To do this we will build another pipeline which includes the preprocessing pipeline and the SVM classifier. The pipeline will take care for separately preprocessing the training and validation sets after the training set is further split into training and validation sets in the process of cross-validation."
      ]
    },
    {
      "cell_type": "code",
      "metadata": {
        "id": "TcgS0mh_iqO0",
        "colab_type": "code",
        "colab": {}
      },
      "source": [
        "# create the pipeline\n",
        "pipe = Pipeline(steps=[('preprocess', preprocess_pipeline), ('svm', svm.SVC(probability=True))])\n",
        "\n",
        "# prepare a prameter grid\n",
        "# note that __ can be used to specify the name of a parameter for a specific element in a pipeline\n",
        "# note also that this is not an exhaustive list of the parameters of svn.SVC and their possible values\n",
        "\n",
        "param_grid = {\n",
        "    'svm__C': [0.1, 1, 10, 100],  \n",
        "    'svm__gamma': [1, 0.1, 0.01, 0.001], \n",
        "    'svm__kernel': ['rbf', 'linear', 'poly']}\n",
        "\n",
        "search = GridSearchCV(pipe, param_grid, cv=10, iid=False, refit=True)\n",
        "search.fit(X_train, y_train)\n",
        "print(\"Best CV score = %0.3f:\" % search.best_score_)\n",
        "print(\"Best parameters: \", search.best_params_)\n",
        "\n",
        "# store the best params and best model for later use\n",
        "SVM_best_params = search.best_params_\n",
        "SVM_best_model = search.best_estimator_"
      ],
      "execution_count": 0,
      "outputs": []
    },
    {
      "cell_type": "markdown",
      "metadata": {
        "id": "8aPmM2cfiqO2",
        "colab_type": "text"
      },
      "source": [
        "The parameter `refit=True` makes the GridSearchCV train an SVM classifier on the **whole training set** with the best parameters found. This best SVM model can then be accessed via the `.best_estimator_` attribute of the GridSearchCV.\n",
        "\n",
        "Let's repeat the same experiment but with the Random Forest classifier."
      ]
    },
    {
      "cell_type": "code",
      "metadata": {
        "id": "O1NcgBdviqO3",
        "colab_type": "code",
        "colab": {}
      },
      "source": [
        "# create the pipeline\n",
        "pipe = Pipeline(steps=[('preprocess', preprocess_pipeline), ('rf', RandomForestClassifier())])\n",
        "\n",
        "# prepare a prameter grid\n",
        "# note that __ can be used to specify the name of a parameter for a specific element in a pipeline\n",
        "# note also that this is not an exhaustive list of the parameters of RandomForestClassifier and their possible values\n",
        "param_grid = {\n",
        "    'rf__n_estimators' : [10,20,30],\n",
        "    'rf__max_depth': [2, 4, 6, 8]\n",
        "}\n",
        "\n",
        "search = GridSearchCV(pipe, param_grid, cv=10, iid=False, refit=True)\n",
        "search.fit(X_train, y_train)\n",
        "print(\"Best CV score = %0.3f:\" % search.best_score_)\n",
        "print(\"Best parameters: \", search.best_params_)\n",
        "\n",
        "# store the best params and best model for later use\n",
        "RF_best_params = search.best_params_\n",
        "RF_best_model = search.best_estimator_"
      ],
      "execution_count": 0,
      "outputs": []
    },
    {
      "cell_type": "markdown",
      "metadata": {
        "id": "DeOowX5DiqO7",
        "colab_type": "text"
      },
      "source": [
        "## Compare Classifiers on Test Set"
      ]
    },
    {
      "cell_type": "markdown",
      "metadata": {
        "id": "cKRXxVoZiqO8",
        "colab_type": "text"
      },
      "source": [
        "Now we can evaluate the best models found by the grid search on the test dataset and compare their results (accuracy, precision, recall, etc.) to choose the better classifier for our problem."
      ]
    },
    {
      "cell_type": "markdown",
      "metadata": {
        "id": "Zxb9isijiqO9",
        "colab_type": "text"
      },
      "source": [
        "The evaluation function below evaluates a model on a test data set. Note that, the preprocessing pipeline will be automatically applied to the test set. The results returned by the function are a variety of metrics measured on the test set which we will use to compare the models and decide which classifier to choose for training the final model. These metrics are:\n",
        "\n",
        "- accuracy\n",
        "- precisions\n",
        "- recall\n",
        "- F1-score\n",
        "- TPR (true positive rate)\n",
        "- AUC (area under the ROC curve)\n",
        "\n",
        "To plot ROC curves for the models, we need to ensure that the same fpr (false positive rate) scale is used for all curves. For this reason, we take a scale of 100 equally spaced fpr values between 0 and 1."
      ]
    },
    {
      "cell_type": "code",
      "metadata": {
        "id": "5_lTdoL7iqO9",
        "colab_type": "code",
        "colab": {}
      },
      "source": [
        "mean_fpr = np.linspace(start=0, stop=1, num=100)"
      ],
      "execution_count": 0,
      "outputs": []
    },
    {
      "cell_type": "code",
      "metadata": {
        "id": "NU-nVElsiqPA",
        "colab_type": "code",
        "colab": {}
      },
      "source": [
        "# model - a trained binary probabilistic classification model;\n",
        "#         it is assumed that there are two classes: 0 and 1\n",
        "#         and the classifier learns to predict probabilities for the examples to belong to class 1\n",
        "\n",
        "def evaluate_model(X_test, y_test, model):\n",
        "    # compute probabilistic predictiond for the evaluation set\n",
        "    _probabilities = model.predict_proba(X_test)[:, 1]\n",
        "    \n",
        "    # compute exact predictiond for the evaluation set\n",
        "    _predicted_values = model.predict(X_test)\n",
        "        \n",
        "    # compute accuracy\n",
        "    _accuracy = accuracy_score(y_test, _predicted_values)\n",
        "        \n",
        "    # compute precision, recall and f1 score for class 1\n",
        "    _precision, _recall, _f1_score, _ = precision_recall_fscore_support(y_test, _predicted_values, labels=[1])\n",
        "    \n",
        "    # compute fpr and tpr values for various thresholds \n",
        "    # by comparing the true target values to the predicted probabilities for class 1\n",
        "    _fpr, _tpr, _ = roc_curve(y_test, _probabilities)\n",
        "        \n",
        "    # compute true positive rates for the values in the array mean_fpr\n",
        "    _tpr_transformed = np.array([interp(mean_fpr, _fpr, _tpr)])\n",
        "    \n",
        "    # compute the area under the curve\n",
        "    _auc = auc(_fpr, _tpr)\n",
        "            \n",
        "    return _accuracy, _precision[0], _recall[0], _f1_score[0], _tpr_transformed, _auc"
      ],
      "execution_count": 0,
      "outputs": []
    },
    {
      "cell_type": "markdown",
      "metadata": {
        "id": "P_ItvvyIiqPC",
        "colab_type": "text"
      },
      "source": [
        "Now we will use the function above to evaluate the best SVM and Random Forest models found by the grid search."
      ]
    },
    {
      "cell_type": "code",
      "metadata": {
        "id": "luB3cRxZiqPD",
        "colab_type": "code",
        "colab": {}
      },
      "source": [
        "SVM_accuracy, SVM_precision, SVM_recall, SVM_f1_score, SVM_tpr, SVM_auc = evaluate_model(X_test, y_test, SVM_best_model)\n",
        "RF_accuracy, RF_precision, RF_recall, RF_f1_score, RF_tpr, RF_auc = evaluate_model(X_test, y_test, RF_best_model)"
      ],
      "execution_count": 0,
      "outputs": []
    },
    {
      "cell_type": "markdown",
      "metadata": {
        "id": "U-_uyEfliqPF",
        "colab_type": "text"
      },
      "source": [
        "We will use a pandas bar plot to compare the accuracies of both models as well as their precision, recall and F1-score for class 1. "
      ]
    },
    {
      "cell_type": "code",
      "metadata": {
        "id": "QKn--bV1iqPF",
        "colab_type": "code",
        "colab": {}
      },
      "source": [
        "SVM_metrics = np.array([SVM_accuracy, SVM_precision, SVM_recall, SVM_f1_score])\n",
        "RF_metrics = np.array([RF_accuracy, RF_precision, RF_recall, RF_f1_score])\n",
        "index = ['accuracy', 'precision', 'recall', 'F1-score']\n",
        "df_metrics = pd.DataFrame({'SVM': SVM_metrics, 'Random Forest': RF_metrics}, index=index)\n",
        "df_metrics.plot.bar(rot=0)\n",
        "plt.legend(loc=\"lower right\")\n",
        "plt.show()"
      ],
      "execution_count": 0,
      "outputs": []
    },
    {
      "cell_type": "markdown",
      "metadata": {
        "id": "4C1vI-I5iqPH",
        "colab_type": "text"
      },
      "source": [
        "Both classifiers perform well with SVM being slightly better. Most important, both have high recall for class 1, which is what we were looking for. We can pick SVM to train a final model on the whole dataset. These results will vary slightly when you run this notebook again. Ideally, the code could be enhanced to run the entire experiment multiple times and average the results.\n",
        "\n",
        "We can also examine the ROC curves of the two classifiers for class 1."
      ]
    },
    {
      "cell_type": "code",
      "metadata": {
        "id": "jdWl6r20iqPH",
        "colab_type": "code",
        "colab": {}
      },
      "source": [
        "plt.plot([0, 1], [0, 1], linestyle='--', lw=2, color='r', label='Chance', alpha=0.8)\n",
        "plt.plot(mean_fpr, SVM_tpr[0,:], lw=2, color='blue', label='SVM (AUC = %0.2f)' % (SVM_auc), alpha=0.8)\n",
        "plt.plot(mean_fpr, RF_tpr[0,:], lw=2, color='orange', label='Random Forest (AUC = %0.2f)' % (RF_auc), alpha=0.8)\n",
        "plt.xlabel('False Positive Rate')\n",
        "plt.ylabel('True Positive Rate')\n",
        "plt.title('ROC curves for multiple classifiers')\n",
        "plt.legend(loc=\"lower right\")\n",
        "plt.show()"
      ],
      "execution_count": 0,
      "outputs": []
    },
    {
      "cell_type": "markdown",
      "metadata": {
        "id": "Mhu1w20HiqPK",
        "colab_type": "text"
      },
      "source": [
        "The ROC curves confirm that both classifiers perform significantly better than a random guess (the red dashed line). "
      ]
    },
    {
      "cell_type": "markdown",
      "metadata": {
        "id": "o1Blm29ZiqPK",
        "colab_type": "text"
      },
      "source": [
        "## Train a Final Model"
      ]
    },
    {
      "cell_type": "markdown",
      "metadata": {
        "id": "BdpzsNUziqPL",
        "colab_type": "text"
      },
      "source": [
        "Finally, we can train an SVM model with all data we have, assuming that the more data we have the better the model."
      ]
    },
    {
      "cell_type": "code",
      "metadata": {
        "id": "7bnrQbriiqPL",
        "colab_type": "code",
        "colab": {}
      },
      "source": [
        "# function to remove the string 'svm__' from the names of the parameters in SVM_best_params\n",
        "def transform(dict):\n",
        "    return {key.replace('svm__','') :  value for key, value in dict.items()}\n",
        "\n",
        "pipe = make_pipeline(preprocess_pipeline, svm.SVC(**transform(SVM_best_params)))\n",
        "\n",
        "final_model =pipe.fit(X, y)"
      ],
      "execution_count": 0,
      "outputs": []
    },
    {
      "cell_type": "markdown",
      "metadata": {
        "id": "LZoOoxXMiqPM",
        "colab_type": "text"
      },
      "source": [
        "We can also store this model on disk."
      ]
    },
    {
      "cell_type": "code",
      "metadata": {
        "id": "RR7erQjriqPN",
        "colab_type": "code",
        "colab": {}
      },
      "source": [
        "filename = 'final_model.sav'\n",
        "pickle.dump(final_model, open(filename, 'wb'))"
      ],
      "execution_count": 0,
      "outputs": []
    }
  ]
}