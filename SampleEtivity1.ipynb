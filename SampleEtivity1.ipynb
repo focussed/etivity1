{
  "nbformat": 4,
  "nbformat_minor": 0,
  "metadata": {
    "kernelspec": {
      "display_name": "Python 3",
      "language": "python",
      "name": "python3"
    },
    "language_info": {
      "codemirror_mode": {
        "name": "ipython",
        "version": 3
      },
      "file_extension": ".py",
      "mimetype": "text/x-python",
      "name": "python",
      "nbconvert_exporter": "python",
      "pygments_lexer": "ipython3",
      "version": "3.7.4"
    },
    "colab": {
      "name": "Etivity1.ipynb",
      "provenance": [],
      "include_colab_link": true
    }
  },
  "cells": [
    {
      "cell_type": "markdown",
      "metadata": {
        "id": "view-in-github",
        "colab_type": "text"
      },
      "source": [
        "<a href=\"https://colab.research.google.com/github/focussed/etivity1/blob/master/SampleEtivity1.ipynb\" target=\"_parent\"><img src=\"https://colab.research.google.com/assets/colab-badge.svg\" alt=\"Open In Colab\"/></a>"
      ]
    },
    {
      "cell_type": "markdown",
      "metadata": {
        "id": "l_PKmOvbisPb",
        "colab_type": "text"
      },
      "source": [
        "# Query to solve\n",
        "What type of profile of customer has taken out a loan?\n",
        "and secondly, where customers who took out a loan more likely to have a poutcome of success?"
      ]
    },
    {
      "cell_type": "code",
      "metadata": {
        "id": "ry1OUf2NisO2",
        "colab_type": "code",
        "colab": {}
      },
      "source": [
        "# The Python modules uses in this tutorial are:\n",
        "\n",
        "# - Pandas\n",
        "# - Numpy\n",
        "# - Matplotlib\n",
        "# - Seaborn\n",
        "\n",
        "import pandas as pd\n",
        "import numpy as np\n",
        "import matplotlib.pyplot as plt\n",
        "import seaborn as sns\n",
        "\n",
        "sort=True\n",
        "\n",
        "url_train = 'https://raw.githubusercontent.com/focussed/etivity1/master/bank_test.csv'\n",
        "df = pd.read_csv(url_train)"
      ],
      "execution_count": 0,
      "outputs": []
    },
    {
      "cell_type": "markdown",
      "metadata": {
        "id": "3ofrtYw0NQCO",
        "colab_type": "text"
      },
      "source": [
        "First, lets look at some of the data's general characteristics"
      ]
    },
    {
      "cell_type": "code",
      "metadata": {
        "id": "TQDnHeBeDMfP",
        "colab_type": "code",
        "outputId": "a9705a11-592e-4258-9edb-b1acc1c37441",
        "colab": {
          "base_uri": "https://localhost:8080/",
          "height": 204
        }
      },
      "source": [
        "df.head()"
      ],
      "execution_count": 95,
      "outputs": [
        {
          "output_type": "execute_result",
          "data": {
            "text/html": [
              "<div>\n",
              "<style scoped>\n",
              "    .dataframe tbody tr th:only-of-type {\n",
              "        vertical-align: middle;\n",
              "    }\n",
              "\n",
              "    .dataframe tbody tr th {\n",
              "        vertical-align: top;\n",
              "    }\n",
              "\n",
              "    .dataframe thead th {\n",
              "        text-align: right;\n",
              "    }\n",
              "</style>\n",
              "<table border=\"1\" class=\"dataframe\">\n",
              "  <thead>\n",
              "    <tr style=\"text-align: right;\">\n",
              "      <th></th>\n",
              "      <th>age</th>\n",
              "      <th>job</th>\n",
              "      <th>education</th>\n",
              "      <th>balance</th>\n",
              "      <th>loan</th>\n",
              "      <th>contact</th>\n",
              "      <th>subscribed</th>\n",
              "    </tr>\n",
              "  </thead>\n",
              "  <tbody>\n",
              "    <tr>\n",
              "      <th>0</th>\n",
              "      <td>32.0</td>\n",
              "      <td>technician</td>\n",
              "      <td>tertiary</td>\n",
              "      <td>392</td>\n",
              "      <td>no</td>\n",
              "      <td>cellular</td>\n",
              "      <td>no</td>\n",
              "    </tr>\n",
              "    <tr>\n",
              "      <th>1</th>\n",
              "      <td>39.0</td>\n",
              "      <td>technician</td>\n",
              "      <td>secondary</td>\n",
              "      <td>688</td>\n",
              "      <td>yes</td>\n",
              "      <td>cellular</td>\n",
              "      <td>no</td>\n",
              "    </tr>\n",
              "    <tr>\n",
              "      <th>2</th>\n",
              "      <td>59.0</td>\n",
              "      <td>retired</td>\n",
              "      <td>secondary</td>\n",
              "      <td>1035</td>\n",
              "      <td>yes</td>\n",
              "      <td>cellular</td>\n",
              "      <td>no</td>\n",
              "    </tr>\n",
              "    <tr>\n",
              "      <th>3</th>\n",
              "      <td>47.0</td>\n",
              "      <td>blue-collar</td>\n",
              "      <td>secondary</td>\n",
              "      <td>398</td>\n",
              "      <td>yes</td>\n",
              "      <td>cellular</td>\n",
              "      <td>no</td>\n",
              "    </tr>\n",
              "    <tr>\n",
              "      <th>4</th>\n",
              "      <td>54.0</td>\n",
              "      <td>retired</td>\n",
              "      <td>secondary</td>\n",
              "      <td>1004</td>\n",
              "      <td>no</td>\n",
              "      <td>cellular</td>\n",
              "      <td>no</td>\n",
              "    </tr>\n",
              "  </tbody>\n",
              "</table>\n",
              "</div>"
            ],
            "text/plain": [
              "    age          job  education  balance loan   contact subscribed\n",
              "0  32.0   technician   tertiary      392   no  cellular         no\n",
              "1  39.0   technician  secondary      688  yes  cellular         no\n",
              "2  59.0      retired  secondary     1035  yes  cellular         no\n",
              "3  47.0  blue-collar  secondary      398  yes  cellular         no\n",
              "4  54.0      retired  secondary     1004   no  cellular         no"
            ]
          },
          "metadata": {
            "tags": []
          },
          "execution_count": 95
        }
      ]
    },
    {
      "cell_type": "code",
      "metadata": {
        "id": "zM2lfuYRisP0",
        "colab_type": "code",
        "outputId": "d2db1914-d045-4880-dc53-83162f01d91f",
        "colab": {
          "base_uri": "https://localhost:8080/",
          "height": 297
        }
      },
      "source": [
        "df.describe()"
      ],
      "execution_count": 96,
      "outputs": [
        {
          "output_type": "execute_result",
          "data": {
            "text/html": [
              "<div>\n",
              "<style scoped>\n",
              "    .dataframe tbody tr th:only-of-type {\n",
              "        vertical-align: middle;\n",
              "    }\n",
              "\n",
              "    .dataframe tbody tr th {\n",
              "        vertical-align: top;\n",
              "    }\n",
              "\n",
              "    .dataframe thead th {\n",
              "        text-align: right;\n",
              "    }\n",
              "</style>\n",
              "<table border=\"1\" class=\"dataframe\">\n",
              "  <thead>\n",
              "    <tr style=\"text-align: right;\">\n",
              "      <th></th>\n",
              "      <th>age</th>\n",
              "      <th>balance</th>\n",
              "    </tr>\n",
              "  </thead>\n",
              "  <tbody>\n",
              "    <tr>\n",
              "      <th>count</th>\n",
              "      <td>995.000000</td>\n",
              "      <td>1000.00000</td>\n",
              "    </tr>\n",
              "    <tr>\n",
              "      <th>mean</th>\n",
              "      <td>42.059296</td>\n",
              "      <td>1437.51300</td>\n",
              "    </tr>\n",
              "    <tr>\n",
              "      <th>std</th>\n",
              "      <td>12.555130</td>\n",
              "      <td>2815.60663</td>\n",
              "    </tr>\n",
              "    <tr>\n",
              "      <th>min</th>\n",
              "      <td>19.000000</td>\n",
              "      <td>-980.00000</td>\n",
              "    </tr>\n",
              "    <tr>\n",
              "      <th>25%</th>\n",
              "      <td>33.000000</td>\n",
              "      <td>226.75000</td>\n",
              "    </tr>\n",
              "    <tr>\n",
              "      <th>50%</th>\n",
              "      <td>39.000000</td>\n",
              "      <td>562.00000</td>\n",
              "    </tr>\n",
              "    <tr>\n",
              "      <th>75%</th>\n",
              "      <td>50.000000</td>\n",
              "      <td>1724.00000</td>\n",
              "    </tr>\n",
              "    <tr>\n",
              "      <th>max</th>\n",
              "      <td>93.000000</td>\n",
              "      <td>31472.00000</td>\n",
              "    </tr>\n",
              "  </tbody>\n",
              "</table>\n",
              "</div>"
            ],
            "text/plain": [
              "              age      balance\n",
              "count  995.000000   1000.00000\n",
              "mean    42.059296   1437.51300\n",
              "std     12.555130   2815.60663\n",
              "min     19.000000   -980.00000\n",
              "25%     33.000000    226.75000\n",
              "50%     39.000000    562.00000\n",
              "75%     50.000000   1724.00000\n",
              "max     93.000000  31472.00000"
            ]
          },
          "metadata": {
            "tags": []
          },
          "execution_count": 96
        }
      ]
    },
    {
      "cell_type": "markdown",
      "metadata": {
        "id": "LavqDUxQisQB",
        "colab_type": "text"
      },
      "source": [
        "The describe function treats the numeric fields of the dataset, calculating the useful statistic information such as mean, standard deviation, quartile values and max and min values for the 2000 samples.\n",
        "\n",
        "A data clean is needed on the input forms as the age is not specified for all customers.  These rows should be identified and values entered.  Age may or may not be necessary for the bank.  However, for the bank to make decisions based on age may result in a false premise if the value is not recorded for all clients in the dataset.\n",
        "\n",
        "It can be seen that the average balance amount is 1413 and the standard deviation is quite high at 3131\n",
        "\n"
      ]
    },
    {
      "cell_type": "markdown",
      "metadata": {
        "id": "abueaLicjvM2",
        "colab_type": "text"
      },
      "source": [
        "The next stage is to consider text based data and examine the individual columns for integrity.\n",
        "\n"
      ]
    },
    {
      "cell_type": "code",
      "metadata": {
        "id": "j9CBLVxuQvAC",
        "colab_type": "code",
        "outputId": "9a84ab90-97ef-4098-b86c-7ee511d98a52",
        "colab": {
          "base_uri": "https://localhost:8080/",
          "height": 34
        }
      },
      "source": [
        "df.shape[0]"
      ],
      "execution_count": 97,
      "outputs": [
        {
          "output_type": "execute_result",
          "data": {
            "text/plain": [
              "1000"
            ]
          },
          "metadata": {
            "tags": []
          },
          "execution_count": 97
        }
      ]
    },
    {
      "cell_type": "code",
      "metadata": {
        "id": "0au8CGfgdhFv",
        "colab_type": "code",
        "outputId": "ab0f69ae-e171-4581-a537-49f05140e3f2",
        "colab": {
          "base_uri": "https://localhost:8080/",
          "height": 51
        }
      },
      "source": [
        "print('Percent of missing age values')\n",
        "((df['age'].isna().sum())/(df.shape[0]))*100"
      ],
      "execution_count": 98,
      "outputs": [
        {
          "output_type": "stream",
          "text": [
            "Percent of missing age values\n"
          ],
          "name": "stdout"
        },
        {
          "output_type": "execute_result",
          "data": {
            "text/plain": [
              "0.5"
            ]
          },
          "metadata": {
            "tags": []
          },
          "execution_count": 98
        }
      ]
    },
    {
      "cell_type": "code",
      "metadata": {
        "id": "D-bLv5IGisQS",
        "colab_type": "code",
        "outputId": "6430ed9b-d3f9-4aaf-cb04-bbc8cc3156f8",
        "colab": {
          "base_uri": "https://localhost:8080/",
          "height": 153
        }
      },
      "source": [
        "df.dtypes"
      ],
      "execution_count": 99,
      "outputs": [
        {
          "output_type": "execute_result",
          "data": {
            "text/plain": [
              "age           float64\n",
              "job            object\n",
              "education      object\n",
              "balance         int64\n",
              "loan           object\n",
              "contact        object\n",
              "subscribed     object\n",
              "dtype: object"
            ]
          },
          "metadata": {
            "tags": []
          },
          "execution_count": 99
        }
      ]
    },
    {
      "cell_type": "code",
      "metadata": {
        "id": "S76wOF0BQfYy",
        "colab_type": "code",
        "outputId": "1624ff6b-8f29-4137-95ef-5394abfb165c",
        "colab": {
          "base_uri": "https://localhost:8080/",
          "height": 153
        }
      },
      "source": [
        "#now we check for missing data \n",
        "# this shows the total count for information that is missing either empty or NaN\n",
        "df.isna().sum()"
      ],
      "execution_count": 100,
      "outputs": [
        {
          "output_type": "execute_result",
          "data": {
            "text/plain": [
              "age            5\n",
              "job            4\n",
              "education     50\n",
              "balance        0\n",
              "loan           0\n",
              "contact       14\n",
              "subscribed     0\n",
              "dtype: int64"
            ]
          },
          "metadata": {
            "tags": []
          },
          "execution_count": 100
        }
      ]
    },
    {
      "cell_type": "code",
      "metadata": {
        "id": "RyS39czgWdE3",
        "colab_type": "code",
        "outputId": "b44225f6-c33a-402d-ab2c-c479a03bd236",
        "colab": {
          "base_uri": "https://localhost:8080/",
          "height": 153
        }
      },
      "source": [
        "# this shows the total count for information that is missing either empty or NaN\n",
        "df.isnull().sum()"
      ],
      "execution_count": 101,
      "outputs": [
        {
          "output_type": "execute_result",
          "data": {
            "text/plain": [
              "age            5\n",
              "job            4\n",
              "education     50\n",
              "balance        0\n",
              "loan           0\n",
              "contact       14\n",
              "subscribed     0\n",
              "dtype: int64"
            ]
          },
          "metadata": {
            "tags": []
          },
          "execution_count": 101
        }
      ]
    },
    {
      "cell_type": "code",
      "metadata": {
        "id": "pWtLniwLWYps",
        "colab_type": "code",
        "outputId": "033d76a4-2936-4caf-a429-1df9bddf84a2",
        "colab": {
          "base_uri": "https://localhost:8080/",
          "height": 279
        }
      },
      "source": [
        "df.plot.scatter(x='age', y='balance')\n",
        "plt.show()"
      ],
      "execution_count": 102,
      "outputs": [
        {
          "output_type": "display_data",
          "data": {
            "image/png": "[encoded data removed]",
            "text/plain": [
              "<Figure size 432x288 with 1 Axes>"
            ]
          },
          "metadata": {
            "tags": [],
            "needs_background": "light"
          }
        }
      ]
    },
    {
      "cell_type": "markdown",
      "metadata": {
        "id": "Nygq1iC-Orqe",
        "colab_type": "text"
      },
      "source": [
        "# Analysis of columns\n",
        "Discover dataset for customers with loans"
      ]
    },
    {
      "cell_type": "code",
      "metadata": {
        "id": "iMBsDEl1PFy6",
        "colab_type": "code",
        "outputId": "1d26cded-bf00-4ea4-95c7-123141e7d2b4",
        "colab": {
          "base_uri": "https://localhost:8080/",
          "height": 269
        }
      },
      "source": [
        "#correlation matrix\n",
        "sns.heatmap(df.corr());"
      ],
      "execution_count": 103,
      "outputs": [
        {
          "output_type": "display_data",
          "data": {
            "image/png": "[encoded data removed]",
            "text/plain": [
              "<Figure size 432x288 with 2 Axes>"
            ]
          },
          "metadata": {
            "tags": [],
            "needs_background": "light"
          }
        }
      ]
    },
    {
      "cell_type": "code",
      "metadata": {
        "id": "0MyL4GUONfaZ",
        "colab_type": "code",
        "outputId": "ac0ea7c7-3ffc-4c4c-a70d-27fbd7434ef0",
        "colab": {
          "base_uri": "https://localhost:8080/",
          "height": 265
        }
      },
      "source": [
        "df.boxplot(column='age')\n",
        "plt.show()"
      ],
      "execution_count": 104,
      "outputs": [
        {
          "output_type": "display_data",
          "data": {
            "image/png": "[encoded data removed]",
            "text/plain": [
              "<Figure size 432x288 with 1 Axes>"
            ]
          },
          "metadata": {
            "tags": [],
            "needs_background": "light"
          }
        }
      ]
    },
    {
      "cell_type": "code",
      "metadata": {
        "id": "IR2CSvQtNh2t",
        "colab_type": "code",
        "outputId": "c4cb1a41-4b63-4729-a645-08dad93e9f10",
        "colab": {
          "base_uri": "https://localhost:8080/",
          "height": 265
        }
      },
      "source": [
        "df.boxplot(column='balance')\n",
        "plt.show()"
      ],
      "execution_count": 105,
      "outputs": [
        {
          "output_type": "display_data",
          "data": {
            "image/png": "[encoded data removed]",
            "text/plain": [
              "<Figure size 432x288 with 1 Axes>"
            ]
          },
          "metadata": {
            "tags": [],
            "needs_background": "light"
          }
        }
      ]
    },
    {
      "cell_type": "code",
      "metadata": {
        "id": "EUjZhWzzJNPJ",
        "colab_type": "code",
        "outputId": "c2de7f78-863f-4b0e-9900-2fbae69d3660",
        "colab": {
          "base_uri": "https://localhost:8080/",
          "height": 387
        }
      },
      "source": [
        "# note that by applying the method dropna() we drop all rows with missing values \n",
        "sns.pairplot(data=df[['age','balance']].dropna())\n",
        "plt.show()"
      ],
      "execution_count": 106,
      "outputs": [
        {
          "output_type": "display_data",
          "data": {
            "image/png": "[encoded data removed]",
            "text/plain": [
              "<Figure size 360x360 with 6 Axes>"
            ]
          },
          "metadata": {
            "tags": [],
            "needs_background": "light"
          }
        }
      ]
    },
    {
      "cell_type": "code",
      "metadata": {
        "id": "jB9KJxtsKRuF",
        "colab_type": "code",
        "outputId": "31cf5b3a-0eb6-4fb8-a90e-45050f03b73c",
        "colab": {
          "base_uri": "https://localhost:8080/",
          "height": 255
        }
      },
      "source": [
        "print(df['age'].count())\n",
        "print(df['age'].isnull().sum())\n",
        "print(df['age'].value_counts())"
      ],
      "execution_count": 107,
      "outputs": [
        {
          "output_type": "stream",
          "text": [
            "995\n",
            "5\n",
            "35.0    52\n",
            "32.0    46\n",
            "31.0    45\n",
            "37.0    44\n",
            "33.0    43\n",
            "        ..\n",
            "72.0     2\n",
            "75.0     1\n",
            "20.0     1\n",
            "79.0     1\n",
            "86.0     1\n",
            "Name: age, Length: 62, dtype: int64\n"
          ],
          "name": "stdout"
        }
      ]
    },
    {
      "cell_type": "code",
      "metadata": {
        "id": "IRvccNNCLIg1",
        "colab_type": "code",
        "outputId": "4dbc3526-2bb4-4dfb-c787-664525e571d3",
        "colab": {
          "base_uri": "https://localhost:8080/",
          "height": 255
        }
      },
      "source": [
        "print(df['job'].count())\n",
        "print(df['job'].isnull().sum())\n",
        "print(df['job'].value_counts())\n"
      ],
      "execution_count": 108,
      "outputs": [
        {
          "output_type": "stream",
          "text": [
            "996\n",
            "4\n",
            "management       211\n",
            "technician       166\n",
            "blue-collar      147\n",
            "admin.           136\n",
            "retired           89\n",
            "services          87\n",
            "student           47\n",
            "self-employed     39\n",
            "unemployed        32\n",
            "housemaid         23\n",
            "entrepreneur      19\n",
            "Name: job, dtype: int64\n"
          ],
          "name": "stdout"
        }
      ]
    },
    {
      "cell_type": "code",
      "metadata": {
        "id": "9TtfWzwFisQW",
        "colab_type": "code",
        "outputId": "b01cba0d-90b4-496a-f2d2-366be46ebba1",
        "colab": {
          "base_uri": "https://localhost:8080/",
          "height": 119
        }
      },
      "source": [
        "print(df['education'].count())\n",
        "print(df['education'].isnull().sum())\n",
        "print(df['education'].value_counts())"
      ],
      "execution_count": 109,
      "outputs": [
        {
          "output_type": "stream",
          "text": [
            "950\n",
            "50\n",
            "secondary    517\n",
            "tertiary     323\n",
            "primary      110\n",
            "Name: education, dtype: int64\n"
          ],
          "name": "stdout"
        }
      ]
    },
    {
      "cell_type": "code",
      "metadata": {
        "id": "K5G64XzrNzjp",
        "colab_type": "code",
        "outputId": "88d3343c-9ea6-4137-9dc6-c474384c5d1f",
        "colab": {
          "base_uri": "https://localhost:8080/",
          "height": 102
        }
      },
      "source": [
        "print(df['loan'].count())\n",
        "print(df['loan'].isnull().sum())\n",
        "print(df['loan'].value_counts())"
      ],
      "execution_count": 110,
      "outputs": [
        {
          "output_type": "stream",
          "text": [
            "1000\n",
            "0\n",
            "no     870\n",
            "yes    130\n",
            "Name: loan, dtype: int64\n"
          ],
          "name": "stdout"
        }
      ]
    },
    {
      "cell_type": "code",
      "metadata": {
        "id": "p406srNLN8HW",
        "colab_type": "code",
        "outputId": "01caf6d1-d989-4fad-b8df-e038b93d5f4c",
        "colab": {
          "base_uri": "https://localhost:8080/",
          "height": 102
        }
      },
      "source": [
        "print(df['contact'].count())\n",
        "print(df['contact'].isnull().sum())\n",
        "print(df['contact'].value_counts())"
      ],
      "execution_count": 111,
      "outputs": [
        {
          "output_type": "stream",
          "text": [
            "986\n",
            "14\n",
            "cellular     909\n",
            "telephone     77\n",
            "Name: contact, dtype: int64\n"
          ],
          "name": "stdout"
        }
      ]
    },
    {
      "cell_type": "code",
      "metadata": {
        "id": "O4YMch9beWUV",
        "colab_type": "code",
        "outputId": "83dc134e-ff83-4562-8aac-d4f13d2f28d2",
        "colab": {
          "base_uri": "https://localhost:8080/",
          "height": 102
        }
      },
      "source": [
        "print(df['subscribed'].count())\n",
        "print(df['subscribed'].isnull().sum())\n",
        "print(df['subscribed'].value_counts())"
      ],
      "execution_count": 112,
      "outputs": [
        {
          "output_type": "stream",
          "text": [
            "1000\n",
            "0\n",
            "no     500\n",
            "yes    500\n",
            "Name: subscribed, dtype: int64\n"
          ],
          "name": "stdout"
        }
      ]
    },
    {
      "cell_type": "code",
      "metadata": {
        "id": "i-Ddu7pAXeqR",
        "colab_type": "code",
        "outputId": "5da4644e-8746-4af6-b11d-7bd4a35d7329",
        "colab": {
          "base_uri": "https://localhost:8080/",
          "height": 282
        }
      },
      "source": [
        "df['balance'].hist(bins=50)"
      ],
      "execution_count": 113,
      "outputs": [
        {
          "output_type": "execute_result",
          "data": {
            "text/plain": [
              "<matplotlib.axes._subplots.AxesSubplot at 0x7f8cff60f4e0>"
            ]
          },
          "metadata": {
            "tags": []
          },
          "execution_count": 113
        },
        {
          "output_type": "display_data",
          "data": {
            "image/png": "[encoded data removed]",
            "text/plain": [
              "<Figure size 432x288 with 1 Axes>"
            ]
          },
          "metadata": {
            "tags": [],
            "needs_background": "light"
          }
        }
      ]
    },
    {
      "cell_type": "code",
      "metadata": {
        "id": "E_FdxLLLeqpS",
        "colab_type": "code",
        "colab": {}
      },
      "source": [
        ""
      ],
      "execution_count": 0,
      "outputs": []
    },
    {
      "cell_type": "markdown",
      "metadata": {
        "id": "oaiFN1EIkg9c",
        "colab_type": "text"
      },
      "source": [
        "## Mote pattern checks"
      ]
    },
    {
      "cell_type": "code",
      "metadata": {
        "id": "MXAUTEp1iI55",
        "colab_type": "code",
        "outputId": "b5c0eb9e-33e8-429e-d389-17033d90d72a",
        "colab": {
          "base_uri": "https://localhost:8080/",
          "height": 408
        }
      },
      "source": [
        "test = df.groupby(['job','loan'])\n",
        "test.size()"
      ],
      "execution_count": 114,
      "outputs": [
        {
          "output_type": "execute_result",
          "data": {
            "text/plain": [
              "job            loan\n",
              "admin.         no      114\n",
              "               yes      22\n",
              "blue-collar    no      123\n",
              "               yes      24\n",
              "entrepreneur   no       14\n",
              "               yes       5\n",
              "housemaid      no       22\n",
              "               yes       1\n",
              "management     no      188\n",
              "               yes      23\n",
              "retired        no       79\n",
              "               yes      10\n",
              "self-employed  no       36\n",
              "               yes       3\n",
              "services       no       72\n",
              "               yes      15\n",
              "student        no       47\n",
              "technician     no      143\n",
              "               yes      23\n",
              "unemployed     no       28\n",
              "               yes       4\n",
              "dtype: int64"
            ]
          },
          "metadata": {
            "tags": []
          },
          "execution_count": 114
        }
      ]
    },
    {
      "cell_type": "markdown",
      "metadata": {
        "id": "Vp2PCl_4jZE9",
        "colab_type": "text"
      },
      "source": [
        "sample set"
      ]
    },
    {
      "cell_type": "code",
      "metadata": {
        "id": "GAlZwYpGjbYP",
        "colab_type": "code",
        "outputId": "4d4f76f7-fb9e-49cb-8f98-21a0de6f853e",
        "colab": {
          "base_uri": "https://localhost:8080/",
          "height": 452
        }
      },
      "source": [
        "test = df.groupby(['job'])\n",
        "test.describe()"
      ],
      "execution_count": 115,
      "outputs": [
        {
          "output_type": "execute_result",
          "data": {
            "text/html": [
              "<div>\n",
              "<style scoped>\n",
              "    .dataframe tbody tr th:only-of-type {\n",
              "        vertical-align: middle;\n",
              "    }\n",
              "\n",
              "    .dataframe tbody tr th {\n",
              "        vertical-align: top;\n",
              "    }\n",
              "\n",
              "    .dataframe thead tr th {\n",
              "        text-align: left;\n",
              "    }\n",
              "\n",
              "    .dataframe thead tr:last-of-type th {\n",
              "        text-align: right;\n",
              "    }\n",
              "</style>\n",
              "<table border=\"1\" class=\"dataframe\">\n",
              "  <thead>\n",
              "    <tr>\n",
              "      <th></th>\n",
              "      <th colspan=\"8\" halign=\"left\">age</th>\n",
              "      <th colspan=\"8\" halign=\"left\">balance</th>\n",
              "    </tr>\n",
              "    <tr>\n",
              "      <th></th>\n",
              "      <th>count</th>\n",
              "      <th>mean</th>\n",
              "      <th>std</th>\n",
              "      <th>min</th>\n",
              "      <th>25%</th>\n",
              "      <th>50%</th>\n",
              "      <th>75%</th>\n",
              "      <th>max</th>\n",
              "      <th>count</th>\n",
              "      <th>mean</th>\n",
              "      <th>std</th>\n",
              "      <th>min</th>\n",
              "      <th>25%</th>\n",
              "      <th>50%</th>\n",
              "      <th>75%</th>\n",
              "      <th>max</th>\n",
              "    </tr>\n",
              "    <tr>\n",
              "      <th>job</th>\n",
              "      <th></th>\n",
              "      <th></th>\n",
              "      <th></th>\n",
              "      <th></th>\n",
              "      <th></th>\n",
              "      <th></th>\n",
              "      <th></th>\n",
              "      <th></th>\n",
              "      <th></th>\n",
              "      <th></th>\n",
              "      <th></th>\n",
              "      <th></th>\n",
              "      <th></th>\n",
              "      <th></th>\n",
              "      <th></th>\n",
              "      <th></th>\n",
              "    </tr>\n",
              "  </thead>\n",
              "  <tbody>\n",
              "    <tr>\n",
              "      <th>admin.</th>\n",
              "      <td>136.0</td>\n",
              "      <td>40.727941</td>\n",
              "      <td>9.556434</td>\n",
              "      <td>24.0</td>\n",
              "      <td>33.75</td>\n",
              "      <td>39.0</td>\n",
              "      <td>47.00</td>\n",
              "      <td>66.0</td>\n",
              "      <td>136.0</td>\n",
              "      <td>1358.852941</td>\n",
              "      <td>2249.660845</td>\n",
              "      <td>-498.0</td>\n",
              "      <td>172.75</td>\n",
              "      <td>477.0</td>\n",
              "      <td>1573.25</td>\n",
              "      <td>14968.0</td>\n",
              "    </tr>\n",
              "    <tr>\n",
              "      <th>blue-collar</th>\n",
              "      <td>146.0</td>\n",
              "      <td>40.061644</td>\n",
              "      <td>9.424270</td>\n",
              "      <td>25.0</td>\n",
              "      <td>33.00</td>\n",
              "      <td>39.0</td>\n",
              "      <td>47.00</td>\n",
              "      <td>63.0</td>\n",
              "      <td>147.0</td>\n",
              "      <td>793.360544</td>\n",
              "      <td>1470.797668</td>\n",
              "      <td>-535.0</td>\n",
              "      <td>155.00</td>\n",
              "      <td>398.0</td>\n",
              "      <td>979.50</td>\n",
              "      <td>15341.0</td>\n",
              "    </tr>\n",
              "    <tr>\n",
              "      <th>entrepreneur</th>\n",
              "      <td>19.0</td>\n",
              "      <td>43.894737</td>\n",
              "      <td>12.529497</td>\n",
              "      <td>21.0</td>\n",
              "      <td>35.00</td>\n",
              "      <td>45.0</td>\n",
              "      <td>53.00</td>\n",
              "      <td>65.0</td>\n",
              "      <td>19.0</td>\n",
              "      <td>1209.210526</td>\n",
              "      <td>1573.299067</td>\n",
              "      <td>0.0</td>\n",
              "      <td>160.50</td>\n",
              "      <td>351.0</td>\n",
              "      <td>1923.50</td>\n",
              "      <td>5838.0</td>\n",
              "    </tr>\n",
              "    <tr>\n",
              "      <th>housemaid</th>\n",
              "      <td>23.0</td>\n",
              "      <td>48.913043</td>\n",
              "      <td>14.681197</td>\n",
              "      <td>22.0</td>\n",
              "      <td>37.50</td>\n",
              "      <td>50.0</td>\n",
              "      <td>58.00</td>\n",
              "      <td>82.0</td>\n",
              "      <td>23.0</td>\n",
              "      <td>1774.434783</td>\n",
              "      <td>2839.271783</td>\n",
              "      <td>-184.0</td>\n",
              "      <td>139.00</td>\n",
              "      <td>976.0</td>\n",
              "      <td>2071.50</td>\n",
              "      <td>12939.0</td>\n",
              "    </tr>\n",
              "    <tr>\n",
              "      <th>management</th>\n",
              "      <td>211.0</td>\n",
              "      <td>40.113744</td>\n",
              "      <td>9.242055</td>\n",
              "      <td>23.0</td>\n",
              "      <td>33.00</td>\n",
              "      <td>37.0</td>\n",
              "      <td>46.00</td>\n",
              "      <td>63.0</td>\n",
              "      <td>211.0</td>\n",
              "      <td>2067.796209</td>\n",
              "      <td>4113.008945</td>\n",
              "      <td>-980.0</td>\n",
              "      <td>296.50</td>\n",
              "      <td>715.0</td>\n",
              "      <td>2336.00</td>\n",
              "      <td>31472.0</td>\n",
              "    </tr>\n",
              "    <tr>\n",
              "      <th>retired</th>\n",
              "      <td>88.0</td>\n",
              "      <td>65.818182</td>\n",
              "      <td>9.218354</td>\n",
              "      <td>40.0</td>\n",
              "      <td>60.00</td>\n",
              "      <td>64.0</td>\n",
              "      <td>71.00</td>\n",
              "      <td>93.0</td>\n",
              "      <td>89.0</td>\n",
              "      <td>2358.842697</td>\n",
              "      <td>4582.244197</td>\n",
              "      <td>-464.0</td>\n",
              "      <td>407.00</td>\n",
              "      <td>1044.0</td>\n",
              "      <td>2590.00</td>\n",
              "      <td>29340.0</td>\n",
              "    </tr>\n",
              "    <tr>\n",
              "      <th>self-employed</th>\n",
              "      <td>37.0</td>\n",
              "      <td>39.378378</td>\n",
              "      <td>10.889218</td>\n",
              "      <td>22.0</td>\n",
              "      <td>31.00</td>\n",
              "      <td>36.0</td>\n",
              "      <td>47.00</td>\n",
              "      <td>64.0</td>\n",
              "      <td>39.0</td>\n",
              "      <td>1163.923077</td>\n",
              "      <td>1859.146018</td>\n",
              "      <td>-80.0</td>\n",
              "      <td>306.00</td>\n",
              "      <td>655.0</td>\n",
              "      <td>1219.00</td>\n",
              "      <td>10861.0</td>\n",
              "    </tr>\n",
              "    <tr>\n",
              "      <th>services</th>\n",
              "      <td>87.0</td>\n",
              "      <td>38.218391</td>\n",
              "      <td>9.304194</td>\n",
              "      <td>23.0</td>\n",
              "      <td>31.00</td>\n",
              "      <td>36.0</td>\n",
              "      <td>45.00</td>\n",
              "      <td>60.0</td>\n",
              "      <td>87.0</td>\n",
              "      <td>1077.620690</td>\n",
              "      <td>1820.917666</td>\n",
              "      <td>-212.0</td>\n",
              "      <td>235.00</td>\n",
              "      <td>443.0</td>\n",
              "      <td>1012.00</td>\n",
              "      <td>11650.0</td>\n",
              "    </tr>\n",
              "    <tr>\n",
              "      <th>student</th>\n",
              "      <td>46.0</td>\n",
              "      <td>26.108696</td>\n",
              "      <td>4.443363</td>\n",
              "      <td>19.0</td>\n",
              "      <td>23.00</td>\n",
              "      <td>26.0</td>\n",
              "      <td>29.00</td>\n",
              "      <td>38.0</td>\n",
              "      <td>47.0</td>\n",
              "      <td>1172.404255</td>\n",
              "      <td>1200.275469</td>\n",
              "      <td>39.0</td>\n",
              "      <td>259.00</td>\n",
              "      <td>922.0</td>\n",
              "      <td>1794.00</td>\n",
              "      <td>6036.0</td>\n",
              "    </tr>\n",
              "    <tr>\n",
              "      <th>technician</th>\n",
              "      <td>166.0</td>\n",
              "      <td>40.819277</td>\n",
              "      <td>10.090673</td>\n",
              "      <td>22.0</td>\n",
              "      <td>33.00</td>\n",
              "      <td>38.0</td>\n",
              "      <td>47.00</td>\n",
              "      <td>71.0</td>\n",
              "      <td>166.0</td>\n",
              "      <td>1128.012048</td>\n",
              "      <td>1677.715561</td>\n",
              "      <td>-421.0</td>\n",
              "      <td>202.50</td>\n",
              "      <td>487.5</td>\n",
              "      <td>1309.75</td>\n",
              "      <td>10600.0</td>\n",
              "    </tr>\n",
              "    <tr>\n",
              "      <th>unemployed</th>\n",
              "      <td>32.0</td>\n",
              "      <td>40.437500</td>\n",
              "      <td>9.668497</td>\n",
              "      <td>22.0</td>\n",
              "      <td>35.00</td>\n",
              "      <td>39.5</td>\n",
              "      <td>44.25</td>\n",
              "      <td>60.0</td>\n",
              "      <td>32.0</td>\n",
              "      <td>1209.937500</td>\n",
              "      <td>1690.117231</td>\n",
              "      <td>0.0</td>\n",
              "      <td>292.00</td>\n",
              "      <td>694.0</td>\n",
              "      <td>1320.75</td>\n",
              "      <td>7005.0</td>\n",
              "    </tr>\n",
              "  </tbody>\n",
              "</table>\n",
              "</div>"
            ],
            "text/plain": [
              "                 age                        ... balance                  \n",
              "               count       mean        std  ...     50%      75%      max\n",
              "job                                         ...                          \n",
              "admin.         136.0  40.727941   9.556434  ...   477.0  1573.25  14968.0\n",
              "blue-collar    146.0  40.061644   9.424270  ...   398.0   979.50  15341.0\n",
              "entrepreneur    19.0  43.894737  12.529497  ...   351.0  1923.50   5838.0\n",
              "housemaid       23.0  48.913043  14.681197  ...   976.0  2071.50  12939.0\n",
              "management     211.0  40.113744   9.242055  ...   715.0  2336.00  31472.0\n",
              "retired         88.0  65.818182   9.218354  ...  1044.0  2590.00  29340.0\n",
              "self-employed   37.0  39.378378  10.889218  ...   655.0  1219.00  10861.0\n",
              "services        87.0  38.218391   9.304194  ...   443.0  1012.00  11650.0\n",
              "student         46.0  26.108696   4.443363  ...   922.0  1794.00   6036.0\n",
              "technician     166.0  40.819277  10.090673  ...   487.5  1309.75  10600.0\n",
              "unemployed      32.0  40.437500   9.668497  ...   694.0  1320.75   7005.0\n",
              "\n",
              "[11 rows x 16 columns]"
            ]
          },
          "metadata": {
            "tags": []
          },
          "execution_count": 115
        }
      ]
    },
    {
      "cell_type": "code",
      "metadata": {
        "id": "PajtRp91o8G8",
        "colab_type": "code",
        "outputId": "b9a90323-7e31-4675-ddd6-25033e9009d3",
        "colab": {
          "base_uri": "https://localhost:8080/",
          "height": 204
        }
      },
      "source": [
        "test = df.groupby(['education'])\n",
        "test.describe()"
      ],
      "execution_count": 116,
      "outputs": [
        {
          "output_type": "execute_result",
          "data": {
            "text/html": [
              "<div>\n",
              "<style scoped>\n",
              "    .dataframe tbody tr th:only-of-type {\n",
              "        vertical-align: middle;\n",
              "    }\n",
              "\n",
              "    .dataframe tbody tr th {\n",
              "        vertical-align: top;\n",
              "    }\n",
              "\n",
              "    .dataframe thead tr th {\n",
              "        text-align: left;\n",
              "    }\n",
              "\n",
              "    .dataframe thead tr:last-of-type th {\n",
              "        text-align: right;\n",
              "    }\n",
              "</style>\n",
              "<table border=\"1\" class=\"dataframe\">\n",
              "  <thead>\n",
              "    <tr>\n",
              "      <th></th>\n",
              "      <th colspan=\"8\" halign=\"left\">age</th>\n",
              "      <th colspan=\"8\" halign=\"left\">balance</th>\n",
              "    </tr>\n",
              "    <tr>\n",
              "      <th></th>\n",
              "      <th>count</th>\n",
              "      <th>mean</th>\n",
              "      <th>std</th>\n",
              "      <th>min</th>\n",
              "      <th>25%</th>\n",
              "      <th>50%</th>\n",
              "      <th>75%</th>\n",
              "      <th>max</th>\n",
              "      <th>count</th>\n",
              "      <th>mean</th>\n",
              "      <th>std</th>\n",
              "      <th>min</th>\n",
              "      <th>25%</th>\n",
              "      <th>50%</th>\n",
              "      <th>75%</th>\n",
              "      <th>max</th>\n",
              "    </tr>\n",
              "    <tr>\n",
              "      <th>education</th>\n",
              "      <th></th>\n",
              "      <th></th>\n",
              "      <th></th>\n",
              "      <th></th>\n",
              "      <th></th>\n",
              "      <th></th>\n",
              "      <th></th>\n",
              "      <th></th>\n",
              "      <th></th>\n",
              "      <th></th>\n",
              "      <th></th>\n",
              "      <th></th>\n",
              "      <th></th>\n",
              "      <th></th>\n",
              "      <th></th>\n",
              "      <th></th>\n",
              "    </tr>\n",
              "  </thead>\n",
              "  <tbody>\n",
              "    <tr>\n",
              "      <th>primary</th>\n",
              "      <td>109.0</td>\n",
              "      <td>52.266055</td>\n",
              "      <td>14.893848</td>\n",
              "      <td>22.0</td>\n",
              "      <td>41.0</td>\n",
              "      <td>53.0</td>\n",
              "      <td>62.0</td>\n",
              "      <td>86.0</td>\n",
              "      <td>110.0</td>\n",
              "      <td>1590.027273</td>\n",
              "      <td>4130.949848</td>\n",
              "      <td>-464.0</td>\n",
              "      <td>158.0</td>\n",
              "      <td>450.0</td>\n",
              "      <td>1647.5</td>\n",
              "      <td>29340.0</td>\n",
              "    </tr>\n",
              "    <tr>\n",
              "      <th>secondary</th>\n",
              "      <td>516.0</td>\n",
              "      <td>41.571705</td>\n",
              "      <td>11.768837</td>\n",
              "      <td>19.0</td>\n",
              "      <td>33.0</td>\n",
              "      <td>39.0</td>\n",
              "      <td>49.0</td>\n",
              "      <td>80.0</td>\n",
              "      <td>517.0</td>\n",
              "      <td>1206.893617</td>\n",
              "      <td>1930.377558</td>\n",
              "      <td>-535.0</td>\n",
              "      <td>226.0</td>\n",
              "      <td>523.0</td>\n",
              "      <td>1435.0</td>\n",
              "      <td>15341.0</td>\n",
              "    </tr>\n",
              "    <tr>\n",
              "      <th>tertiary</th>\n",
              "      <td>320.0</td>\n",
              "      <td>39.159375</td>\n",
              "      <td>10.287843</td>\n",
              "      <td>21.0</td>\n",
              "      <td>32.0</td>\n",
              "      <td>36.0</td>\n",
              "      <td>45.0</td>\n",
              "      <td>74.0</td>\n",
              "      <td>323.0</td>\n",
              "      <td>1769.399381</td>\n",
              "      <td>3480.767174</td>\n",
              "      <td>-980.0</td>\n",
              "      <td>232.5</td>\n",
              "      <td>635.0</td>\n",
              "      <td>2138.5</td>\n",
              "      <td>31472.0</td>\n",
              "    </tr>\n",
              "  </tbody>\n",
              "</table>\n",
              "</div>"
            ],
            "text/plain": [
              "             age                              ... balance                        \n",
              "           count       mean        std   min  ...     25%    50%     75%      max\n",
              "education                                     ...                                \n",
              "primary    109.0  52.266055  14.893848  22.0  ...   158.0  450.0  1647.5  29340.0\n",
              "secondary  516.0  41.571705  11.768837  19.0  ...   226.0  523.0  1435.0  15341.0\n",
              "tertiary   320.0  39.159375  10.287843  21.0  ...   232.5  635.0  2138.5  31472.0\n",
              "\n",
              "[3 rows x 16 columns]"
            ]
          },
          "metadata": {
            "tags": []
          },
          "execution_count": 116
        }
      ]
    },
    {
      "cell_type": "code",
      "metadata": {
        "id": "HkDJji7Gp2va",
        "colab_type": "code",
        "outputId": "c8d624e2-f569-4ceb-aaa4-dfa052c2bfac",
        "colab": {
          "base_uri": "https://localhost:8080/",
          "height": 173
        }
      },
      "source": [
        "test = df.groupby(['subscribed'])\n",
        "test.describe()"
      ],
      "execution_count": 117,
      "outputs": [
        {
          "output_type": "execute_result",
          "data": {
            "text/html": [
              "<div>\n",
              "<style scoped>\n",
              "    .dataframe tbody tr th:only-of-type {\n",
              "        vertical-align: middle;\n",
              "    }\n",
              "\n",
              "    .dataframe tbody tr th {\n",
              "        vertical-align: top;\n",
              "    }\n",
              "\n",
              "    .dataframe thead tr th {\n",
              "        text-align: left;\n",
              "    }\n",
              "\n",
              "    .dataframe thead tr:last-of-type th {\n",
              "        text-align: right;\n",
              "    }\n",
              "</style>\n",
              "<table border=\"1\" class=\"dataframe\">\n",
              "  <thead>\n",
              "    <tr>\n",
              "      <th></th>\n",
              "      <th colspan=\"8\" halign=\"left\">age</th>\n",
              "      <th colspan=\"8\" halign=\"left\">balance</th>\n",
              "    </tr>\n",
              "    <tr>\n",
              "      <th></th>\n",
              "      <th>count</th>\n",
              "      <th>mean</th>\n",
              "      <th>std</th>\n",
              "      <th>min</th>\n",
              "      <th>25%</th>\n",
              "      <th>50%</th>\n",
              "      <th>75%</th>\n",
              "      <th>max</th>\n",
              "      <th>count</th>\n",
              "      <th>mean</th>\n",
              "      <th>std</th>\n",
              "      <th>min</th>\n",
              "      <th>25%</th>\n",
              "      <th>50%</th>\n",
              "      <th>75%</th>\n",
              "      <th>max</th>\n",
              "    </tr>\n",
              "    <tr>\n",
              "      <th>subscribed</th>\n",
              "      <th></th>\n",
              "      <th></th>\n",
              "      <th></th>\n",
              "      <th></th>\n",
              "      <th></th>\n",
              "      <th></th>\n",
              "      <th></th>\n",
              "      <th></th>\n",
              "      <th></th>\n",
              "      <th></th>\n",
              "      <th></th>\n",
              "      <th></th>\n",
              "      <th></th>\n",
              "      <th></th>\n",
              "      <th></th>\n",
              "      <th></th>\n",
              "    </tr>\n",
              "  </thead>\n",
              "  <tbody>\n",
              "    <tr>\n",
              "      <th>no</th>\n",
              "      <td>498.0</td>\n",
              "      <td>41.012048</td>\n",
              "      <td>9.109211</td>\n",
              "      <td>22.0</td>\n",
              "      <td>33.0</td>\n",
              "      <td>39.0</td>\n",
              "      <td>48.0</td>\n",
              "      <td>64.0</td>\n",
              "      <td>500.0</td>\n",
              "      <td>1037.776</td>\n",
              "      <td>2322.416444</td>\n",
              "      <td>-980.0</td>\n",
              "      <td>144.00</td>\n",
              "      <td>405.5</td>\n",
              "      <td>919.25</td>\n",
              "      <td>26306.0</td>\n",
              "    </tr>\n",
              "    <tr>\n",
              "      <th>yes</th>\n",
              "      <td>497.0</td>\n",
              "      <td>43.108652</td>\n",
              "      <td>15.183829</td>\n",
              "      <td>19.0</td>\n",
              "      <td>31.0</td>\n",
              "      <td>38.0</td>\n",
              "      <td>55.0</td>\n",
              "      <td>93.0</td>\n",
              "      <td>500.0</td>\n",
              "      <td>1837.250</td>\n",
              "      <td>3187.056719</td>\n",
              "      <td>-46.0</td>\n",
              "      <td>322.75</td>\n",
              "      <td>930.5</td>\n",
              "      <td>2325.25</td>\n",
              "      <td>31472.0</td>\n",
              "    </tr>\n",
              "  </tbody>\n",
              "</table>\n",
              "</div>"
            ],
            "text/plain": [
              "              age                              ... balance                         \n",
              "            count       mean        std   min  ...     25%    50%      75%      max\n",
              "subscribed                                     ...                                 \n",
              "no          498.0  41.012048   9.109211  22.0  ...  144.00  405.5   919.25  26306.0\n",
              "yes         497.0  43.108652  15.183829  19.0  ...  322.75  930.5  2325.25  31472.0\n",
              "\n",
              "[2 rows x 16 columns]"
            ]
          },
          "metadata": {
            "tags": []
          },
          "execution_count": 117
        }
      ]
    },
    {
      "cell_type": "code",
      "metadata": {
        "id": "YJxBU763quXH",
        "colab_type": "code",
        "colab": {}
      },
      "source": [
        "#s1=pd.Series(df.education)\n",
        "#s2=pd.Series(df.balance)\n",
        "#s1.corr(s2,method=pearson)"
      ],
      "execution_count": 0,
      "outputs": []
    },
    {
      "cell_type": "code",
      "metadata": {
        "id": "8rbRa12X-ZOW",
        "colab_type": "code",
        "colab": {
          "base_uri": "https://localhost:8080/",
          "height": 282
        },
        "outputId": "950ed706-6ba4-4cee-ed63-3204ceb9c530"
      },
      "source": [
        "df['age_squareroot']=np.sqrt((df['age']))\n",
        "df['age_squareroot'].hist(bins=20)"
      ],
      "execution_count": 119,
      "outputs": [
        {
          "output_type": "execute_result",
          "data": {
            "text/plain": [
              "<matplotlib.axes._subplots.AxesSubplot at 0x7f8d001da358>"
            ]
          },
          "metadata": {
            "tags": []
          },
          "execution_count": 119
        },
        {
          "output_type": "display_data",
          "data": {
            "image/png": "[encoded data removed]",
            "text/plain": [
              "<Figure size 432x288 with 1 Axes>"
            ]
          },
          "metadata": {
            "tags": [],
            "needs_background": "light"
          }
        }
      ]
    },
    {
      "cell_type": "code",
      "metadata": {
        "id": "X5T9a3JN-wvb",
        "colab_type": "code",
        "colab": {
          "base_uri": "https://localhost:8080/",
          "height": 285
        },
        "outputId": "63955b86-1af0-4afd-dac5-fa7f2f62a177"
      },
      "source": [
        "df['age_croot']=np.power((df['age']),1/3)\n",
        "df['age_croot'].hist(bins=20)"
      ],
      "execution_count": 120,
      "outputs": [
        {
          "output_type": "execute_result",
          "data": {
            "text/plain": [
              "<matplotlib.axes._subplots.AxesSubplot at 0x7f8cff5bb438>"
            ]
          },
          "metadata": {
            "tags": []
          },
          "execution_count": 120
        },
        {
          "output_type": "display_data",
          "data": {
            "image/png": "[encoded data removed]",
            "text/plain": [
              "<Figure size 432x288 with 1 Axes>"
            ]
          },
          "metadata": {
            "tags": [],
            "needs_background": "light"
          }
        }
      ]
    },
    {
      "cell_type": "code",
      "metadata": {
        "id": "CM2iFg1M_NrW",
        "colab_type": "code",
        "colab": {
          "base_uri": "https://localhost:8080/",
          "height": 285
        },
        "outputId": "377ab138-00de-4261-a118-5f64067a80cd"
      },
      "source": [
        "df['age_log']=np.log((df['age']))\n",
        "df['age_log'].hist(bins=20)"
      ],
      "execution_count": 121,
      "outputs": [
        {
          "output_type": "execute_result",
          "data": {
            "text/plain": [
              "<matplotlib.axes._subplots.AxesSubplot at 0x7f8cffbd74e0>"
            ]
          },
          "metadata": {
            "tags": []
          },
          "execution_count": 121
        },
        {
          "output_type": "display_data",
          "data": {
            "image/png": "[encoded data removed]",
            "text/plain": [
              "<Figure size 432x288 with 1 Axes>"
            ]
          },
          "metadata": {
            "tags": [],
            "needs_background": "light"
          }
        }
      ]
    },
    {
      "cell_type": "code",
      "metadata": {
        "id": "GJ0WxGXF_uVe",
        "colab_type": "code",
        "colab": {
          "base_uri": "https://localhost:8080/",
          "height": 282
        },
        "outputId": "37906364-0027-4904-c068-b820a72e5ca7"
      },
      "source": [
        "df['age_croot']=np.reciprocal((df['age']))\n",
        "df['age_croot'].hist(bins=20)"
      ],
      "execution_count": 122,
      "outputs": [
        {
          "output_type": "execute_result",
          "data": {
            "text/plain": [
              "<matplotlib.axes._subplots.AxesSubplot at 0x7f8cffaa64a8>"
            ]
          },
          "metadata": {
            "tags": []
          },
          "execution_count": 122
        },
        {
          "output_type": "display_data",
          "data": {
            "image/png": "[encoded data removed]",
            "text/plain": [
              "<Figure size 432x288 with 1 Axes>"
            ]
          },
          "metadata": {
            "tags": [],
            "needs_background": "light"
          }
        }
      ]
    },
    {
      "cell_type": "code",
      "metadata": {
        "id": "f3_QyE_iGCQi",
        "colab_type": "code",
        "colab": {
          "base_uri": "https://localhost:8080/",
          "height": 153
        },
        "outputId": "a537a49f-fb3b-44e0-aede-b762c39dfc94"
      },
      "source": [
        "test = df.groupby(['education','subscribed'])\n",
        "test.size()"
      ],
      "execution_count": 123,
      "outputs": [
        {
          "output_type": "execute_result",
          "data": {
            "text/plain": [
              "education  subscribed\n",
              "primary    no             69\n",
              "           yes            41\n",
              "secondary  no            291\n",
              "           yes           226\n",
              "tertiary   no            125\n",
              "           yes           198\n",
              "dtype: int64"
            ]
          },
          "metadata": {
            "tags": []
          },
          "execution_count": 123
        }
      ]
    },
    {
      "cell_type": "code",
      "metadata": {
        "id": "XxgIkdvbIoAv",
        "colab_type": "code",
        "colab": {
          "base_uri": "https://localhost:8080/",
          "height": 297
        },
        "outputId": "27b2c443-f1d6-49fa-fb17-df0b815c272b"
      },
      "source": [
        "dfloan = df.loc[df.loan=='no']\n",
        "dfloan.describe()"
      ],
      "execution_count": 128,
      "outputs": [
        {
          "output_type": "execute_result",
          "data": {
            "text/html": [
              "<div>\n",
              "<style scoped>\n",
              "    .dataframe tbody tr th:only-of-type {\n",
              "        vertical-align: middle;\n",
              "    }\n",
              "\n",
              "    .dataframe tbody tr th {\n",
              "        vertical-align: top;\n",
              "    }\n",
              "\n",
              "    .dataframe thead th {\n",
              "        text-align: right;\n",
              "    }\n",
              "</style>\n",
              "<table border=\"1\" class=\"dataframe\">\n",
              "  <thead>\n",
              "    <tr style=\"text-align: right;\">\n",
              "      <th></th>\n",
              "      <th>age</th>\n",
              "      <th>balance</th>\n",
              "      <th>age_squareroot</th>\n",
              "      <th>age_croot</th>\n",
              "      <th>age_log</th>\n",
              "    </tr>\n",
              "  </thead>\n",
              "  <tbody>\n",
              "    <tr>\n",
              "      <th>count</th>\n",
              "      <td>866.000000</td>\n",
              "      <td>870.000000</td>\n",
              "      <td>866.000000</td>\n",
              "      <td>866.000000</td>\n",
              "      <td>866.000000</td>\n",
              "    </tr>\n",
              "    <tr>\n",
              "      <th>mean</th>\n",
              "      <td>41.956120</td>\n",
              "      <td>1529.965517</td>\n",
              "      <td>6.405943</td>\n",
              "      <td>0.025977</td>\n",
              "      <td>3.692640</td>\n",
              "    </tr>\n",
              "    <tr>\n",
              "      <th>std</th>\n",
              "      <td>12.855009</td>\n",
              "      <td>2947.147892</td>\n",
              "      <td>0.959730</td>\n",
              "      <td>0.007460</td>\n",
              "      <td>0.294033</td>\n",
              "    </tr>\n",
              "    <tr>\n",
              "      <th>min</th>\n",
              "      <td>19.000000</td>\n",
              "      <td>-980.000000</td>\n",
              "      <td>4.358899</td>\n",
              "      <td>0.010753</td>\n",
              "      <td>2.944439</td>\n",
              "    </tr>\n",
              "    <tr>\n",
              "      <th>25%</th>\n",
              "      <td>32.000000</td>\n",
              "      <td>243.000000</td>\n",
              "      <td>5.656854</td>\n",
              "      <td>0.020102</td>\n",
              "      <td>3.465736</td>\n",
              "    </tr>\n",
              "    <tr>\n",
              "      <th>50%</th>\n",
              "      <td>38.000000</td>\n",
              "      <td>620.500000</td>\n",
              "      <td>6.164414</td>\n",
              "      <td>0.026316</td>\n",
              "      <td>3.637586</td>\n",
              "    </tr>\n",
              "    <tr>\n",
              "      <th>75%</th>\n",
              "      <td>49.750000</td>\n",
              "      <td>1796.000000</td>\n",
              "      <td>7.053301</td>\n",
              "      <td>0.031250</td>\n",
              "      <td>3.906972</td>\n",
              "    </tr>\n",
              "    <tr>\n",
              "      <th>max</th>\n",
              "      <td>93.000000</td>\n",
              "      <td>31472.000000</td>\n",
              "      <td>9.643651</td>\n",
              "      <td>0.052632</td>\n",
              "      <td>4.532599</td>\n",
              "    </tr>\n",
              "  </tbody>\n",
              "</table>\n",
              "</div>"
            ],
            "text/plain": [
              "              age       balance  age_squareroot   age_croot     age_log\n",
              "count  866.000000    870.000000      866.000000  866.000000  866.000000\n",
              "mean    41.956120   1529.965517        6.405943    0.025977    3.692640\n",
              "std     12.855009   2947.147892        0.959730    0.007460    0.294033\n",
              "min     19.000000   -980.000000        4.358899    0.010753    2.944439\n",
              "25%     32.000000    243.000000        5.656854    0.020102    3.465736\n",
              "50%     38.000000    620.500000        6.164414    0.026316    3.637586\n",
              "75%     49.750000   1796.000000        7.053301    0.031250    3.906972\n",
              "max     93.000000  31472.000000        9.643651    0.052632    4.532599"
            ]
          },
          "metadata": {
            "tags": []
          },
          "execution_count": 128
        }
      ]
    },
    {
      "cell_type": "code",
      "metadata": {
        "id": "-jKLpcRQJFcW",
        "colab_type": "code",
        "colab": {
          "base_uri": "https://localhost:8080/",
          "height": 265
        },
        "outputId": "1fe40a59-8f44-4b74-9d62-b3a18ed369a4"
      },
      "source": [
        "dfloan.boxplot(column='age')\n",
        "plt.show()"
      ],
      "execution_count": 125,
      "outputs": [
        {
          "output_type": "display_data",
          "data": {
            "image/png": "[encoded data removed]",
            "text/plain": [
              "<Figure size 432x288 with 1 Axes>"
            ]
          },
          "metadata": {
            "tags": [],
            "needs_background": "light"
          }
        }
      ]
    }
  ]
}