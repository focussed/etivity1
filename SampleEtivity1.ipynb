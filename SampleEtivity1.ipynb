{
  "nbformat": 4,
  "nbformat_minor": 0,
  "metadata": {
    "kernelspec": {
      "display_name": "Python 3",
      "language": "python",
      "name": "python3"
    },
    "language_info": {
      "codemirror_mode": {
        "name": "ipython",
        "version": 3
      },
      "file_extension": ".py",
      "mimetype": "text/x-python",
      "name": "python",
      "nbconvert_exporter": "python",
      "pygments_lexer": "ipython3",
      "version": "3.7.4"
    },
    "colab": {
      "name": "Etivity1.ipynb",
      "provenance": [],
      "include_colab_link": true
    }
  },
  "cells": [
    {
      "cell_type": "markdown",
      "metadata": {
        "id": "view-in-github",
        "colab_type": "text"
      },
      "source": [
        "<a href=\"https://colab.research.google.com/github/focussed/etivity1/blob/master/SampleEtivity1.ipynb\" target=\"_parent\"><img src=\"https://colab.research.google.com/assets/colab-badge.svg\" alt=\"Open In Colab\"/></a>"
      ]
    },
    {
      "cell_type": "markdown",
      "metadata": {
        "id": "l_PKmOvbisPb",
        "colab_type": "text"
      },
      "source": [
        "# Query to solve\n",
        "What type of profile of customer has taken out a loan?\n",
        "and secondly, where customers who took out a loan more likely to have a poutcome of success?"
      ]
    },
    {
      "cell_type": "code",
      "metadata": {
        "id": "ry1OUf2NisO2",
        "colab_type": "code",
        "colab": {}
      },
      "source": [
        "# The Python modules uses in this tutorial are:\n",
        "\n",
        "# - Pandas\n",
        "# - Numpy\n",
        "# - Matplotlib\n",
        "# - Seaborn\n",
        "\n",
        "import pandas as pd\n",
        "import numpy as np\n",
        "import matplotlib.pyplot as plt\n",
        "import seaborn as sns\n",
        "\n",
        "sort=True\n",
        "\n",
        "url_train = 'https://raw.githubusercontent.com/focussed/etivity1/master/bank_test_play.csv'\n",
        "df = pd.read_csv(url_train)"
      ],
      "execution_count": 0,
      "outputs": []
    },
    {
      "cell_type": "markdown",
      "metadata": {
        "id": "3ofrtYw0NQCO",
        "colab_type": "text"
      },
      "source": [
        "First, lets look at some of the data's general characteristics"
      ]
    },
    {
      "cell_type": "code",
      "metadata": {
        "id": "TQDnHeBeDMfP",
        "colab_type": "code",
        "outputId": "d05291a0-eb8b-4f30-facb-beca4a3b3010",
        "colab": {
          "base_uri": "https://localhost:8080/",
          "height": 204
        }
      },
      "source": [
        "df.head()"
      ],
      "execution_count": 43,
      "outputs": [
        {
          "output_type": "execute_result",
          "data": {
            "text/html": [
              "<div>\n",
              "<style scoped>\n",
              "    .dataframe tbody tr th:only-of-type {\n",
              "        vertical-align: middle;\n",
              "    }\n",
              "\n",
              "    .dataframe tbody tr th {\n",
              "        vertical-align: top;\n",
              "    }\n",
              "\n",
              "    .dataframe thead th {\n",
              "        text-align: right;\n",
              "    }\n",
              "</style>\n",
              "<table border=\"1\" class=\"dataframe\">\n",
              "  <thead>\n",
              "    <tr style=\"text-align: right;\">\n",
              "      <th></th>\n",
              "      <th>age</th>\n",
              "      <th>job</th>\n",
              "      <th>education</th>\n",
              "      <th>balance</th>\n",
              "      <th>loan</th>\n",
              "      <th>contact</th>\n",
              "      <th>subscribed</th>\n",
              "    </tr>\n",
              "  </thead>\n",
              "  <tbody>\n",
              "    <tr>\n",
              "      <th>0</th>\n",
              "      <td>32.0</td>\n",
              "      <td>technician</td>\n",
              "      <td>tertiary</td>\n",
              "      <td>392</td>\n",
              "      <td>no</td>\n",
              "      <td>cellular</td>\n",
              "      <td>no</td>\n",
              "    </tr>\n",
              "    <tr>\n",
              "      <th>1</th>\n",
              "      <td>39.0</td>\n",
              "      <td>technician</td>\n",
              "      <td>secondary</td>\n",
              "      <td>688</td>\n",
              "      <td>yes</td>\n",
              "      <td>cellular</td>\n",
              "      <td>no</td>\n",
              "    </tr>\n",
              "    <tr>\n",
              "      <th>2</th>\n",
              "      <td>59.0</td>\n",
              "      <td>retired</td>\n",
              "      <td>secondary</td>\n",
              "      <td>1035</td>\n",
              "      <td>yes</td>\n",
              "      <td>cellular</td>\n",
              "      <td>no</td>\n",
              "    </tr>\n",
              "    <tr>\n",
              "      <th>3</th>\n",
              "      <td>47.0</td>\n",
              "      <td>blue-collar</td>\n",
              "      <td>secondary</td>\n",
              "      <td>398</td>\n",
              "      <td>yes</td>\n",
              "      <td>cellular</td>\n",
              "      <td>no</td>\n",
              "    </tr>\n",
              "    <tr>\n",
              "      <th>4</th>\n",
              "      <td>54.0</td>\n",
              "      <td>retired</td>\n",
              "      <td>secondary</td>\n",
              "      <td>1004</td>\n",
              "      <td>no</td>\n",
              "      <td>cellular</td>\n",
              "      <td>no</td>\n",
              "    </tr>\n",
              "  </tbody>\n",
              "</table>\n",
              "</div>"
            ],
            "text/plain": [
              "    age          job  education  balance loan   contact subscribed\n",
              "0  32.0   technician   tertiary      392   no  cellular         no\n",
              "1  39.0   technician  secondary      688  yes  cellular         no\n",
              "2  59.0      retired  secondary     1035  yes  cellular         no\n",
              "3  47.0  blue-collar  secondary      398  yes  cellular         no\n",
              "4  54.0      retired  secondary     1004   no  cellular         no"
            ]
          },
          "metadata": {
            "tags": []
          },
          "execution_count": 43
        }
      ]
    },
    {
      "cell_type": "code",
      "metadata": {
        "id": "zM2lfuYRisP0",
        "colab_type": "code",
        "outputId": "a2f684d1-6217-46b5-fc08-bdcc45218539",
        "colab": {
          "base_uri": "https://localhost:8080/",
          "height": 297
        }
      },
      "source": [
        "df.describe()"
      ],
      "execution_count": 44,
      "outputs": [
        {
          "output_type": "execute_result",
          "data": {
            "text/html": [
              "<div>\n",
              "<style scoped>\n",
              "    .dataframe tbody tr th:only-of-type {\n",
              "        vertical-align: middle;\n",
              "    }\n",
              "\n",
              "    .dataframe tbody tr th {\n",
              "        vertical-align: top;\n",
              "    }\n",
              "\n",
              "    .dataframe thead th {\n",
              "        text-align: right;\n",
              "    }\n",
              "</style>\n",
              "<table border=\"1\" class=\"dataframe\">\n",
              "  <thead>\n",
              "    <tr style=\"text-align: right;\">\n",
              "      <th></th>\n",
              "      <th>age</th>\n",
              "      <th>balance</th>\n",
              "    </tr>\n",
              "  </thead>\n",
              "  <tbody>\n",
              "    <tr>\n",
              "      <th>count</th>\n",
              "      <td>1988.000000</td>\n",
              "      <td>2000.000000</td>\n",
              "    </tr>\n",
              "    <tr>\n",
              "      <th>mean</th>\n",
              "      <td>41.753018</td>\n",
              "      <td>1413.663500</td>\n",
              "    </tr>\n",
              "    <tr>\n",
              "      <th>std</th>\n",
              "      <td>12.724358</td>\n",
              "      <td>3131.224213</td>\n",
              "    </tr>\n",
              "    <tr>\n",
              "      <th>min</th>\n",
              "      <td>18.000000</td>\n",
              "      <td>-980.000000</td>\n",
              "    </tr>\n",
              "    <tr>\n",
              "      <th>25%</th>\n",
              "      <td>32.000000</td>\n",
              "      <td>201.500000</td>\n",
              "    </tr>\n",
              "    <tr>\n",
              "      <th>50%</th>\n",
              "      <td>38.000000</td>\n",
              "      <td>551.000000</td>\n",
              "    </tr>\n",
              "    <tr>\n",
              "      <th>75%</th>\n",
              "      <td>50.000000</td>\n",
              "      <td>1644.500000</td>\n",
              "    </tr>\n",
              "    <tr>\n",
              "      <th>max</th>\n",
              "      <td>93.000000</td>\n",
              "      <td>81204.000000</td>\n",
              "    </tr>\n",
              "  </tbody>\n",
              "</table>\n",
              "</div>"
            ],
            "text/plain": [
              "               age       balance\n",
              "count  1988.000000   2000.000000\n",
              "mean     41.753018   1413.663500\n",
              "std      12.724358   3131.224213\n",
              "min      18.000000   -980.000000\n",
              "25%      32.000000    201.500000\n",
              "50%      38.000000    551.000000\n",
              "75%      50.000000   1644.500000\n",
              "max      93.000000  81204.000000"
            ]
          },
          "metadata": {
            "tags": []
          },
          "execution_count": 44
        }
      ]
    },
    {
      "cell_type": "markdown",
      "metadata": {
        "id": "LavqDUxQisQB",
        "colab_type": "text"
      },
      "source": [
        "The describe function treats the numeric fields of the dataset, calculating the useful statistic information such as mean, standard deviation, quartile values and max and min values for the 2000 samples.\n",
        "\n",
        "A data clean is needed on the input forms as the age is not specified for all customers.  These rows should be identified and values entered.  Age may or may not be necessary for the bank.  However, for the bank to make decisions based on age may result in a false premise if the value is not recorded for all clients in the dataset.\n",
        "\n",
        "It can be seen that the average balance amount is 1413 and the standard deviation is quite high at 3131\n",
        "\n"
      ]
    },
    {
      "cell_type": "markdown",
      "metadata": {
        "id": "abueaLicjvM2",
        "colab_type": "text"
      },
      "source": [
        "The next stage is to consider text based data and examine the individual columns for integrity.\n",
        "\n"
      ]
    },
    {
      "cell_type": "code",
      "metadata": {
        "id": "j9CBLVxuQvAC",
        "colab_type": "code",
        "colab": {
          "base_uri": "https://localhost:8080/",
          "height": 34
        },
        "outputId": "096c8219-c0a6-4145-a9d3-810a6830e235"
      },
      "source": [
        "df.shape[0]"
      ],
      "execution_count": 45,
      "outputs": [
        {
          "output_type": "execute_result",
          "data": {
            "text/plain": [
              "2000"
            ]
          },
          "metadata": {
            "tags": []
          },
          "execution_count": 45
        }
      ]
    },
    {
      "cell_type": "code",
      "metadata": {
        "id": "0au8CGfgdhFv",
        "colab_type": "code",
        "colab": {
          "base_uri": "https://localhost:8080/",
          "height": 51
        },
        "outputId": "c5e67f42-f3f7-4334-b035-5c263bc6df78"
      },
      "source": [
        "print('Percent of missing age values')\n",
        "((df['age'].isna().sum())/(df.shape[0]))*100"
      ],
      "execution_count": 46,
      "outputs": [
        {
          "output_type": "stream",
          "text": [
            "Percent of missing age values\n"
          ],
          "name": "stdout"
        },
        {
          "output_type": "execute_result",
          "data": {
            "text/plain": [
              "0.6"
            ]
          },
          "metadata": {
            "tags": []
          },
          "execution_count": 46
        }
      ]
    },
    {
      "cell_type": "code",
      "metadata": {
        "id": "D-bLv5IGisQS",
        "colab_type": "code",
        "outputId": "567de64c-1ca0-47d1-8d9a-113e945a17cf",
        "colab": {
          "base_uri": "https://localhost:8080/",
          "height": 153
        }
      },
      "source": [
        "df.dtypes"
      ],
      "execution_count": 47,
      "outputs": [
        {
          "output_type": "execute_result",
          "data": {
            "text/plain": [
              "age           float64\n",
              "job            object\n",
              "education      object\n",
              "balance         int64\n",
              "loan           object\n",
              "contact        object\n",
              "subscribed     object\n",
              "dtype: object"
            ]
          },
          "metadata": {
            "tags": []
          },
          "execution_count": 47
        }
      ]
    },
    {
      "cell_type": "code",
      "metadata": {
        "id": "S76wOF0BQfYy",
        "colab_type": "code",
        "colab": {
          "base_uri": "https://localhost:8080/",
          "height": 153
        },
        "outputId": "1edce223-69b6-4f65-a91c-535e575f0964"
      },
      "source": [
        "#now we check for missing data \n",
        "# this shows the total count for information that is missing either empty or NaN\n",
        "df.isna().sum()"
      ],
      "execution_count": 48,
      "outputs": [
        {
          "output_type": "execute_result",
          "data": {
            "text/plain": [
              "age            12\n",
              "job            10\n",
              "education     104\n",
              "balance         0\n",
              "loan            0\n",
              "contact       191\n",
              "subscribed      0\n",
              "dtype: int64"
            ]
          },
          "metadata": {
            "tags": []
          },
          "execution_count": 48
        }
      ]
    },
    {
      "cell_type": "code",
      "metadata": {
        "id": "RyS39czgWdE3",
        "colab_type": "code",
        "colab": {
          "base_uri": "https://localhost:8080/",
          "height": 153
        },
        "outputId": "529a5ab2-c72c-48a4-c0cf-5fdcaace1434"
      },
      "source": [
        "# this shows the total count for information that is missing either empty or NaN\n",
        "df.isnull().sum()"
      ],
      "execution_count": 49,
      "outputs": [
        {
          "output_type": "execute_result",
          "data": {
            "text/plain": [
              "age            12\n",
              "job            10\n",
              "education     104\n",
              "balance         0\n",
              "loan            0\n",
              "contact       191\n",
              "subscribed      0\n",
              "dtype: int64"
            ]
          },
          "metadata": {
            "tags": []
          },
          "execution_count": 49
        }
      ]
    },
    {
      "cell_type": "code",
      "metadata": {
        "id": "pWtLniwLWYps",
        "colab_type": "code",
        "colab": {
          "base_uri": "https://localhost:8080/",
          "height": 279
        },
        "outputId": "cde980e2-877e-45c1-d1f2-deb723393fe9"
      },
      "source": [
        "df.plot.scatter(x='age', y='balance')\n",
        "plt.show()"
      ],
      "execution_count": 50,
      "outputs": [
        {
          "output_type": "display_data",
          "data": {
            "image/png": "[encoded data removed]",
            "text/plain": [
              "<Figure size 432x288 with 1 Axes>"
            ]
          },
          "metadata": {
            "tags": []
          }
        }
      ]
    },
    {
      "cell_type": "markdown",
      "metadata": {
        "id": "Nygq1iC-Orqe",
        "colab_type": "text"
      },
      "source": [
        "# Analysis of columns\n",
        "Discover dataset for customers with loans"
      ]
    },
    {
      "cell_type": "code",
      "metadata": {
        "id": "iMBsDEl1PFy6",
        "colab_type": "code",
        "colab": {
          "base_uri": "https://localhost:8080/",
          "height": 269
        },
        "outputId": "1564e66f-3d18-4a8c-e448-46fc76ce016c"
      },
      "source": [
        "#correlation matrix\n",
        "sns.heatmap(df.corr());"
      ],
      "execution_count": 51,
      "outputs": [
        {
          "output_type": "display_data",
          "data": {
            "image/png": "[encoded data removed]",
            "text/plain": [
              "<Figure size 432x288 with 2 Axes>"
            ]
          },
          "metadata": {
            "tags": []
          }
        }
      ]
    },
    {
      "cell_type": "code",
      "metadata": {
        "id": "0MyL4GUONfaZ",
        "colab_type": "code",
        "colab": {
          "base_uri": "https://localhost:8080/",
          "height": 265
        },
        "outputId": "7640ba8b-eaba-4cbe-e156-78fcfa50b868"
      },
      "source": [
        "df.boxplot(column='age')\n",
        "plt.show()"
      ],
      "execution_count": 52,
      "outputs": [
        {
          "output_type": "display_data",
          "data": {
            "image/png": "[encoded data removed]",
            "text/plain": [
              "<Figure size 432x288 with 1 Axes>"
            ]
          },
          "metadata": {
            "tags": []
          }
        }
      ]
    },
    {
      "cell_type": "code",
      "metadata": {
        "id": "IR2CSvQtNh2t",
        "colab_type": "code",
        "colab": {
          "base_uri": "https://localhost:8080/",
          "height": 265
        },
        "outputId": "660ea894-6f6b-4c44-f1e8-cbeb50236834"
      },
      "source": [
        "df.boxplot(column='balance')\n",
        "plt.show()"
      ],
      "execution_count": 53,
      "outputs": [
        {
          "output_type": "display_data",
          "data": {
            "image/png": "[encoded data removed]",
            "text/plain": [
              "<Figure size 432x288 with 1 Axes>"
            ]
          },
          "metadata": {
            "tags": []
          }
        }
      ]
    },
    {
      "cell_type": "code",
      "metadata": {
        "id": "EUjZhWzzJNPJ",
        "colab_type": "code",
        "colab": {
          "base_uri": "https://localhost:8080/",
          "height": 387
        },
        "outputId": "f021ee48-0ee2-45f0-d1f5-36ddf9c5b5c0"
      },
      "source": [
        "# note that by applying the method dropna() we drop all rows with missing values \n",
        "sns.pairplot(data=df[['age','balance']].dropna())\n",
        "plt.show()"
      ],
      "execution_count": 54,
      "outputs": [
        {
          "output_type": "display_data",
          "data": {
            "image/png": "[encoded data removed]",
            "text/plain": [
              "<Figure size 360x360 with 6 Axes>"
            ]
          },
          "metadata": {
            "tags": []
          }
        }
      ]
    },
    {
      "cell_type": "code",
      "metadata": {
        "id": "jB9KJxtsKRuF",
        "colab_type": "code",
        "colab": {
          "base_uri": "https://localhost:8080/",
          "height": 255
        },
        "outputId": "0df1bc64-ebee-49d3-90c8-6883cd2dda7f"
      },
      "source": [
        "print(df['age'].count())\n",
        "print(df['age'].isnull().sum())\n",
        "print(df['age'].value_counts())"
      ],
      "execution_count": 55,
      "outputs": [
        {
          "output_type": "stream",
          "text": [
            "1988\n",
            "12\n",
            "33.0    95\n",
            "35.0    90\n",
            "31.0    87\n",
            "34.0    84\n",
            "32.0    77\n",
            "        ..\n",
            "86.0     2\n",
            "76.0     2\n",
            "81.0     2\n",
            "18.0     1\n",
            "79.0     1\n",
            "Name: age, Length: 68, dtype: int64\n"
          ],
          "name": "stdout"
        }
      ]
    },
    {
      "cell_type": "code",
      "metadata": {
        "id": "IRvccNNCLIg1",
        "colab_type": "code",
        "colab": {
          "base_uri": "https://localhost:8080/",
          "height": 255
        },
        "outputId": "169ca18b-2f20-4a9d-b74e-99e5e35b9a68"
      },
      "source": [
        "print(df['job'].count())\n",
        "print(df['job'].isnull().sum())\n",
        "print(df['job'].value_counts())\n"
      ],
      "execution_count": 56,
      "outputs": [
        {
          "output_type": "stream",
          "text": [
            "1990\n",
            "10\n",
            "management       461\n",
            "technician       348\n",
            "blue-collar      298\n",
            "admin.           247\n",
            "services         165\n",
            "retired          162\n",
            "student           96\n",
            "unemployed        69\n",
            "self-employed     64\n",
            "entrepreneur      45\n",
            "housemaid         35\n",
            "Name: job, dtype: int64\n"
          ],
          "name": "stdout"
        }
      ]
    },
    {
      "cell_type": "code",
      "metadata": {
        "id": "9TtfWzwFisQW",
        "colab_type": "code",
        "outputId": "71a4e51b-2fff-4863-b873-8ca6deace529",
        "colab": {
          "base_uri": "https://localhost:8080/",
          "height": 119
        }
      },
      "source": [
        "print(df['education'].count())\n",
        "print(df['education'].isnull().sum())\n",
        "print(df['education'].value_counts())"
      ],
      "execution_count": 57,
      "outputs": [
        {
          "output_type": "stream",
          "text": [
            "1896\n",
            "104\n",
            "secondary    995\n",
            "tertiary     684\n",
            "primary      217\n",
            "Name: education, dtype: int64\n"
          ],
          "name": "stdout"
        }
      ]
    },
    {
      "cell_type": "code",
      "metadata": {
        "id": "K5G64XzrNzjp",
        "colab_type": "code",
        "colab": {
          "base_uri": "https://localhost:8080/",
          "height": 102
        },
        "outputId": "f84c3fb7-9653-42d8-eeb3-b5a041d22ab5"
      },
      "source": [
        "print(df['loan'].count())\n",
        "print(df['loan'].isnull().sum())\n",
        "print(df['loan'].value_counts())"
      ],
      "execution_count": 58,
      "outputs": [
        {
          "output_type": "stream",
          "text": [
            "2000\n",
            "0\n",
            "no     1750\n",
            "yes     250\n",
            "Name: loan, dtype: int64\n"
          ],
          "name": "stdout"
        }
      ]
    },
    {
      "cell_type": "code",
      "metadata": {
        "id": "p406srNLN8HW",
        "colab_type": "code",
        "colab": {
          "base_uri": "https://localhost:8080/",
          "height": 102
        },
        "outputId": "97533106-c787-40af-89a9-fcf8cf8ddd31"
      },
      "source": [
        "print(df['contact'].count())\n",
        "print(df['contact'].isnull().sum())\n",
        "print(df['contact'].value_counts())"
      ],
      "execution_count": 59,
      "outputs": [
        {
          "output_type": "stream",
          "text": [
            "1809\n",
            "191\n",
            "cellular     1663\n",
            "telephone     146\n",
            "Name: contact, dtype: int64\n"
          ],
          "name": "stdout"
        }
      ]
    },
    {
      "cell_type": "code",
      "metadata": {
        "id": "O4YMch9beWUV",
        "colab_type": "code",
        "colab": {
          "base_uri": "https://localhost:8080/",
          "height": 102
        },
        "outputId": "02b33945-0120-4cbb-9d77-8d4ea2c8ef47"
      },
      "source": [
        "print(df['subscribed'].count())\n",
        "print(df['subscribed'].isnull().sum())\n",
        "print(df['subscribed'].value_counts())"
      ],
      "execution_count": 60,
      "outputs": [
        {
          "output_type": "stream",
          "text": [
            "2000\n",
            "0\n",
            "no     1000\n",
            "yes    1000\n",
            "Name: subscribed, dtype: int64\n"
          ],
          "name": "stdout"
        }
      ]
    },
    {
      "cell_type": "code",
      "metadata": {
        "id": "i-Ddu7pAXeqR",
        "colab_type": "code",
        "outputId": "1b0c6bf1-2b8c-4bc5-d33c-4c6196294ac3",
        "colab": {
          "base_uri": "https://localhost:8080/",
          "height": 282
        }
      },
      "source": [
        "df['balance'].hist(bins=50)"
      ],
      "execution_count": 61,
      "outputs": [
        {
          "output_type": "execute_result",
          "data": {
            "text/plain": [
              "<matplotlib.axes._subplots.AxesSubplot at 0x7f8339be8f60>"
            ]
          },
          "metadata": {
            "tags": []
          },
          "execution_count": 61
        },
        {
          "output_type": "display_data",
          "data": {
            "image/png": "[encoded data removed]",
            "text/plain": [
              "<Figure size 432x288 with 1 Axes>"
            ]
          },
          "metadata": {
            "tags": []
          }
        }
      ]
    },
    {
      "cell_type": "code",
      "metadata": {
        "id": "E_FdxLLLeqpS",
        "colab_type": "code",
        "colab": {}
      },
      "source": [
        ""
      ],
      "execution_count": 0,
      "outputs": []
    },
    {
      "cell_type": "markdown",
      "metadata": {
        "id": "oaiFN1EIkg9c",
        "colab_type": "text"
      },
      "source": [
        "## Mote pattern checks"
      ]
    },
    {
      "cell_type": "code",
      "metadata": {
        "id": "MXAUTEp1iI55",
        "colab_type": "code",
        "colab": {
          "base_uri": "https://localhost:8080/",
          "height": 408
        },
        "outputId": "513e6367-a54e-467b-ebcf-08b7cff2bd2c"
      },
      "source": [
        "test = df.groupby(['job','loan'])\n",
        "test.size()"
      ],
      "execution_count": 66,
      "outputs": [
        {
          "output_type": "execute_result",
          "data": {
            "text/plain": [
              "job            loan\n",
              "admin.         no      212\n",
              "               yes      35\n",
              "blue-collar    no      255\n",
              "               yes      43\n",
              "entrepreneur   no       35\n",
              "               yes      10\n",
              "housemaid      no       34\n",
              "               yes       1\n",
              "management     no      411\n",
              "               yes      50\n",
              "retired        no      148\n",
              "               yes      14\n",
              "self-employed  no       56\n",
              "               yes       8\n",
              "services       no      137\n",
              "               yes      28\n",
              "student        no       96\n",
              "technician     no      294\n",
              "               yes      54\n",
              "unemployed     no       62\n",
              "               yes       7\n",
              "dtype: int64"
            ]
          },
          "metadata": {
            "tags": []
          },
          "execution_count": 66
        }
      ]
    },
    {
      "cell_type": "markdown",
      "metadata": {
        "id": "Vp2PCl_4jZE9",
        "colab_type": "text"
      },
      "source": [
        "sample set"
      ]
    },
    {
      "cell_type": "code",
      "metadata": {
        "id": "GAlZwYpGjbYP",
        "colab_type": "code",
        "colab": {
          "base_uri": "https://localhost:8080/",
          "height": 489
        },
        "outputId": "5a7eb60c-81be-4d58-e7e3-0c7fcbbaae1f"
      },
      "source": [
        "test = df.groupby(['job'])\n",
        "test.describe()"
      ],
      "execution_count": 77,
      "outputs": [
        {
          "output_type": "execute_result",
          "data": {
            "text/html": [
              "<div>\n",
              "<style scoped>\n",
              "    .dataframe tbody tr th:only-of-type {\n",
              "        vertical-align: middle;\n",
              "    }\n",
              "\n",
              "    .dataframe tbody tr th {\n",
              "        vertical-align: top;\n",
              "    }\n",
              "\n",
              "    .dataframe thead tr th {\n",
              "        text-align: left;\n",
              "    }\n",
              "\n",
              "    .dataframe thead tr:last-of-type th {\n",
              "        text-align: right;\n",
              "    }\n",
              "</style>\n",
              "<table border=\"1\" class=\"dataframe\">\n",
              "  <thead>\n",
              "    <tr>\n",
              "      <th></th>\n",
              "      <th colspan=\"8\" halign=\"left\">age</th>\n",
              "      <th colspan=\"8\" halign=\"left\">balance</th>\n",
              "    </tr>\n",
              "    <tr>\n",
              "      <th></th>\n",
              "      <th>count</th>\n",
              "      <th>mean</th>\n",
              "      <th>std</th>\n",
              "      <th>min</th>\n",
              "      <th>25%</th>\n",
              "      <th>50%</th>\n",
              "      <th>75%</th>\n",
              "      <th>max</th>\n",
              "      <th>count</th>\n",
              "      <th>mean</th>\n",
              "      <th>std</th>\n",
              "      <th>min</th>\n",
              "      <th>25%</th>\n",
              "      <th>50%</th>\n",
              "      <th>75%</th>\n",
              "      <th>max</th>\n",
              "    </tr>\n",
              "    <tr>\n",
              "      <th>job</th>\n",
              "      <th></th>\n",
              "      <th></th>\n",
              "      <th></th>\n",
              "      <th></th>\n",
              "      <th></th>\n",
              "      <th></th>\n",
              "      <th></th>\n",
              "      <th></th>\n",
              "      <th></th>\n",
              "      <th></th>\n",
              "      <th></th>\n",
              "      <th></th>\n",
              "      <th></th>\n",
              "      <th></th>\n",
              "      <th></th>\n",
              "      <th></th>\n",
              "    </tr>\n",
              "  </thead>\n",
              "  <tbody>\n",
              "    <tr>\n",
              "      <th>admin.</th>\n",
              "      <td>246.0</td>\n",
              "      <td>40.910569</td>\n",
              "      <td>10.157139</td>\n",
              "      <td>22.0</td>\n",
              "      <td>33.0</td>\n",
              "      <td>39.0</td>\n",
              "      <td>48.0</td>\n",
              "      <td>72.0</td>\n",
              "      <td>247.0</td>\n",
              "      <td>1180.283401</td>\n",
              "      <td>1897.398373</td>\n",
              "      <td>-498.0</td>\n",
              "      <td>182.50</td>\n",
              "      <td>464.0</td>\n",
              "      <td>1295.00</td>\n",
              "      <td>14968.0</td>\n",
              "    </tr>\n",
              "    <tr>\n",
              "      <th>blue-collar</th>\n",
              "      <td>297.0</td>\n",
              "      <td>39.754209</td>\n",
              "      <td>9.340600</td>\n",
              "      <td>25.0</td>\n",
              "      <td>33.0</td>\n",
              "      <td>38.0</td>\n",
              "      <td>46.0</td>\n",
              "      <td>63.0</td>\n",
              "      <td>298.0</td>\n",
              "      <td>737.295302</td>\n",
              "      <td>1347.420384</td>\n",
              "      <td>-768.0</td>\n",
              "      <td>100.50</td>\n",
              "      <td>360.0</td>\n",
              "      <td>877.75</td>\n",
              "      <td>15341.0</td>\n",
              "    </tr>\n",
              "    <tr>\n",
              "      <th>entrepreneur</th>\n",
              "      <td>45.0</td>\n",
              "      <td>43.733333</td>\n",
              "      <td>10.888693</td>\n",
              "      <td>21.0</td>\n",
              "      <td>36.0</td>\n",
              "      <td>44.0</td>\n",
              "      <td>54.0</td>\n",
              "      <td>65.0</td>\n",
              "      <td>45.0</td>\n",
              "      <td>1143.000000</td>\n",
              "      <td>1578.811334</td>\n",
              "      <td>-274.0</td>\n",
              "      <td>122.00</td>\n",
              "      <td>351.0</td>\n",
              "      <td>1631.00</td>\n",
              "      <td>6403.0</td>\n",
              "    </tr>\n",
              "    <tr>\n",
              "      <th>housemaid</th>\n",
              "      <td>35.0</td>\n",
              "      <td>47.314286</td>\n",
              "      <td>13.457496</td>\n",
              "      <td>22.0</td>\n",
              "      <td>35.0</td>\n",
              "      <td>48.0</td>\n",
              "      <td>55.0</td>\n",
              "      <td>82.0</td>\n",
              "      <td>35.0</td>\n",
              "      <td>2327.914286</td>\n",
              "      <td>5004.958632</td>\n",
              "      <td>-184.0</td>\n",
              "      <td>56.50</td>\n",
              "      <td>605.0</td>\n",
              "      <td>2071.50</td>\n",
              "      <td>26965.0</td>\n",
              "    </tr>\n",
              "    <tr>\n",
              "      <th>management</th>\n",
              "      <td>458.0</td>\n",
              "      <td>40.196507</td>\n",
              "      <td>10.026913</td>\n",
              "      <td>22.0</td>\n",
              "      <td>33.0</td>\n",
              "      <td>37.0</td>\n",
              "      <td>47.0</td>\n",
              "      <td>78.0</td>\n",
              "      <td>461.0</td>\n",
              "      <td>1768.227766</td>\n",
              "      <td>3391.802496</td>\n",
              "      <td>-980.0</td>\n",
              "      <td>275.00</td>\n",
              "      <td>698.0</td>\n",
              "      <td>2016.00</td>\n",
              "      <td>31472.0</td>\n",
              "    </tr>\n",
              "    <tr>\n",
              "      <th>retired</th>\n",
              "      <td>161.0</td>\n",
              "      <td>67.049689</td>\n",
              "      <td>8.954609</td>\n",
              "      <td>40.0</td>\n",
              "      <td>60.0</td>\n",
              "      <td>67.0</td>\n",
              "      <td>73.0</td>\n",
              "      <td>93.0</td>\n",
              "      <td>162.0</td>\n",
              "      <td>2792.456790</td>\n",
              "      <td>7242.589061</td>\n",
              "      <td>-464.0</td>\n",
              "      <td>468.50</td>\n",
              "      <td>1242.5</td>\n",
              "      <td>2809.25</td>\n",
              "      <td>81204.0</td>\n",
              "    </tr>\n",
              "    <tr>\n",
              "      <th>self-employed</th>\n",
              "      <td>61.0</td>\n",
              "      <td>39.655738</td>\n",
              "      <td>12.228226</td>\n",
              "      <td>22.0</td>\n",
              "      <td>30.0</td>\n",
              "      <td>35.0</td>\n",
              "      <td>48.0</td>\n",
              "      <td>76.0</td>\n",
              "      <td>64.0</td>\n",
              "      <td>1251.734375</td>\n",
              "      <td>2024.289750</td>\n",
              "      <td>-80.0</td>\n",
              "      <td>211.50</td>\n",
              "      <td>655.0</td>\n",
              "      <td>1508.75</td>\n",
              "      <td>10861.0</td>\n",
              "    </tr>\n",
              "    <tr>\n",
              "      <th>services</th>\n",
              "      <td>164.0</td>\n",
              "      <td>38.170732</td>\n",
              "      <td>8.993938</td>\n",
              "      <td>22.0</td>\n",
              "      <td>31.0</td>\n",
              "      <td>36.0</td>\n",
              "      <td>45.0</td>\n",
              "      <td>60.0</td>\n",
              "      <td>165.0</td>\n",
              "      <td>1042.030303</td>\n",
              "      <td>1660.032377</td>\n",
              "      <td>-244.0</td>\n",
              "      <td>193.00</td>\n",
              "      <td>453.0</td>\n",
              "      <td>1099.00</td>\n",
              "      <td>11650.0</td>\n",
              "    </tr>\n",
              "    <tr>\n",
              "      <th>student</th>\n",
              "      <td>95.0</td>\n",
              "      <td>25.673684</td>\n",
              "      <td>4.420557</td>\n",
              "      <td>18.0</td>\n",
              "      <td>23.0</td>\n",
              "      <td>25.0</td>\n",
              "      <td>28.0</td>\n",
              "      <td>46.0</td>\n",
              "      <td>96.0</td>\n",
              "      <td>1591.760417</td>\n",
              "      <td>2053.537224</td>\n",
              "      <td>-41.0</td>\n",
              "      <td>296.25</td>\n",
              "      <td>828.0</td>\n",
              "      <td>1933.00</td>\n",
              "      <td>13107.0</td>\n",
              "    </tr>\n",
              "    <tr>\n",
              "      <th>technician</th>\n",
              "      <td>347.0</td>\n",
              "      <td>40.293948</td>\n",
              "      <td>9.781724</td>\n",
              "      <td>22.0</td>\n",
              "      <td>33.0</td>\n",
              "      <td>38.0</td>\n",
              "      <td>47.5</td>\n",
              "      <td>71.0</td>\n",
              "      <td>348.0</td>\n",
              "      <td>1199.683908</td>\n",
              "      <td>2141.403811</td>\n",
              "      <td>-735.0</td>\n",
              "      <td>192.50</td>\n",
              "      <td>481.0</td>\n",
              "      <td>1284.50</td>\n",
              "      <td>16992.0</td>\n",
              "    </tr>\n",
              "    <tr>\n",
              "      <th>unemployed</th>\n",
              "      <td>69.0</td>\n",
              "      <td>39.405797</td>\n",
              "      <td>9.895511</td>\n",
              "      <td>22.0</td>\n",
              "      <td>32.0</td>\n",
              "      <td>39.0</td>\n",
              "      <td>43.0</td>\n",
              "      <td>60.0</td>\n",
              "      <td>69.0</td>\n",
              "      <td>1158.028986</td>\n",
              "      <td>1580.489025</td>\n",
              "      <td>-581.0</td>\n",
              "      <td>129.00</td>\n",
              "      <td>771.0</td>\n",
              "      <td>1416.00</td>\n",
              "      <td>7968.0</td>\n",
              "    </tr>\n",
              "  </tbody>\n",
              "</table>\n",
              "</div>"
            ],
            "text/plain": [
              "                 age                        ... balance                  \n",
              "               count       mean        std  ...     50%      75%      max\n",
              "job                                         ...                          \n",
              "admin.         246.0  40.910569  10.157139  ...   464.0  1295.00  14968.0\n",
              "blue-collar    297.0  39.754209   9.340600  ...   360.0   877.75  15341.0\n",
              "entrepreneur    45.0  43.733333  10.888693  ...   351.0  1631.00   6403.0\n",
              "housemaid       35.0  47.314286  13.457496  ...   605.0  2071.50  26965.0\n",
              "management     458.0  40.196507  10.026913  ...   698.0  2016.00  31472.0\n",
              "retired        161.0  67.049689   8.954609  ...  1242.5  2809.25  81204.0\n",
              "self-employed   61.0  39.655738  12.228226  ...   655.0  1508.75  10861.0\n",
              "services       164.0  38.170732   8.993938  ...   453.0  1099.00  11650.0\n",
              "student         95.0  25.673684   4.420557  ...   828.0  1933.00  13107.0\n",
              "technician     347.0  40.293948   9.781724  ...   481.0  1284.50  16992.0\n",
              "unemployed      69.0  39.405797   9.895511  ...   771.0  1416.00   7968.0\n",
              "\n",
              "[11 rows x 16 columns]"
            ]
          },
          "metadata": {
            "tags": []
          },
          "execution_count": 77
        }
      ]
    },
    {
      "cell_type": "code",
      "metadata": {
        "id": "PajtRp91o8G8",
        "colab_type": "code",
        "colab": {
          "base_uri": "https://localhost:8080/",
          "height": 224
        },
        "outputId": "82e44682-123f-4308-9190-fb530c656809"
      },
      "source": [
        "test = df.groupby(['education'])\n",
        "test.describe()"
      ],
      "execution_count": 78,
      "outputs": [
        {
          "output_type": "execute_result",
          "data": {
            "text/html": [
              "<div>\n",
              "<style scoped>\n",
              "    .dataframe tbody tr th:only-of-type {\n",
              "        vertical-align: middle;\n",
              "    }\n",
              "\n",
              "    .dataframe tbody tr th {\n",
              "        vertical-align: top;\n",
              "    }\n",
              "\n",
              "    .dataframe thead tr th {\n",
              "        text-align: left;\n",
              "    }\n",
              "\n",
              "    .dataframe thead tr:last-of-type th {\n",
              "        text-align: right;\n",
              "    }\n",
              "</style>\n",
              "<table border=\"1\" class=\"dataframe\">\n",
              "  <thead>\n",
              "    <tr>\n",
              "      <th></th>\n",
              "      <th colspan=\"8\" halign=\"left\">age</th>\n",
              "      <th colspan=\"8\" halign=\"left\">balance</th>\n",
              "    </tr>\n",
              "    <tr>\n",
              "      <th></th>\n",
              "      <th>count</th>\n",
              "      <th>mean</th>\n",
              "      <th>std</th>\n",
              "      <th>min</th>\n",
              "      <th>25%</th>\n",
              "      <th>50%</th>\n",
              "      <th>75%</th>\n",
              "      <th>max</th>\n",
              "      <th>count</th>\n",
              "      <th>mean</th>\n",
              "      <th>std</th>\n",
              "      <th>min</th>\n",
              "      <th>25%</th>\n",
              "      <th>50%</th>\n",
              "      <th>75%</th>\n",
              "      <th>max</th>\n",
              "    </tr>\n",
              "    <tr>\n",
              "      <th>education</th>\n",
              "      <th></th>\n",
              "      <th></th>\n",
              "      <th></th>\n",
              "      <th></th>\n",
              "      <th></th>\n",
              "      <th></th>\n",
              "      <th></th>\n",
              "      <th></th>\n",
              "      <th></th>\n",
              "      <th></th>\n",
              "      <th></th>\n",
              "      <th></th>\n",
              "      <th></th>\n",
              "      <th></th>\n",
              "      <th></th>\n",
              "      <th></th>\n",
              "    </tr>\n",
              "  </thead>\n",
              "  <tbody>\n",
              "    <tr>\n",
              "      <th>primary</th>\n",
              "      <td>216.0</td>\n",
              "      <td>50.750000</td>\n",
              "      <td>15.215124</td>\n",
              "      <td>19.0</td>\n",
              "      <td>40.0</td>\n",
              "      <td>49.5</td>\n",
              "      <td>60.0</td>\n",
              "      <td>86.0</td>\n",
              "      <td>217.0</td>\n",
              "      <td>1513.262673</td>\n",
              "      <td>3681.219279</td>\n",
              "      <td>-768.0</td>\n",
              "      <td>134.0</td>\n",
              "      <td>449.0</td>\n",
              "      <td>1452.0</td>\n",
              "      <td>29340.0</td>\n",
              "    </tr>\n",
              "    <tr>\n",
              "      <th>secondary</th>\n",
              "      <td>991.0</td>\n",
              "      <td>41.262361</td>\n",
              "      <td>12.024713</td>\n",
              "      <td>19.0</td>\n",
              "      <td>32.0</td>\n",
              "      <td>38.0</td>\n",
              "      <td>49.0</td>\n",
              "      <td>84.0</td>\n",
              "      <td>995.0</td>\n",
              "      <td>1220.836181</td>\n",
              "      <td>3100.896363</td>\n",
              "      <td>-735.0</td>\n",
              "      <td>194.0</td>\n",
              "      <td>505.0</td>\n",
              "      <td>1409.5</td>\n",
              "      <td>81204.0</td>\n",
              "    </tr>\n",
              "    <tr>\n",
              "      <th>tertiary</th>\n",
              "      <td>677.0</td>\n",
              "      <td>39.146233</td>\n",
              "      <td>10.741621</td>\n",
              "      <td>21.0</td>\n",
              "      <td>31.0</td>\n",
              "      <td>36.0</td>\n",
              "      <td>46.0</td>\n",
              "      <td>84.0</td>\n",
              "      <td>684.0</td>\n",
              "      <td>1667.609649</td>\n",
              "      <td>3130.537368</td>\n",
              "      <td>-980.0</td>\n",
              "      <td>224.0</td>\n",
              "      <td>629.5</td>\n",
              "      <td>1857.5</td>\n",
              "      <td>31472.0</td>\n",
              "    </tr>\n",
              "  </tbody>\n",
              "</table>\n",
              "</div>"
            ],
            "text/plain": [
              "             age                              ... balance                        \n",
              "           count       mean        std   min  ...     25%    50%     75%      max\n",
              "education                                     ...                                \n",
              "primary    216.0  50.750000  15.215124  19.0  ...   134.0  449.0  1452.0  29340.0\n",
              "secondary  991.0  41.262361  12.024713  19.0  ...   194.0  505.0  1409.5  81204.0\n",
              "tertiary   677.0  39.146233  10.741621  21.0  ...   224.0  629.5  1857.5  31472.0\n",
              "\n",
              "[3 rows x 16 columns]"
            ]
          },
          "metadata": {
            "tags": []
          },
          "execution_count": 78
        }
      ]
    },
    {
      "cell_type": "code",
      "metadata": {
        "id": "HkDJji7Gp2va",
        "colab_type": "code",
        "colab": {
          "base_uri": "https://localhost:8080/",
          "height": 193
        },
        "outputId": "8b14067f-5512-4a8d-a55e-68791f747d63"
      },
      "source": [
        "test = df.groupby(['subscribed'])\n",
        "test.describe()"
      ],
      "execution_count": 79,
      "outputs": [
        {
          "output_type": "execute_result",
          "data": {
            "text/html": [
              "<div>\n",
              "<style scoped>\n",
              "    .dataframe tbody tr th:only-of-type {\n",
              "        vertical-align: middle;\n",
              "    }\n",
              "\n",
              "    .dataframe tbody tr th {\n",
              "        vertical-align: top;\n",
              "    }\n",
              "\n",
              "    .dataframe thead tr th {\n",
              "        text-align: left;\n",
              "    }\n",
              "\n",
              "    .dataframe thead tr:last-of-type th {\n",
              "        text-align: right;\n",
              "    }\n",
              "</style>\n",
              "<table border=\"1\" class=\"dataframe\">\n",
              "  <thead>\n",
              "    <tr>\n",
              "      <th></th>\n",
              "      <th colspan=\"8\" halign=\"left\">age</th>\n",
              "      <th colspan=\"8\" halign=\"left\">balance</th>\n",
              "    </tr>\n",
              "    <tr>\n",
              "      <th></th>\n",
              "      <th>count</th>\n",
              "      <th>mean</th>\n",
              "      <th>std</th>\n",
              "      <th>min</th>\n",
              "      <th>25%</th>\n",
              "      <th>50%</th>\n",
              "      <th>75%</th>\n",
              "      <th>max</th>\n",
              "      <th>count</th>\n",
              "      <th>mean</th>\n",
              "      <th>std</th>\n",
              "      <th>min</th>\n",
              "      <th>25%</th>\n",
              "      <th>50%</th>\n",
              "      <th>75%</th>\n",
              "      <th>max</th>\n",
              "    </tr>\n",
              "    <tr>\n",
              "      <th>subscribed</th>\n",
              "      <th></th>\n",
              "      <th></th>\n",
              "      <th></th>\n",
              "      <th></th>\n",
              "      <th></th>\n",
              "      <th></th>\n",
              "      <th></th>\n",
              "      <th></th>\n",
              "      <th></th>\n",
              "      <th></th>\n",
              "      <th></th>\n",
              "      <th></th>\n",
              "      <th></th>\n",
              "      <th></th>\n",
              "      <th></th>\n",
              "      <th></th>\n",
              "    </tr>\n",
              "  </thead>\n",
              "  <tbody>\n",
              "    <tr>\n",
              "      <th>no</th>\n",
              "      <td>991.0</td>\n",
              "      <td>40.655903</td>\n",
              "      <td>9.192425</td>\n",
              "      <td>22.0</td>\n",
              "      <td>33.0</td>\n",
              "      <td>39.0</td>\n",
              "      <td>48.0</td>\n",
              "      <td>64.0</td>\n",
              "      <td>1000.0</td>\n",
              "      <td>942.862</td>\n",
              "      <td>2007.134003</td>\n",
              "      <td>-980.0</td>\n",
              "      <td>114.75</td>\n",
              "      <td>393.0</td>\n",
              "      <td>970.25</td>\n",
              "      <td>26306.0</td>\n",
              "    </tr>\n",
              "    <tr>\n",
              "      <th>yes</th>\n",
              "      <td>997.0</td>\n",
              "      <td>42.843531</td>\n",
              "      <td>15.382656</td>\n",
              "      <td>18.0</td>\n",
              "      <td>31.0</td>\n",
              "      <td>38.0</td>\n",
              "      <td>54.0</td>\n",
              "      <td>93.0</td>\n",
              "      <td>1000.0</td>\n",
              "      <td>1884.465</td>\n",
              "      <td>3891.864047</td>\n",
              "      <td>-205.0</td>\n",
              "      <td>315.00</td>\n",
              "      <td>875.0</td>\n",
              "      <td>2304.50</td>\n",
              "      <td>81204.0</td>\n",
              "    </tr>\n",
              "  </tbody>\n",
              "</table>\n",
              "</div>"
            ],
            "text/plain": [
              "              age                              ... balance                         \n",
              "            count       mean        std   min  ...     25%    50%      75%      max\n",
              "subscribed                                     ...                                 \n",
              "no          991.0  40.655903   9.192425  22.0  ...  114.75  393.0   970.25  26306.0\n",
              "yes         997.0  42.843531  15.382656  18.0  ...  315.00  875.0  2304.50  81204.0\n",
              "\n",
              "[2 rows x 16 columns]"
            ]
          },
          "metadata": {
            "tags": []
          },
          "execution_count": 79
        }
      ]
    },
    {
      "cell_type": "code",
      "metadata": {
        "id": "YJxBU763quXH",
        "colab_type": "code",
        "colab": {
          "base_uri": "https://localhost:8080/",
          "height": 198
        },
        "outputId": "33b2c511-833a-4fa7-e484-5a599ea017e7"
      },
      "source": [
        "#s1=pd.Series(df.education)\n",
        "#s2=pd.Series(df.balance)\n",
        "#s1.corr(s2,method=pearson)"
      ],
      "execution_count": 85,
      "outputs": [
        {
          "output_type": "error",
          "ename": "NameError",
          "evalue": "ignored",
          "traceback": [
            "\u001b[0;31m---------------------------------------------------------------------------\u001b[0m",
            "\u001b[0;31mNameError\u001b[0m                                 Traceback (most recent call last)",
            "\u001b[0;32m<ipython-input-85-f80ffee99c53>\u001b[0m in \u001b[0;36m<module>\u001b[0;34m()\u001b[0m\n\u001b[1;32m      1\u001b[0m \u001b[0ms1\u001b[0m\u001b[0;34m=\u001b[0m\u001b[0mpd\u001b[0m\u001b[0;34m.\u001b[0m\u001b[0mSeries\u001b[0m\u001b[0;34m(\u001b[0m\u001b[0mdf\u001b[0m\u001b[0;34m.\u001b[0m\u001b[0meducation\u001b[0m\u001b[0;34m)\u001b[0m\u001b[0;34m\u001b[0m\u001b[0;34m\u001b[0m\u001b[0m\n\u001b[1;32m      2\u001b[0m \u001b[0ms2\u001b[0m\u001b[0;34m=\u001b[0m\u001b[0mpd\u001b[0m\u001b[0;34m.\u001b[0m\u001b[0mSeries\u001b[0m\u001b[0;34m(\u001b[0m\u001b[0mdf\u001b[0m\u001b[0;34m.\u001b[0m\u001b[0mbalance\u001b[0m\u001b[0;34m)\u001b[0m\u001b[0;34m\u001b[0m\u001b[0;34m\u001b[0m\u001b[0m\n\u001b[0;32m----> 3\u001b[0;31m \u001b[0ms1\u001b[0m\u001b[0;34m.\u001b[0m\u001b[0mcorr\u001b[0m\u001b[0;34m(\u001b[0m\u001b[0ms2\u001b[0m\u001b[0;34m,\u001b[0m\u001b[0mmethod\u001b[0m\u001b[0;34m=\u001b[0m\u001b[0mpearson\u001b[0m\u001b[0;34m)\u001b[0m\u001b[0;34m\u001b[0m\u001b[0;34m\u001b[0m\u001b[0m\n\u001b[0m",
            "\u001b[0;31mNameError\u001b[0m: name 'pearson' is not defined"
          ]
        }
      ]
    }
  ]
}